{
  "nbformat": 4,
  "nbformat_minor": 0,
  "metadata": {
    "colab": {
      "name": "Assignment2.ipynb",
      "provenance": [],
      "collapsed_sections": [
        "EwlBZb9qD3wl",
        "V2szUxYHFIey",
        "nOhp4DTEFnqZ",
        "o0aKJXSULC80",
        "1ursLG_9LNx6",
        "qUX-f0R4ZSrZ",
        "6x4kXJpxdYVe",
        "-xRm260idf8n",
        "yAP4EIjRdn4e",
        "7iqgw-D7dvXQ"
      ]
    },
    "kernelspec": {
      "name": "python3",
      "display_name": "Python 3"
    },
    "language_info": {
      "name": "python"
    }
  },
  "cells": [
    {
      "cell_type": "markdown",
      "metadata": {
        "id": "b1r1S5CcDdZO"
      },
      "source": [
        "# Data Retrieving"
      ]
    },
    {
      "cell_type": "code",
      "metadata": {
        "id": "G4e1WFx8H_bO"
      },
      "source": [
        "import pandas as pd"
      ],
      "execution_count": null,
      "outputs": []
    },
    {
      "cell_type": "code",
      "metadata": {
        "id": "7IHJMnmqNTS-"
      },
      "source": [
        "heart_data = pd.read_csv(\"heart_failure_clinical_records_dataset.csv\", sep=\",\", decimal = \".\") "
      ],
      "execution_count": null,
      "outputs": []
    },
    {
      "cell_type": "code",
      "metadata": {
        "id": "yJHV15jLOWdd",
        "colab": {
          "base_uri": "https://localhost:8080/"
        },
        "outputId": "c9eb0300-d832-4b3f-f90b-28094bed3f62"
      },
      "source": [
        "heart_data.head() "
      ],
      "execution_count": null,
      "outputs": [
        {
          "output_type": "execute_result",
          "data": {
            "text/html": [
              "<div>\n",
              "<style scoped>\n",
              "    .dataframe tbody tr th:only-of-type {\n",
              "        vertical-align: middle;\n",
              "    }\n",
              "\n",
              "    .dataframe tbody tr th {\n",
              "        vertical-align: top;\n",
              "    }\n",
              "\n",
              "    .dataframe thead th {\n",
              "        text-align: right;\n",
              "    }\n",
              "</style>\n",
              "<table border=\"1\" class=\"dataframe\">\n",
              "  <thead>\n",
              "    <tr style=\"text-align: right;\">\n",
              "      <th></th>\n",
              "      <th>age</th>\n",
              "      <th>anaemia</th>\n",
              "      <th>creatinine_phosphokinase</th>\n",
              "      <th>diabetes</th>\n",
              "      <th>ejection_fraction</th>\n",
              "      <th>high_blood_pressure</th>\n",
              "      <th>platelets</th>\n",
              "      <th>serum_creatinine</th>\n",
              "      <th>serum_sodium</th>\n",
              "      <th>sex</th>\n",
              "      <th>smoking</th>\n",
              "      <th>time</th>\n",
              "      <th>DEATH_EVENT</th>\n",
              "    </tr>\n",
              "  </thead>\n",
              "  <tbody>\n",
              "    <tr>\n",
              "      <th>0</th>\n",
              "      <td>75.0</td>\n",
              "      <td>0</td>\n",
              "      <td>582</td>\n",
              "      <td>0</td>\n",
              "      <td>20</td>\n",
              "      <td>1</td>\n",
              "      <td>265000.00</td>\n",
              "      <td>1.9</td>\n",
              "      <td>130</td>\n",
              "      <td>1</td>\n",
              "      <td>0</td>\n",
              "      <td>4</td>\n",
              "      <td>1</td>\n",
              "    </tr>\n",
              "    <tr>\n",
              "      <th>1</th>\n",
              "      <td>55.0</td>\n",
              "      <td>0</td>\n",
              "      <td>7861</td>\n",
              "      <td>0</td>\n",
              "      <td>38</td>\n",
              "      <td>0</td>\n",
              "      <td>263358.03</td>\n",
              "      <td>1.1</td>\n",
              "      <td>136</td>\n",
              "      <td>1</td>\n",
              "      <td>0</td>\n",
              "      <td>6</td>\n",
              "      <td>1</td>\n",
              "    </tr>\n",
              "    <tr>\n",
              "      <th>2</th>\n",
              "      <td>65.0</td>\n",
              "      <td>0</td>\n",
              "      <td>146</td>\n",
              "      <td>0</td>\n",
              "      <td>20</td>\n",
              "      <td>0</td>\n",
              "      <td>162000.00</td>\n",
              "      <td>1.3</td>\n",
              "      <td>129</td>\n",
              "      <td>1</td>\n",
              "      <td>1</td>\n",
              "      <td>7</td>\n",
              "      <td>1</td>\n",
              "    </tr>\n",
              "    <tr>\n",
              "      <th>3</th>\n",
              "      <td>50.0</td>\n",
              "      <td>1</td>\n",
              "      <td>111</td>\n",
              "      <td>0</td>\n",
              "      <td>20</td>\n",
              "      <td>0</td>\n",
              "      <td>210000.00</td>\n",
              "      <td>1.9</td>\n",
              "      <td>137</td>\n",
              "      <td>1</td>\n",
              "      <td>0</td>\n",
              "      <td>7</td>\n",
              "      <td>1</td>\n",
              "    </tr>\n",
              "    <tr>\n",
              "      <th>4</th>\n",
              "      <td>65.0</td>\n",
              "      <td>1</td>\n",
              "      <td>160</td>\n",
              "      <td>1</td>\n",
              "      <td>20</td>\n",
              "      <td>0</td>\n",
              "      <td>327000.00</td>\n",
              "      <td>2.7</td>\n",
              "      <td>116</td>\n",
              "      <td>0</td>\n",
              "      <td>0</td>\n",
              "      <td>8</td>\n",
              "      <td>1</td>\n",
              "    </tr>\n",
              "  </tbody>\n",
              "</table>\n",
              "</div>"
            ],
            "text/plain": [
              "    age  anaemia  creatinine_phosphokinase  ...  smoking  time  DEATH_EVENT\n",
              "0  75.0        0                       582  ...        0     4            1\n",
              "1  55.0        0                      7861  ...        0     6            1\n",
              "2  65.0        0                       146  ...        1     7            1\n",
              "3  50.0        1                       111  ...        0     7            1\n",
              "4  65.0        1                       160  ...        0     8            1\n",
              "\n",
              "[5 rows x 13 columns]"
            ]
          },
          "metadata": {
            "tags": []
          },
          "execution_count": 5
        }
      ]
    },
    {
      "cell_type": "code",
      "metadata": {
        "id": "xl9HBAIzOYa4",
        "colab": {
          "base_uri": "https://localhost:8080/"
        },
        "outputId": "aefd7f48-a36f-4499-ca69-3050b59ac1e1"
      },
      "source": [
        "heart_data.tail()"
      ],
      "execution_count": null,
      "outputs": [
        {
          "output_type": "execute_result",
          "data": {
            "text/html": [
              "<div>\n",
              "<style scoped>\n",
              "    .dataframe tbody tr th:only-of-type {\n",
              "        vertical-align: middle;\n",
              "    }\n",
              "\n",
              "    .dataframe tbody tr th {\n",
              "        vertical-align: top;\n",
              "    }\n",
              "\n",
              "    .dataframe thead th {\n",
              "        text-align: right;\n",
              "    }\n",
              "</style>\n",
              "<table border=\"1\" class=\"dataframe\">\n",
              "  <thead>\n",
              "    <tr style=\"text-align: right;\">\n",
              "      <th></th>\n",
              "      <th>age</th>\n",
              "      <th>anaemia</th>\n",
              "      <th>creatinine_phosphokinase</th>\n",
              "      <th>diabetes</th>\n",
              "      <th>ejection_fraction</th>\n",
              "      <th>high_blood_pressure</th>\n",
              "      <th>platelets</th>\n",
              "      <th>serum_creatinine</th>\n",
              "      <th>serum_sodium</th>\n",
              "      <th>sex</th>\n",
              "      <th>smoking</th>\n",
              "      <th>time</th>\n",
              "      <th>DEATH_EVENT</th>\n",
              "    </tr>\n",
              "  </thead>\n",
              "  <tbody>\n",
              "    <tr>\n",
              "      <th>294</th>\n",
              "      <td>62.0</td>\n",
              "      <td>0</td>\n",
              "      <td>61</td>\n",
              "      <td>1</td>\n",
              "      <td>38</td>\n",
              "      <td>1</td>\n",
              "      <td>155000.0</td>\n",
              "      <td>1.1</td>\n",
              "      <td>143</td>\n",
              "      <td>1</td>\n",
              "      <td>1</td>\n",
              "      <td>270</td>\n",
              "      <td>0</td>\n",
              "    </tr>\n",
              "    <tr>\n",
              "      <th>295</th>\n",
              "      <td>55.0</td>\n",
              "      <td>0</td>\n",
              "      <td>1820</td>\n",
              "      <td>0</td>\n",
              "      <td>38</td>\n",
              "      <td>0</td>\n",
              "      <td>270000.0</td>\n",
              "      <td>1.2</td>\n",
              "      <td>139</td>\n",
              "      <td>0</td>\n",
              "      <td>0</td>\n",
              "      <td>271</td>\n",
              "      <td>0</td>\n",
              "    </tr>\n",
              "    <tr>\n",
              "      <th>296</th>\n",
              "      <td>45.0</td>\n",
              "      <td>0</td>\n",
              "      <td>2060</td>\n",
              "      <td>1</td>\n",
              "      <td>60</td>\n",
              "      <td>0</td>\n",
              "      <td>742000.0</td>\n",
              "      <td>0.8</td>\n",
              "      <td>138</td>\n",
              "      <td>0</td>\n",
              "      <td>0</td>\n",
              "      <td>278</td>\n",
              "      <td>0</td>\n",
              "    </tr>\n",
              "    <tr>\n",
              "      <th>297</th>\n",
              "      <td>45.0</td>\n",
              "      <td>0</td>\n",
              "      <td>2413</td>\n",
              "      <td>0</td>\n",
              "      <td>38</td>\n",
              "      <td>0</td>\n",
              "      <td>140000.0</td>\n",
              "      <td>1.4</td>\n",
              "      <td>140</td>\n",
              "      <td>1</td>\n",
              "      <td>1</td>\n",
              "      <td>280</td>\n",
              "      <td>0</td>\n",
              "    </tr>\n",
              "    <tr>\n",
              "      <th>298</th>\n",
              "      <td>50.0</td>\n",
              "      <td>0</td>\n",
              "      <td>196</td>\n",
              "      <td>0</td>\n",
              "      <td>45</td>\n",
              "      <td>0</td>\n",
              "      <td>395000.0</td>\n",
              "      <td>1.6</td>\n",
              "      <td>136</td>\n",
              "      <td>1</td>\n",
              "      <td>1</td>\n",
              "      <td>285</td>\n",
              "      <td>0</td>\n",
              "    </tr>\n",
              "  </tbody>\n",
              "</table>\n",
              "</div>"
            ],
            "text/plain": [
              "      age  anaemia  creatinine_phosphokinase  ...  smoking  time  DEATH_EVENT\n",
              "294  62.0        0                        61  ...        1   270            0\n",
              "295  55.0        0                      1820  ...        0   271            0\n",
              "296  45.0        0                      2060  ...        0   278            0\n",
              "297  45.0        0                      2413  ...        1   280            0\n",
              "298  50.0        0                       196  ...        1   285            0\n",
              "\n",
              "[5 rows x 13 columns]"
            ]
          },
          "metadata": {
            "tags": []
          },
          "execution_count": 6
        }
      ]
    },
    {
      "cell_type": "code",
      "metadata": {
        "colab": {
          "base_uri": "https://localhost:8080/"
        },
        "id": "egFMNJxrBLe_",
        "outputId": "b1c52a3b-c747-44b7-856b-9529064e3672"
      },
      "source": [
        "heart_data.shape"
      ],
      "execution_count": null,
      "outputs": [
        {
          "output_type": "execute_result",
          "data": {
            "text/plain": [
              "(299, 13)"
            ]
          },
          "metadata": {
            "tags": []
          },
          "execution_count": 7
        }
      ]
    },
    {
      "cell_type": "code",
      "metadata": {
        "colab": {
          "base_uri": "https://localhost:8080/"
        },
        "id": "H1m7zJxVBbMW",
        "outputId": "480359a3-4b51-4a95-8a89-73ee5ac0f031"
      },
      "source": [
        "heart_data.info()"
      ],
      "execution_count": null,
      "outputs": [
        {
          "output_type": "stream",
          "text": [
            "<class 'pandas.core.frame.DataFrame'>\n",
            "RangeIndex: 299 entries, 0 to 298\n",
            "Data columns (total 13 columns):\n",
            " #   Column                    Non-Null Count  Dtype  \n",
            "---  ------                    --------------  -----  \n",
            " 0   age                       299 non-null    float64\n",
            " 1   anaemia                   299 non-null    int64  \n",
            " 2   creatinine_phosphokinase  299 non-null    int64  \n",
            " 3   diabetes                  299 non-null    int64  \n",
            " 4   ejection_fraction         299 non-null    int64  \n",
            " 5   high_blood_pressure       299 non-null    int64  \n",
            " 6   platelets                 299 non-null    float64\n",
            " 7   serum_creatinine          299 non-null    float64\n",
            " 8   serum_sodium              299 non-null    int64  \n",
            " 9   sex                       299 non-null    int64  \n",
            " 10  smoking                   299 non-null    int64  \n",
            " 11  time                      299 non-null    int64  \n",
            " 12  DEATH_EVENT               299 non-null    int64  \n",
            "dtypes: float64(3), int64(10)\n",
            "memory usage: 30.5 KB\n"
          ],
          "name": "stdout"
        }
      ]
    },
    {
      "cell_type": "code",
      "metadata": {
        "colab": {
          "base_uri": "https://localhost:8080/"
        },
        "id": "P37UECyqBkaZ",
        "outputId": "bf75226f-e402-4da0-ce2a-c3712f395264"
      },
      "source": [
        "heart_data.columns.values"
      ],
      "execution_count": null,
      "outputs": [
        {
          "output_type": "execute_result",
          "data": {
            "text/plain": [
              "array(['age', 'anaemia', 'creatinine_phosphokinase', 'diabetes',\n",
              "       'ejection_fraction', 'high_blood_pressure', 'platelets',\n",
              "       'serum_creatinine', 'serum_sodium', 'sex', 'smoking', 'time',\n",
              "       'DEATH_EVENT'], dtype=object)"
            ]
          },
          "metadata": {
            "tags": []
          },
          "execution_count": 9
        }
      ]
    },
    {
      "cell_type": "code",
      "metadata": {
        "colab": {
          "base_uri": "https://localhost:8080/"
        },
        "id": "7k1UltiJDCOr",
        "outputId": "1af8dd16-ece1-4810-f91e-e18e5a3935a8"
      },
      "source": [
        "heart_data.index"
      ],
      "execution_count": null,
      "outputs": [
        {
          "output_type": "execute_result",
          "data": {
            "text/plain": [
              "RangeIndex(start=0, stop=299, step=1)"
            ]
          },
          "metadata": {
            "tags": []
          },
          "execution_count": 10
        }
      ]
    },
    {
      "cell_type": "markdown",
      "metadata": {
        "id": "Xs2W8lZGDkpc"
      },
      "source": [
        "# Data Preparation"
      ]
    },
    {
      "cell_type": "code",
      "metadata": {
        "id": "TRQzxu7HNGrd"
      },
      "source": [
        "import matplotlib.pyplot as plt"
      ],
      "execution_count": null,
      "outputs": []
    },
    {
      "cell_type": "markdown",
      "metadata": {
        "id": "EwlBZb9qD3wl"
      },
      "source": [
        "##### Age\n"
      ]
    },
    {
      "cell_type": "code",
      "metadata": {
        "colab": {
          "base_uri": "https://localhost:8080/"
        },
        "id": "guTj_UqeDnSL",
        "outputId": "84688b19-4103-41c3-bbb8-9838d34b3e28"
      },
      "source": [
        "# Sanity check\n",
        "mask_1 = (heart_data['age'] > 90) | (heart_data['age'] < 0 ) \n",
        "heart_data.loc[mask_1, 'age']"
      ],
      "execution_count": null,
      "outputs": [
        {
          "output_type": "execute_result",
          "data": {
            "text/plain": [
              "26    95.0\n",
              "30    94.0\n",
              "55    95.0\n",
              "Name: age, dtype: float64"
            ]
          },
          "metadata": {
            "tags": []
          },
          "execution_count": 12
        }
      ]
    },
    {
      "cell_type": "code",
      "metadata": {
        "colab": {
          "base_uri": "https://localhost:8080/"
        },
        "id": "qJjBIQPfEUlw",
        "outputId": "b5db0d81-41ad-44b3-ccbb-64c18f33a8b8"
      },
      "source": [
        "# min value of age\n",
        "heart_data['age'].min(axis=0)"
      ],
      "execution_count": null,
      "outputs": [
        {
          "output_type": "execute_result",
          "data": {
            "text/plain": [
              "40.0"
            ]
          },
          "metadata": {
            "tags": []
          },
          "execution_count": 13
        }
      ]
    },
    {
      "cell_type": "code",
      "metadata": {
        "colab": {
          "base_uri": "https://localhost:8080/"
        },
        "id": "fluS8_C1ExJS",
        "outputId": "e9cd007b-f86d-4003-b72c-2036bf377cee"
      },
      "source": [
        "# max value of age\n",
        "heart_data['age'].max(axis=0)"
      ],
      "execution_count": null,
      "outputs": [
        {
          "output_type": "execute_result",
          "data": {
            "text/plain": [
              "95.0"
            ]
          },
          "metadata": {
            "tags": []
          },
          "execution_count": 14
        }
      ]
    },
    {
      "cell_type": "code",
      "metadata": {
        "colab": {
          "base_uri": "https://localhost:8080/"
        },
        "id": "Kes4UzKME0on",
        "outputId": "629799e2-a18e-4815-a2ed-49ccdf20492f"
      },
      "source": [
        "# distribution of age\n",
        "heart_data['age'].plot(kind='hist', bins = 10)"
      ],
      "execution_count": null,
      "outputs": [
        {
          "output_type": "execute_result",
          "data": {
            "text/plain": [
              "<matplotlib.axes._subplots.AxesSubplot at 0x7fe0819c5410>"
            ]
          },
          "metadata": {
            "tags": []
          },
          "execution_count": 15
        },
        {
          "output_type": "display_data",
          "data": {
            "image/png": "[encoded data removed]",
            "text/plain": [
              "<Figure size 432x288 with 1 Axes>"
            ]
          },
          "metadata": {
            "tags": [],
            "needs_background": "light"
          }
        }
      ]
    },
    {
      "cell_type": "markdown",
      "metadata": {
        "id": "V2szUxYHFIey"
      },
      "source": [
        "##### Anaemia"
      ]
    },
    {
      "cell_type": "code",
      "metadata": {
        "colab": {
          "base_uri": "https://localhost:8080/"
        },
        "id": "YLOngJa0FOXt",
        "outputId": "cc8d3860-36a6-4e56-9dc8-dccef3528e0c"
      },
      "source": [
        "# Check for bad values\n",
        "heart_data['anaemia'].value_counts()"
      ],
      "execution_count": null,
      "outputs": [
        {
          "output_type": "execute_result",
          "data": {
            "text/plain": [
              "0    170\n",
              "1    129\n",
              "Name: anaemia, dtype: int64"
            ]
          },
          "metadata": {
            "tags": []
          },
          "execution_count": 16
        }
      ]
    },
    {
      "cell_type": "code",
      "metadata": {
        "colab": {
          "base_uri": "https://localhost:8080/"
        },
        "id": "BZNE4yzoHF9b",
        "outputId": "84bd5c76-7fcb-49e8-9432-55a579fb42bd"
      },
      "source": [
        "# observe mean age of patients with and without anemia \n",
        "heart_data.groupby(['anaemia']).mean()"
      ],
      "execution_count": null,
      "outputs": [
        {
          "output_type": "execute_result",
          "data": {
            "text/html": [
              "<div>\n",
              "<style scoped>\n",
              "    .dataframe tbody tr th:only-of-type {\n",
              "        vertical-align: middle;\n",
              "    }\n",
              "\n",
              "    .dataframe tbody tr th {\n",
              "        vertical-align: top;\n",
              "    }\n",
              "\n",
              "    .dataframe thead th {\n",
              "        text-align: right;\n",
              "    }\n",
              "</style>\n",
              "<table border=\"1\" class=\"dataframe\">\n",
              "  <thead>\n",
              "    <tr style=\"text-align: right;\">\n",
              "      <th></th>\n",
              "      <th>age</th>\n",
              "      <th>creatinine_phosphokinase</th>\n",
              "      <th>diabetes</th>\n",
              "      <th>ejection_fraction</th>\n",
              "      <th>high_blood_pressure</th>\n",
              "      <th>platelets</th>\n",
              "      <th>serum_creatinine</th>\n",
              "      <th>serum_sodium</th>\n",
              "      <th>sex</th>\n",
              "      <th>smoking</th>\n",
              "      <th>time</th>\n",
              "      <th>DEATH_EVENT</th>\n",
              "    </tr>\n",
              "    <tr>\n",
              "      <th>anaemia</th>\n",
              "      <th></th>\n",
              "      <th></th>\n",
              "      <th></th>\n",
              "      <th></th>\n",
              "      <th></th>\n",
              "      <th></th>\n",
              "      <th></th>\n",
              "      <th></th>\n",
              "      <th></th>\n",
              "      <th></th>\n",
              "      <th></th>\n",
              "      <th></th>\n",
              "    </tr>\n",
              "  </thead>\n",
              "  <tbody>\n",
              "    <tr>\n",
              "      <th>0</th>\n",
              "      <td>59.923529</td>\n",
              "      <td>742.788235</td>\n",
              "      <td>0.423529</td>\n",
              "      <td>37.758824</td>\n",
              "      <td>0.335294</td>\n",
              "      <td>267082.215647</td>\n",
              "      <td>1.346941</td>\n",
              "      <td>136.464706</td>\n",
              "      <td>0.688235</td>\n",
              "      <td>0.364706</td>\n",
              "      <td>139.805882</td>\n",
              "      <td>0.294118</td>\n",
              "    </tr>\n",
              "    <tr>\n",
              "      <th>1</th>\n",
              "      <td>62.033597</td>\n",
              "      <td>369.736434</td>\n",
              "      <td>0.410853</td>\n",
              "      <td>38.511628</td>\n",
              "      <td>0.372093</td>\n",
              "      <td>258450.186744</td>\n",
              "      <td>1.455736</td>\n",
              "      <td>136.837209</td>\n",
              "      <td>0.596899</td>\n",
              "      <td>0.263566</td>\n",
              "      <td>117.682171</td>\n",
              "      <td>0.356589</td>\n",
              "    </tr>\n",
              "  </tbody>\n",
              "</table>\n",
              "</div>"
            ],
            "text/plain": [
              "               age  creatinine_phosphokinase  ...        time  DEATH_EVENT\n",
              "anaemia                                       ...                         \n",
              "0        59.923529                742.788235  ...  139.805882     0.294118\n",
              "1        62.033597                369.736434  ...  117.682171     0.356589\n",
              "\n",
              "[2 rows x 12 columns]"
            ]
          },
          "metadata": {
            "tags": []
          },
          "execution_count": 17
        }
      ]
    },
    {
      "cell_type": "code",
      "metadata": {
        "colab": {
          "base_uri": "https://localhost:8080/"
        },
        "id": "bjrwwGT6JVzm",
        "outputId": "d3c0bd95-3154-48ec-9a68-fddbd6bba4b1"
      },
      "source": [
        "# compare death number in patients with and without anemia\n",
        "# to analyse if anemia would have any role to play in death \n",
        "# 46 people with anaemia died\n",
        "mask_4 = heart_data['anaemia'] == 1 \n",
        "heart_data[mask_4]['DEATH_EVENT'].value_counts()"
      ],
      "execution_count": null,
      "outputs": [
        {
          "output_type": "execute_result",
          "data": {
            "text/plain": [
              "0    83\n",
              "1    46\n",
              "Name: DEATH_EVENT, dtype: int64"
            ]
          },
          "metadata": {
            "tags": []
          },
          "execution_count": 18
        }
      ]
    },
    {
      "cell_type": "code",
      "metadata": {
        "colab": {
          "base_uri": "https://localhost:8080/"
        },
        "id": "t5o-Wcm9cbcq",
        "outputId": "7c5f3643-0215-4b51-b9d7-bcc0c49aadc2"
      },
      "source": [
        "# convert the death number in anemic patients to %\n",
        "46/(46+83)"
      ],
      "execution_count": null,
      "outputs": [
        {
          "output_type": "execute_result",
          "data": {
            "text/plain": [
              "0.35658914728682173"
            ]
          },
          "metadata": {
            "tags": []
          },
          "execution_count": 19
        }
      ]
    },
    {
      "cell_type": "code",
      "metadata": {
        "colab": {
          "base_uri": "https://localhost:8080/"
        },
        "id": "9oD0M-f3Kwda",
        "outputId": "66423b43-a9af-4143-88af-626345289a7f"
      },
      "source": [
        "# 50 people who didn't have anaemia died\n",
        "mask_5 = heart_data['anaemia'] == 0 \n",
        "heart_data[mask_5]['DEATH_EVENT'].value_counts()"
      ],
      "execution_count": null,
      "outputs": [
        {
          "output_type": "execute_result",
          "data": {
            "text/plain": [
              "0    120\n",
              "1     50\n",
              "Name: DEATH_EVENT, dtype: int64"
            ]
          },
          "metadata": {
            "tags": []
          },
          "execution_count": 20
        }
      ]
    },
    {
      "cell_type": "code",
      "metadata": {
        "colab": {
          "base_uri": "https://localhost:8080/"
        },
        "id": "YAAB0ZUlF_tC",
        "outputId": "0576ac88-e89c-483f-f3cd-b45e6c52a3d5"
      },
      "source": [
        "50/(50+120)"
      ],
      "execution_count": null,
      "outputs": [
        {
          "output_type": "execute_result",
          "data": {
            "text/plain": [
              "0.29411764705882354"
            ]
          },
          "metadata": {
            "tags": []
          },
          "execution_count": 21
        }
      ]
    },
    {
      "cell_type": "markdown",
      "metadata": {
        "id": "nOhp4DTEFnqZ"
      },
      "source": [
        "##### creatinine_phosphokinase"
      ]
    },
    {
      "cell_type": "code",
      "metadata": {
        "colab": {
          "base_uri": "https://localhost:8080/"
        },
        "id": "Vk0Mj-dhFdBF",
        "outputId": "d270f1b9-e900-4db5-a2b3-8de0b1bda851"
      },
      "source": [
        "# min value\n",
        "heart_data['creatinine_phosphokinase'].min(axis= 0)"
      ],
      "execution_count": null,
      "outputs": [
        {
          "output_type": "execute_result",
          "data": {
            "text/plain": [
              "23"
            ]
          },
          "metadata": {
            "tags": []
          },
          "execution_count": 22
        }
      ]
    },
    {
      "cell_type": "code",
      "metadata": {
        "colab": {
          "base_uri": "https://localhost:8080/"
        },
        "id": "c39pK9pSF4La",
        "outputId": "ee8b9fb2-0d79-458a-bf5f-951750586852"
      },
      "source": [
        "# max value\n",
        "heart_data['creatinine_phosphokinase'].max(axis= 0)"
      ],
      "execution_count": null,
      "outputs": [
        {
          "output_type": "execute_result",
          "data": {
            "text/plain": [
              "7861"
            ]
          },
          "metadata": {
            "tags": []
          },
          "execution_count": 23
        }
      ]
    },
    {
      "cell_type": "code",
      "metadata": {
        "colab": {
          "base_uri": "https://localhost:8080/"
        },
        "id": "etnVhgW9rIvp",
        "outputId": "92f06995-7a9e-40b0-de24-4e8cb1ed6597"
      },
      "source": [
        "# histogram distribution\n",
        "heart_data['creatinine_phosphokinase'].plot(kind='hist')\n",
        "plt.title(\"Distribution of CPK enzyme in blood\")\n",
        "plt.xlabel('CPK level in blood (mcg/L)')\n",
        "plt.ylabel(\"Frequency\")\n",
        "plt.show()"
      ],
      "execution_count": null,
      "outputs": [
        {
          "output_type": "display_data",
          "data": {
            "image/png": "[encoded data removed]",
            "text/plain": [
              "<Figure size 432x288 with 1 Axes>"
            ]
          },
          "metadata": {
            "tags": [],
            "needs_background": "light"
          }
        }
      ]
    },
    {
      "cell_type": "code",
      "metadata": {
        "id": "KuktHT5OrNG7",
        "colab": {
          "base_uri": "https://localhost:8080/"
        },
        "outputId": "0d062660-3ffe-449e-e74f-bb4658523d2b"
      },
      "source": [
        "# 7 observation with unusual high values of CPK\n",
        "mask = heart_data['creatinine_phosphokinase'] > 3500\n",
        "heart_data[mask].shape"
      ],
      "execution_count": null,
      "outputs": [
        {
          "output_type": "execute_result",
          "data": {
            "text/plain": [
              "(7, 13)"
            ]
          },
          "metadata": {
            "tags": []
          },
          "execution_count": 25
        }
      ]
    },
    {
      "cell_type": "markdown",
      "metadata": {
        "id": "o0aKJXSULC80"
      },
      "source": [
        "##### Diabetes"
      ]
    },
    {
      "cell_type": "code",
      "metadata": {
        "colab": {
          "base_uri": "https://localhost:8080/"
        },
        "id": "F7ohm2s_JGyE",
        "outputId": "6be9d779-c4ba-4862-e128-feb4b5237cd9"
      },
      "source": [
        "# check bad values\n",
        "heart_data['diabetes'].value_counts()"
      ],
      "execution_count": null,
      "outputs": [
        {
          "output_type": "execute_result",
          "data": {
            "text/plain": [
              "0    174\n",
              "1    125\n",
              "Name: diabetes, dtype: int64"
            ]
          },
          "metadata": {
            "tags": []
          },
          "execution_count": 26
        }
      ]
    },
    {
      "cell_type": "markdown",
      "metadata": {
        "id": "1ursLG_9LNx6"
      },
      "source": [
        "##### ejection_fraction"
      ]
    },
    {
      "cell_type": "code",
      "metadata": {
        "colab": {
          "base_uri": "https://localhost:8080/"
        },
        "id": "fk2Qd46GLO0s",
        "outputId": "080cdbde-4e92-4e81-f348-321210c1301c"
      },
      "source": [
        "# Sanity Check\n",
        "\n",
        "mask_6 = (heart_data['ejection_fraction'] > 100) | (heart_data['ejection_fraction']< 0)\n",
        "heart_data[mask_6]"
      ],
      "execution_count": null,
      "outputs": [
        {
          "output_type": "execute_result",
          "data": {
            "text/html": [
              "<div>\n",
              "<style scoped>\n",
              "    .dataframe tbody tr th:only-of-type {\n",
              "        vertical-align: middle;\n",
              "    }\n",
              "\n",
              "    .dataframe tbody tr th {\n",
              "        vertical-align: top;\n",
              "    }\n",
              "\n",
              "    .dataframe thead th {\n",
              "        text-align: right;\n",
              "    }\n",
              "</style>\n",
              "<table border=\"1\" class=\"dataframe\">\n",
              "  <thead>\n",
              "    <tr style=\"text-align: right;\">\n",
              "      <th></th>\n",
              "      <th>age</th>\n",
              "      <th>anaemia</th>\n",
              "      <th>creatinine_phosphokinase</th>\n",
              "      <th>diabetes</th>\n",
              "      <th>ejection_fraction</th>\n",
              "      <th>high_blood_pressure</th>\n",
              "      <th>platelets</th>\n",
              "      <th>serum_creatinine</th>\n",
              "      <th>serum_sodium</th>\n",
              "      <th>sex</th>\n",
              "      <th>smoking</th>\n",
              "      <th>time</th>\n",
              "      <th>DEATH_EVENT</th>\n",
              "    </tr>\n",
              "  </thead>\n",
              "  <tbody>\n",
              "  </tbody>\n",
              "</table>\n",
              "</div>"
            ],
            "text/plain": [
              "Empty DataFrame\n",
              "Columns: [age, anaemia, creatinine_phosphokinase, diabetes, ejection_fraction, high_blood_pressure, platelets, serum_creatinine, serum_sodium, sex, smoking, time, DEATH_EVENT]\n",
              "Index: []"
            ]
          },
          "metadata": {
            "tags": []
          },
          "execution_count": 27
        }
      ]
    },
    {
      "cell_type": "code",
      "metadata": {
        "colab": {
          "base_uri": "https://localhost:8080/"
        },
        "id": "JTTyfMmMMXWA",
        "outputId": "c3d6c172-24a6-476c-ddc5-a883da2ce3a6"
      },
      "source": [
        "# min value\n",
        "heart_data['ejection_fraction'].min(axis=0)"
      ],
      "execution_count": null,
      "outputs": [
        {
          "output_type": "execute_result",
          "data": {
            "text/plain": [
              "14"
            ]
          },
          "metadata": {
            "tags": []
          },
          "execution_count": 28
        }
      ]
    },
    {
      "cell_type": "code",
      "metadata": {
        "colab": {
          "base_uri": "https://localhost:8080/"
        },
        "id": "wKbzep9QMevZ",
        "outputId": "effb33c9-7455-4449-b1f5-22db13fb820f"
      },
      "source": [
        "# max value\n",
        "heart_data['ejection_fraction'].max(axis=0)"
      ],
      "execution_count": null,
      "outputs": [
        {
          "output_type": "execute_result",
          "data": {
            "text/plain": [
              "80"
            ]
          },
          "metadata": {
            "tags": []
          },
          "execution_count": 29
        }
      ]
    },
    {
      "cell_type": "markdown",
      "metadata": {
        "id": "nHxW25RdLPrE"
      },
      "source": [
        "##### High Blood Pressure"
      ]
    },
    {
      "cell_type": "code",
      "metadata": {
        "colab": {
          "base_uri": "https://localhost:8080/"
        },
        "id": "X203ta7KLS_t",
        "outputId": "7eaf62ec-0906-4131-c392-84d14672abcf"
      },
      "source": [
        "# check for bad values\n",
        "heart_data['high_blood_pressure'].value_counts()"
      ],
      "execution_count": null,
      "outputs": [
        {
          "output_type": "execute_result",
          "data": {
            "text/plain": [
              "0    194\n",
              "1    105\n",
              "Name: high_blood_pressure, dtype: int64"
            ]
          },
          "metadata": {
            "tags": []
          },
          "execution_count": 30
        }
      ]
    },
    {
      "cell_type": "code",
      "metadata": {
        "id": "5rrnuG7dZKaV",
        "colab": {
          "base_uri": "https://localhost:8080/"
        },
        "outputId": "2d224248-674d-46d1-f1d8-fd4fe299db23"
      },
      "source": [
        "df = heart_data.iloc[:,6:-1]\n",
        "\n",
        "# Checking for missing values\n",
        "a = df.describe().loc['count']\n",
        "missing_val_col = a.loc[a<299].keys()\n",
        "missing_val_col"
      ],
      "execution_count": null,
      "outputs": [
        {
          "output_type": "execute_result",
          "data": {
            "text/plain": [
              "Index([], dtype='object')"
            ]
          },
          "metadata": {
            "tags": []
          },
          "execution_count": 31
        }
      ]
    },
    {
      "cell_type": "code",
      "metadata": {
        "id": "jBjNVEQRZKkt",
        "colab": {
          "base_uri": "https://localhost:8080/"
        },
        "outputId": "f0e5389a-2cd8-4e10-92a0-777ca62072bb"
      },
      "source": [
        "# Checking for negative values\n",
        "b = df.describe().loc['min']\n",
        "negative_val_col = b.loc[b<0].keys()\n",
        "negative_val_col"
      ],
      "execution_count": null,
      "outputs": [
        {
          "output_type": "execute_result",
          "data": {
            "text/plain": [
              "Index([], dtype='object')"
            ]
          },
          "metadata": {
            "tags": []
          },
          "execution_count": 32
        }
      ]
    },
    {
      "cell_type": "code",
      "metadata": {
        "id": "GUIQBjUvZK2M",
        "colab": {
          "base_uri": "https://localhost:8080/"
        },
        "outputId": "e587f43a-936c-4229-cfa9-8c0913f64446"
      },
      "source": [
        "# Verifying if binary columns have abrupt values or not\n",
        "binaryCols = []\n",
        "nonBinaryCols = []\n",
        "for i in range(0,len(df.columns)):\n",
        "    if len(df.iloc[:,i].unique())==2:\n",
        "        binaryCols.append(df.columns[i])\n",
        "    else: nonBinaryCols.append(df.columns[i])\n",
        "        \n",
        "print(binaryCols)\n",
        "print(nonBinaryCols)"
      ],
      "execution_count": null,
      "outputs": [
        {
          "output_type": "stream",
          "text": [
            "['sex', 'smoking']\n",
            "['platelets', 'serum_creatinine', 'serum_sodium', 'time']\n"
          ],
          "name": "stdout"
        }
      ]
    },
    {
      "cell_type": "code",
      "metadata": {
        "id": "b0xpKyx8ZK-h",
        "colab": {
          "base_uri": "https://localhost:8080/"
        },
        "outputId": "89cfa3a8-733a-4a0b-d7e6-b3b9734ffd71"
      },
      "source": [
        "df['sex'].loc[df['sex']==1].count()"
      ],
      "execution_count": null,
      "outputs": [
        {
          "output_type": "execute_result",
          "data": {
            "text/plain": [
              "194"
            ]
          },
          "metadata": {
            "tags": []
          },
          "execution_count": 34
        }
      ]
    },
    {
      "cell_type": "code",
      "metadata": {
        "id": "uLCTPz9CZLDc",
        "colab": {
          "base_uri": "https://localhost:8080/"
        },
        "outputId": "84d89130-cb90-4a62-a403-843da94c8223"
      },
      "source": [
        "for x in nonBinaryCols:\n",
        "    print(\"\\n\\n\",df[x].describe())"
      ],
      "execution_count": null,
      "outputs": [
        {
          "output_type": "stream",
          "text": [
            "\n",
            "\n",
            " count       299.000000\n",
            "mean     263358.029264\n",
            "std       97804.236869\n",
            "min       25100.000000\n",
            "25%      212500.000000\n",
            "50%      262000.000000\n",
            "75%      303500.000000\n",
            "max      850000.000000\n",
            "Name: platelets, dtype: float64\n",
            "\n",
            "\n",
            " count    299.00000\n",
            "mean       1.39388\n",
            "std        1.03451\n",
            "min        0.50000\n",
            "25%        0.90000\n",
            "50%        1.10000\n",
            "75%        1.40000\n",
            "max        9.40000\n",
            "Name: serum_creatinine, dtype: float64\n",
            "\n",
            "\n",
            " count    299.000000\n",
            "mean     136.625418\n",
            "std        4.412477\n",
            "min      113.000000\n",
            "25%      134.000000\n",
            "50%      137.000000\n",
            "75%      140.000000\n",
            "max      148.000000\n",
            "Name: serum_sodium, dtype: float64\n",
            "\n",
            "\n",
            " count    299.000000\n",
            "mean     130.260870\n",
            "std       77.614208\n",
            "min        4.000000\n",
            "25%       73.000000\n",
            "50%      115.000000\n",
            "75%      203.000000\n",
            "max      285.000000\n",
            "Name: time, dtype: float64\n"
          ],
          "name": "stdout"
        }
      ]
    },
    {
      "cell_type": "code",
      "metadata": {
        "id": "xXBlL-SSaGz7",
        "colab": {
          "base_uri": "https://localhost:8080/"
        },
        "outputId": "a1422f29-0430-4a34-96af-fb24405776ac"
      },
      "source": [
        "# Colummn 'platelets' and 'serum_creatinine' seem to have outliers\n",
        "df[['platelets', 'serum_creatinine']]"
      ],
      "execution_count": null,
      "outputs": [
        {
          "output_type": "execute_result",
          "data": {
            "text/html": [
              "<div>\n",
              "<style scoped>\n",
              "    .dataframe tbody tr th:only-of-type {\n",
              "        vertical-align: middle;\n",
              "    }\n",
              "\n",
              "    .dataframe tbody tr th {\n",
              "        vertical-align: top;\n",
              "    }\n",
              "\n",
              "    .dataframe thead th {\n",
              "        text-align: right;\n",
              "    }\n",
              "</style>\n",
              "<table border=\"1\" class=\"dataframe\">\n",
              "  <thead>\n",
              "    <tr style=\"text-align: right;\">\n",
              "      <th></th>\n",
              "      <th>platelets</th>\n",
              "      <th>serum_creatinine</th>\n",
              "    </tr>\n",
              "  </thead>\n",
              "  <tbody>\n",
              "    <tr>\n",
              "      <th>0</th>\n",
              "      <td>265000.00</td>\n",
              "      <td>1.9</td>\n",
              "    </tr>\n",
              "    <tr>\n",
              "      <th>1</th>\n",
              "      <td>263358.03</td>\n",
              "      <td>1.1</td>\n",
              "    </tr>\n",
              "    <tr>\n",
              "      <th>2</th>\n",
              "      <td>162000.00</td>\n",
              "      <td>1.3</td>\n",
              "    </tr>\n",
              "    <tr>\n",
              "      <th>3</th>\n",
              "      <td>210000.00</td>\n",
              "      <td>1.9</td>\n",
              "    </tr>\n",
              "    <tr>\n",
              "      <th>4</th>\n",
              "      <td>327000.00</td>\n",
              "      <td>2.7</td>\n",
              "    </tr>\n",
              "    <tr>\n",
              "      <th>...</th>\n",
              "      <td>...</td>\n",
              "      <td>...</td>\n",
              "    </tr>\n",
              "    <tr>\n",
              "      <th>294</th>\n",
              "      <td>155000.00</td>\n",
              "      <td>1.1</td>\n",
              "    </tr>\n",
              "    <tr>\n",
              "      <th>295</th>\n",
              "      <td>270000.00</td>\n",
              "      <td>1.2</td>\n",
              "    </tr>\n",
              "    <tr>\n",
              "      <th>296</th>\n",
              "      <td>742000.00</td>\n",
              "      <td>0.8</td>\n",
              "    </tr>\n",
              "    <tr>\n",
              "      <th>297</th>\n",
              "      <td>140000.00</td>\n",
              "      <td>1.4</td>\n",
              "    </tr>\n",
              "    <tr>\n",
              "      <th>298</th>\n",
              "      <td>395000.00</td>\n",
              "      <td>1.6</td>\n",
              "    </tr>\n",
              "  </tbody>\n",
              "</table>\n",
              "<p>299 rows × 2 columns</p>\n",
              "</div>"
            ],
            "text/plain": [
              "     platelets  serum_creatinine\n",
              "0    265000.00               1.9\n",
              "1    263358.03               1.1\n",
              "2    162000.00               1.3\n",
              "3    210000.00               1.9\n",
              "4    327000.00               2.7\n",
              "..         ...               ...\n",
              "294  155000.00               1.1\n",
              "295  270000.00               1.2\n",
              "296  742000.00               0.8\n",
              "297  140000.00               1.4\n",
              "298  395000.00               1.6\n",
              "\n",
              "[299 rows x 2 columns]"
            ]
          },
          "metadata": {
            "tags": []
          },
          "execution_count": 36
        }
      ]
    },
    {
      "cell_type": "code",
      "metadata": {
        "id": "8WEFmz6caG2U",
        "colab": {
          "base_uri": "https://localhost:8080/"
        },
        "outputId": "b2a98637-9b9d-4314-d95c-ea4665a7529b"
      },
      "source": [
        "platelets = df['platelets']\n",
        "import matplotlib.pyplot as plt\n",
        "plateletsPlot = plt.boxplot(platelets)"
      ],
      "execution_count": null,
      "outputs": [
        {
          "output_type": "display_data",
          "data": {
            "image/png": "[encoded data removed]",
            "text/plain": [
              "<Figure size 432x288 with 1 Axes>"
            ]
          },
          "metadata": {
            "tags": [],
            "needs_background": "light"
          }
        }
      ]
    },
    {
      "cell_type": "code",
      "metadata": {
        "id": "sfiDQ8OoaG4m"
      },
      "source": [
        "whiskerList = [x.get_ydata()[1] for x in plateletsPlot['whiskers']]\n",
        "plateletsUpperLimit = whiskerList[1]\n",
        "plateletsLowerLimit = whiskerList[0]"
      ],
      "execution_count": null,
      "outputs": []
    },
    {
      "cell_type": "code",
      "metadata": {
        "id": "v47pfXvAaG7F",
        "colab": {
          "base_uri": "https://localhost:8080/"
        },
        "outputId": "acb89787-3388-47e6-9e35-057505b80ce5"
      },
      "source": [
        "print(platelets.loc[platelets>plateletsUpperLimit].count(),\",\",platelets.loc[platelets<plateletsLowerLimit].count())"
      ],
      "execution_count": null,
      "outputs": [
        {
          "output_type": "stream",
          "text": [
            "14 , 7\n"
          ],
          "name": "stdout"
        }
      ]
    },
    {
      "cell_type": "code",
      "metadata": {
        "id": "hdvMXdhwaG9L"
      },
      "source": [
        "df.loc[(df['platelets']>plateletsUpperLimit) | (df['platelets']<plateletsLowerLimit),'platelets'] = platelets.median()"
      ],
      "execution_count": null,
      "outputs": []
    },
    {
      "cell_type": "code",
      "metadata": {
        "id": "VmUNUKWSaG_O",
        "colab": {
          "base_uri": "https://localhost:8080/"
        },
        "outputId": "4691d7fb-c12f-4c7b-eba3-581504b32214"
      },
      "source": [
        "plt.plot(platelets)"
      ],
      "execution_count": null,
      "outputs": [
        {
          "output_type": "execute_result",
          "data": {
            "text/plain": [
              "[<matplotlib.lines.Line2D at 0x7fe0818a7750>]"
            ]
          },
          "metadata": {
            "tags": []
          },
          "execution_count": 41
        },
        {
          "output_type": "display_data",
          "data": {
            "image/png": "[encoded data removed]",
            "text/plain": [
              "<Figure size 432x288 with 1 Axes>"
            ]
          },
          "metadata": {
            "tags": [],
            "needs_background": "light"
          }
        }
      ]
    },
    {
      "cell_type": "code",
      "metadata": {
        "id": "RdwWZMewaHBS",
        "colab": {
          "base_uri": "https://localhost:8080/"
        },
        "outputId": "36eb9756-4f86-4dea-8e7f-b986286e2c0f"
      },
      "source": [
        "serum = df['serum_creatinine']\n",
        "serumPlot = plt.boxplot(serum)"
      ],
      "execution_count": null,
      "outputs": [
        {
          "output_type": "display_data",
          "data": {
            "image/png": "[encoded data removed]",
            "text/plain": [
              "<Figure size 432x288 with 1 Axes>"
            ]
          },
          "metadata": {
            "tags": [],
            "needs_background": "light"
          }
        }
      ]
    },
    {
      "cell_type": "code",
      "metadata": {
        "id": "ex8L4NeBaHDK",
        "colab": {
          "base_uri": "https://localhost:8080/"
        },
        "outputId": "78976724-c837-4abe-a0bf-5e350f6cfc16"
      },
      "source": [
        "plt.plot(serum)"
      ],
      "execution_count": null,
      "outputs": [
        {
          "output_type": "execute_result",
          "data": {
            "text/plain": [
              "[<matplotlib.lines.Line2D at 0x7fe0812a2210>]"
            ]
          },
          "metadata": {
            "tags": []
          },
          "execution_count": 43
        },
        {
          "output_type": "display_data",
          "data": {
            "image/png": "[encoded data removed]",
            "text/plain": [
              "<Figure size 432x288 with 1 Axes>"
            ]
          },
          "metadata": {
            "tags": [],
            "needs_background": "light"
          }
        }
      ]
    },
    {
      "cell_type": "code",
      "metadata": {
        "id": "oz5uze9OaHEw",
        "colab": {
          "base_uri": "https://localhost:8080/"
        },
        "outputId": "470f20e7-8f42-44ff-923e-87e1a92f93bf"
      },
      "source": [
        "serumWhiskerList = [x.get_ydata()[1] for x in serumPlot['whiskers']]\n",
        "serumLowerLimit = serumWhiskerList[0]\n",
        "serumUpperLimit = serumWhiskerList[1]\n",
        "print(serum.loc[serum>serumUpperLimit].count())"
      ],
      "execution_count": null,
      "outputs": [
        {
          "output_type": "stream",
          "text": [
            "29\n"
          ],
          "name": "stdout"
        }
      ]
    },
    {
      "cell_type": "code",
      "metadata": {
        "id": "PMr-u8BJaHGV"
      },
      "source": [
        "df.loc[df['serum_creatinine']>serumUpperLimit,'serum_creatinine'] = serum.median()"
      ],
      "execution_count": null,
      "outputs": []
    },
    {
      "cell_type": "code",
      "metadata": {
        "id": "gEA45_2DaHIJ",
        "colab": {
          "base_uri": "https://localhost:8080/"
        },
        "outputId": "d7dbf6ad-b03d-4519-faee-08d18f5184c0"
      },
      "source": [
        "plt.plot(df['serum_creatinine'])"
      ],
      "execution_count": null,
      "outputs": [
        {
          "output_type": "execute_result",
          "data": {
            "text/plain": [
              "[<matplotlib.lines.Line2D at 0x7fe08120d790>]"
            ]
          },
          "metadata": {
            "tags": []
          },
          "execution_count": 46
        },
        {
          "output_type": "display_data",
          "data": {
            "image/png": "[encoded data removed]",
            "text/plain": [
              "<Figure size 432x288 with 1 Axes>"
            ]
          },
          "metadata": {
            "tags": [],
            "needs_background": "light"
          }
        }
      ]
    },
    {
      "cell_type": "markdown",
      "metadata": {
        "id": "nAtoCbaezrz7"
      },
      "source": [
        "# Data Exploration\n"
      ]
    },
    {
      "cell_type": "code",
      "metadata": {
        "colab": {
          "base_uri": "https://localhost:8080/"
        },
        "id": "03I6JBVVbYla",
        "outputId": "ba66848c-8520-4a58-f9d2-4878410e1b4d"
      },
      "source": [
        "heart_data.describe()"
      ],
      "execution_count": null,
      "outputs": [
        {
          "output_type": "execute_result",
          "data": {
            "text/html": [
              "<div>\n",
              "<style scoped>\n",
              "    .dataframe tbody tr th:only-of-type {\n",
              "        vertical-align: middle;\n",
              "    }\n",
              "\n",
              "    .dataframe tbody tr th {\n",
              "        vertical-align: top;\n",
              "    }\n",
              "\n",
              "    .dataframe thead th {\n",
              "        text-align: right;\n",
              "    }\n",
              "</style>\n",
              "<table border=\"1\" class=\"dataframe\">\n",
              "  <thead>\n",
              "    <tr style=\"text-align: right;\">\n",
              "      <th></th>\n",
              "      <th>age</th>\n",
              "      <th>anaemia</th>\n",
              "      <th>creatinine_phosphokinase</th>\n",
              "      <th>diabetes</th>\n",
              "      <th>ejection_fraction</th>\n",
              "      <th>high_blood_pressure</th>\n",
              "      <th>platelets</th>\n",
              "      <th>serum_creatinine</th>\n",
              "      <th>serum_sodium</th>\n",
              "      <th>sex</th>\n",
              "      <th>smoking</th>\n",
              "      <th>time</th>\n",
              "      <th>DEATH_EVENT</th>\n",
              "    </tr>\n",
              "  </thead>\n",
              "  <tbody>\n",
              "    <tr>\n",
              "      <th>count</th>\n",
              "      <td>299.000000</td>\n",
              "      <td>299.000000</td>\n",
              "      <td>299.000000</td>\n",
              "      <td>299.000000</td>\n",
              "      <td>299.000000</td>\n",
              "      <td>299.000000</td>\n",
              "      <td>299.000000</td>\n",
              "      <td>299.00000</td>\n",
              "      <td>299.000000</td>\n",
              "      <td>299.000000</td>\n",
              "      <td>299.00000</td>\n",
              "      <td>299.000000</td>\n",
              "      <td>299.00000</td>\n",
              "    </tr>\n",
              "    <tr>\n",
              "      <th>mean</th>\n",
              "      <td>60.833893</td>\n",
              "      <td>0.431438</td>\n",
              "      <td>581.839465</td>\n",
              "      <td>0.418060</td>\n",
              "      <td>38.083612</td>\n",
              "      <td>0.351171</td>\n",
              "      <td>263358.029264</td>\n",
              "      <td>1.39388</td>\n",
              "      <td>136.625418</td>\n",
              "      <td>0.648829</td>\n",
              "      <td>0.32107</td>\n",
              "      <td>130.260870</td>\n",
              "      <td>0.32107</td>\n",
              "    </tr>\n",
              "    <tr>\n",
              "      <th>std</th>\n",
              "      <td>11.894809</td>\n",
              "      <td>0.496107</td>\n",
              "      <td>970.287881</td>\n",
              "      <td>0.494067</td>\n",
              "      <td>11.834841</td>\n",
              "      <td>0.478136</td>\n",
              "      <td>97804.236869</td>\n",
              "      <td>1.03451</td>\n",
              "      <td>4.412477</td>\n",
              "      <td>0.478136</td>\n",
              "      <td>0.46767</td>\n",
              "      <td>77.614208</td>\n",
              "      <td>0.46767</td>\n",
              "    </tr>\n",
              "    <tr>\n",
              "      <th>min</th>\n",
              "      <td>40.000000</td>\n",
              "      <td>0.000000</td>\n",
              "      <td>23.000000</td>\n",
              "      <td>0.000000</td>\n",
              "      <td>14.000000</td>\n",
              "      <td>0.000000</td>\n",
              "      <td>25100.000000</td>\n",
              "      <td>0.50000</td>\n",
              "      <td>113.000000</td>\n",
              "      <td>0.000000</td>\n",
              "      <td>0.00000</td>\n",
              "      <td>4.000000</td>\n",
              "      <td>0.00000</td>\n",
              "    </tr>\n",
              "    <tr>\n",
              "      <th>25%</th>\n",
              "      <td>51.000000</td>\n",
              "      <td>0.000000</td>\n",
              "      <td>116.500000</td>\n",
              "      <td>0.000000</td>\n",
              "      <td>30.000000</td>\n",
              "      <td>0.000000</td>\n",
              "      <td>212500.000000</td>\n",
              "      <td>0.90000</td>\n",
              "      <td>134.000000</td>\n",
              "      <td>0.000000</td>\n",
              "      <td>0.00000</td>\n",
              "      <td>73.000000</td>\n",
              "      <td>0.00000</td>\n",
              "    </tr>\n",
              "    <tr>\n",
              "      <th>50%</th>\n",
              "      <td>60.000000</td>\n",
              "      <td>0.000000</td>\n",
              "      <td>250.000000</td>\n",
              "      <td>0.000000</td>\n",
              "      <td>38.000000</td>\n",
              "      <td>0.000000</td>\n",
              "      <td>262000.000000</td>\n",
              "      <td>1.10000</td>\n",
              "      <td>137.000000</td>\n",
              "      <td>1.000000</td>\n",
              "      <td>0.00000</td>\n",
              "      <td>115.000000</td>\n",
              "      <td>0.00000</td>\n",
              "    </tr>\n",
              "    <tr>\n",
              "      <th>75%</th>\n",
              "      <td>70.000000</td>\n",
              "      <td>1.000000</td>\n",
              "      <td>582.000000</td>\n",
              "      <td>1.000000</td>\n",
              "      <td>45.000000</td>\n",
              "      <td>1.000000</td>\n",
              "      <td>303500.000000</td>\n",
              "      <td>1.40000</td>\n",
              "      <td>140.000000</td>\n",
              "      <td>1.000000</td>\n",
              "      <td>1.00000</td>\n",
              "      <td>203.000000</td>\n",
              "      <td>1.00000</td>\n",
              "    </tr>\n",
              "    <tr>\n",
              "      <th>max</th>\n",
              "      <td>95.000000</td>\n",
              "      <td>1.000000</td>\n",
              "      <td>7861.000000</td>\n",
              "      <td>1.000000</td>\n",
              "      <td>80.000000</td>\n",
              "      <td>1.000000</td>\n",
              "      <td>850000.000000</td>\n",
              "      <td>9.40000</td>\n",
              "      <td>148.000000</td>\n",
              "      <td>1.000000</td>\n",
              "      <td>1.00000</td>\n",
              "      <td>285.000000</td>\n",
              "      <td>1.00000</td>\n",
              "    </tr>\n",
              "  </tbody>\n",
              "</table>\n",
              "</div>"
            ],
            "text/plain": [
              "              age     anaemia  ...        time  DEATH_EVENT\n",
              "count  299.000000  299.000000  ...  299.000000    299.00000\n",
              "mean    60.833893    0.431438  ...  130.260870      0.32107\n",
              "std     11.894809    0.496107  ...   77.614208      0.46767\n",
              "min     40.000000    0.000000  ...    4.000000      0.00000\n",
              "25%     51.000000    0.000000  ...   73.000000      0.00000\n",
              "50%     60.000000    0.000000  ...  115.000000      0.00000\n",
              "75%     70.000000    1.000000  ...  203.000000      1.00000\n",
              "max     95.000000    1.000000  ...  285.000000      1.00000\n",
              "\n",
              "[8 rows x 13 columns]"
            ]
          },
          "metadata": {
            "tags": []
          },
          "execution_count": 31
        }
      ]
    },
    {
      "cell_type": "code",
      "metadata": {
        "id": "lpSK2jpQ7r_r"
      },
      "source": [
        "import matplotlib.pyplot as plt\n",
        "import numpy as np"
      ],
      "execution_count": null,
      "outputs": []
    },
    {
      "cell_type": "code",
      "metadata": {
        "id": "BJ4AABzFMqy1",
        "colab": {
          "base_uri": "https://localhost:8080/"
        },
        "outputId": "a3129e21-aab1-4d19-a81c-c1d70460cbbd"
      },
      "source": [
        "count, bin_edges = np.histogram(heart_data['age'])\n",
        "fig = heart_data['age'].plot(kind='hist', figsize=(8, 5), xticks=bin_edges).get_figure()\n",
        "\n",
        "plt.title(\"Distribution of age\")\n",
        "plt.xlabel('Age in years')\n",
        "plt.ylabel(\"Frequency of each age range\")\n",
        "fig.savefig('Distribution of age.png')\n",
        "plt.show()\n",
        "\n",
        "# not a guassian distribution"
      ],
      "execution_count": null,
      "outputs": [
        {
          "output_type": "display_data",
          "data": {
            "image/png": "[encoded data removed]",
            "text/plain": [
              "<Figure size 576x360 with 1 Axes>"
            ]
          },
          "metadata": {
            "tags": [],
            "needs_background": "light"
          }
        }
      ]
    },
    {
      "cell_type": "code",
      "metadata": {
        "colab": {
          "base_uri": "https://localhost:8080/"
        },
        "id": "EYqqUbU92b9M",
        "outputId": "571b49a5-1705-488b-be5d-a6f4940f336f"
      },
      "source": [
        "heart_data['anaemia'].value_counts()"
      ],
      "execution_count": null,
      "outputs": [
        {
          "output_type": "execute_result",
          "data": {
            "text/plain": [
              "0    170\n",
              "1    129\n",
              "Name: anaemia, dtype: int64"
            ]
          },
          "metadata": {
            "tags": []
          },
          "execution_count": 34
        }
      ]
    },
    {
      "cell_type": "code",
      "metadata": {
        "colab": {
          "base_uri": "https://localhost:8080/"
        },
        "id": "Fvn7DZ_z1NeM",
        "outputId": "ff5e9867-fbd6-4705-e3f0-ebb2dfd33270"
      },
      "source": [
        "fig = heart_data['anaemia'].value_counts().plot(kind='pie',autopct='%.2f').get_figure()\n",
        "plt.title(\"Composition of Anaemic patients\")\n",
        "fig.savefig('Composition of Anaemic patients.png')\n",
        "plt.show()"
      ],
      "execution_count": null,
      "outputs": [
        {
          "output_type": "display_data",
          "data": {
            "image/png": "[encoded data removed]",
            "text/plain": [
              "<Figure size 432x288 with 1 Axes>"
            ]
          },
          "metadata": {
            "tags": []
          }
        }
      ]
    },
    {
      "cell_type": "code",
      "metadata": {
        "colab": {
          "base_uri": "https://localhost:8080/"
        },
        "id": "m1VzGn4H1_Ye",
        "outputId": "251895e3-7f1f-452a-a672-44ac07b2fcbd"
      },
      "source": [
        "fig = heart_data['diabetes'].value_counts().plot(kind='pie',autopct='%.2f').get_figure()\n",
        "plt.title(\"Composition of Diabetic patients\")\n",
        "fig.savefig('Composition of Diabetic patients.png')\n",
        "plt.show()"
      ],
      "execution_count": null,
      "outputs": [
        {
          "output_type": "display_data",
          "data": {
            "image/png": "[encoded data removed]",
            "text/plain": [
              "<Figure size 432x288 with 1 Axes>"
            ]
          },
          "metadata": {
            "tags": []
          }
        }
      ]
    },
    {
      "cell_type": "code",
      "metadata": {
        "colab": {
          "base_uri": "https://localhost:8080/"
        },
        "id": "bgfZe3_M4Bkd",
        "outputId": "7cb84944-7787-47ef-b5fc-3a2b56238f44"
      },
      "source": [
        "fig = heart_data['high_blood_pressure'].value_counts().plot(kind='pie',autopct='%.2f').get_figure()\n",
        "plt.title(\"Composition of patients with high blood pressure\")\n",
        "fig.savefig('Composition of  patients with high blood pressure.png')\n",
        "plt.show()"
      ],
      "execution_count": null,
      "outputs": [
        {
          "output_type": "display_data",
          "data": {
            "image/png": "[encoded data removed]",
            "text/plain": [
              "<Figure size 432x288 with 1 Axes>"
            ]
          },
          "metadata": {
            "tags": []
          }
        }
      ]
    },
    {
      "cell_type": "code",
      "metadata": {
        "id": "HHdCyBhr7m5-",
        "colab": {
          "base_uri": "https://localhost:8080/"
        },
        "outputId": "5d433d2c-6315-4597-830b-596f2e5f6fb9"
      },
      "source": [
        "fig = heart_data['creatinine_phosphokinase'].plot(kind='hist').get_figure()\n",
        "plt.title(\"Distribution of CPK enzyme in blood\")\n",
        "plt.xlabel('CPK level in blood (mcg/L)')\n",
        "plt.ylabel(\"Frequency\")\n",
        "fig.savefig('Distribution of CPK enzyme in blood.png')\n",
        "plt.show()"
      ],
      "execution_count": null,
      "outputs": [
        {
          "output_type": "display_data",
          "data": {
            "image/png": "[encoded data removed]",
            "text/plain": [
              "<Figure size 432x288 with 1 Axes>"
            ]
          },
          "metadata": {
            "tags": [],
            "needs_background": "light"
          }
        }
      ]
    },
    {
      "cell_type": "code",
      "metadata": {
        "colab": {
          "base_uri": "https://localhost:8080/"
        },
        "id": "d8pigZCL3mDi",
        "outputId": "188c6b2f-4e8b-4e3d-de77-299f2233c019"
      },
      "source": [
        "# people who died - ejaction fraction distribution\n",
        "fig = heart_data.boxplot(column='ejection_fraction', by = 'DEATH_EVENT').get_figure()\n",
        "plt.title(\"Distribution of ejection_fraction by death event\")\n",
        "plt.xlabel('Death event')\n",
        "plt.ylabel(\"ejaction fraction in %\")\n",
        "fig.savefig('Distribution of ejection_fraction by death event.png')\n",
        "plt.show()"
      ],
      "execution_count": null,
      "outputs": [
        {
          "output_type": "stream",
          "text": [
            "/usr/local/lib/python3.7/dist-packages/numpy/core/_asarray.py:83: VisibleDeprecationWarning: Creating an ndarray from ragged nested sequences (which is a list-or-tuple of lists-or-tuples-or ndarrays with different lengths or shapes) is deprecated. If you meant to do this, you must specify 'dtype=object' when creating the ndarray\n",
            "  return array(a, dtype, copy=False, order=order)\n"
          ],
          "name": "stderr"
        },
        {
          "output_type": "display_data",
          "data": {
            "image/png": "[encoded data removed]",
            "text/plain": [
              "<Figure size 432x288 with 1 Axes>"
            ]
          },
          "metadata": {
            "tags": [],
            "needs_background": "light"
          }
        }
      ]
    },
    {
      "cell_type": "code",
      "metadata": {
        "colab": {
          "base_uri": "https://localhost:8080/"
        },
        "id": "CpzLznW3ae1F",
        "outputId": "f76f4da1-9261-4556-bb30-61179b5f2ed5"
      },
      "source": [
        "fig = heart_data.boxplot(column='creatinine_phosphokinase', by = 'DEATH_EVENT').get_figure()\n",
        "plt.title(\"Distribution of creatinine_phosphokinase by death event\")\n",
        "plt.xlabel('Death event')\n",
        "plt.ylabel(\"creatinine_phosphokinase in mcg/L\")\n",
        "fig.savefig('Distribution of creatinine_phosphokinase by death event.png')\n",
        "plt.show()"
      ],
      "execution_count": null,
      "outputs": [
        {
          "output_type": "stream",
          "text": [
            "/usr/local/lib/python3.7/dist-packages/numpy/core/_asarray.py:83: VisibleDeprecationWarning: Creating an ndarray from ragged nested sequences (which is a list-or-tuple of lists-or-tuples-or ndarrays with different lengths or shapes) is deprecated. If you meant to do this, you must specify 'dtype=object' when creating the ndarray\n",
            "  return array(a, dtype, copy=False, order=order)\n"
          ],
          "name": "stderr"
        },
        {
          "output_type": "display_data",
          "data": {
            "image/png": "[encoded data removed]",
            "text/plain": [
              "<Figure size 432x288 with 1 Axes>"
            ]
          },
          "metadata": {
            "tags": [],
            "needs_background": "light"
          }
        }
      ]
    },
    {
      "cell_type": "markdown",
      "metadata": {
        "id": "QYRcxynVa-37"
      },
      "source": [
        "### Exploring platelets column"
      ]
    },
    {
      "cell_type": "code",
      "metadata": {
        "id": "_n6SrdRbagd6"
      },
      "source": [
        "fig, ax = plt.subplots(2,2,figsize=(15,15))\n",
        "                   \n",
        "platelets = df['platelets']    \n",
        "    \n",
        "ax[0,0].scatter(platelets,df['serum_creatinine'])\n",
        "\n",
        "ax[0,1].scatter(platelets,df['serum_sodium'])\n",
        "\n",
        "#%% To be looked upon\n",
        "sexGrouped = df.groupby('sex')\n",
        "ax[1,0].boxplot(sexGrouped.get_group(0)['platelets'],positions=[1])\n",
        "ax[1,0].boxplot(sexGrouped.get_group(1)['platelets'],positions=[1.3])\n",
        "ax[1,0].set_xticklabels(['Female','Male'])\n",
        "\n",
        "#%% To be looked upon\n",
        "smokingGrouped = df.groupby('smoking')\n",
        "ax[1,1].boxplot(smokingGrouped.get_group(0)['platelets'],positions=[1])\n",
        "ax[1,1].boxplot(smokingGrouped.get_group(1)['platelets'],positions=[1.3])\n",
        "ax[1,1].set_xticklabels(['Non-smokers','Smokers'])\n",
        "\n",
        "fig,ax = plt.subplots(figsize=(7,7))\n",
        "ax.scatter(df['platelets'],df['time'])"
      ],
      "execution_count": null,
      "outputs": []
    },
    {
      "cell_type": "markdown",
      "metadata": {
        "id": "nEnvNlqha4yu"
      },
      "source": [
        "### Exploring serum_creatinine column"
      ]
    },
    {
      "cell_type": "code",
      "metadata": {
        "id": "gASCZeHOahbm"
      },
      "source": [
        "fig,ax = plt.subplots(2,2,figsize=(12,12))\n",
        "fig.tight_layout(pad=8)\n",
        "serum_cret = df['serum_creatinine']\n",
        "\n",
        "\n",
        "ax[0,0].scatter(df['serum_sodium'],serum_cret)\n",
        "ax[0,0].set_title(\"Serum Creatinine VS Serum Sodium\",fontsize=16)\n",
        "ax[0,0].set_xlabel(\"Serum Sodium\",fontsize=14)\n",
        "ax[0,0].set_ylabel(\"Serum Creatinine\",fontsize=14)\n",
        "ax[0,0].set_xticks(np.arange(min(df['serum_sodium']), max(df['serum_sodium']+5), 3))\n",
        "ax[0,0].set_yticks(np.arange(min(df['serum_creatinine']), max(df['serum_creatinine'])+0.1, 0.2))\n",
        "\n",
        "ax[0,1].boxplot(sexGrouped.get_group(0)['serum_creatinine'],positions=[1])\n",
        "ax[0,1].boxplot(sexGrouped.get_group(1)['serum_creatinine'],positions=[1.3])\n",
        "ax[0,1].set_title('Serum Creatinine by Sex',fontsize=16)\n",
        "ax[0,1].set_xticklabels(['Female','Male'])\n",
        "ax[0,1].set_xlabel('Sex',fontsize=(14))\n",
        "ax[0,1].set_ylabel('Serum Creatinine',fontsize=14)\n",
        "\n",
        "ax[1,0].boxplot(smokingGrouped.get_group(0)['serum_creatinine'],positions=[1])\n",
        "ax[1,0].boxplot(smokingGrouped.get_group(1)['serum_creatinine'],positions=[1.3])\n",
        "ax[1,0].set_title('Serum Creatinine by Smoking',fontsize=(16))\n",
        "ax[1,0].set_xlabel('Smoking',fontsize=(14))\n",
        "ax[1,0].set_ylabel('Serum Creatinine',fontsize=(14))\n",
        "ax[1,0].set_xticklabels(['Non-smokers','Smokers'])\n",
        "\n",
        "ax[1,1].scatter(serum_cret,df['time'])\n",
        "ax[1,1].set_title(\"Serum Creatinine VS Time\",fontsize=16)\n",
        "ax[1,1].set_xlabel(\"Serum Sodium\",fontsize=14)\n",
        "ax[1,1].set_ylabel(\"Time\",fontsize=14)\n",
        "ax[1,1].set_yticks(np.arange(min(df['time']), max(df['time']+5), 20))\n",
        "ax[1,1].set_xticks(np.arange(min(df['serum_creatinine']), max(df['serum_creatinine'])+0.1, 0.2))"
      ],
      "execution_count": null,
      "outputs": []
    },
    {
      "cell_type": "markdown",
      "metadata": {
        "id": "lRb-MfKIaxMx"
      },
      "source": [
        "## Exploring Sex Column"
      ]
    },
    {
      "cell_type": "code",
      "metadata": {
        "id": "IGblfznMahdx"
      },
      "source": [
        "fig,ax = plt.subplots(1,2,figsize=(10,10))\n",
        "\n",
        "ax[0].boxplot(sexGrouped.get_group(0)['serum_sodium'],positions=[1])\n",
        "ax[0].boxplot(sexGrouped.get_group(1)['serum_sodium'],positions=[1.3])\n",
        "ax[0].set_title('Serum Sodium by Sex',fontsize=16)\n",
        "ax[0].set_xticklabels(['Female','Male'])\n",
        "ax[0].set_xlabel('Sex',fontsize=(14))\n",
        "ax[0].set_ylabel('Serum Sodium',fontsize=14)\n",
        "\n",
        "ax[1].boxplot(smokingGrouped.get_group(0)['serum_sodium'],positions=[1])\n",
        "ax[1].boxplot(smokingGrouped.get_group(1)['serum_sodium'],positions=[1.3])\n",
        "ax[1].set_title('Serum Sodium by Smoking',fontsize=(16))\n",
        "ax[1].set_xlabel('Smoking',fontsize=(14))\n",
        "ax[1].set_ylabel('Serum Sodium',fontsize=(14))\n",
        "ax[1].set_xticklabels(['Non-smokers','Smokers'])\n",
        "\n",
        "\n",
        "fig,ax = plt.subplots(figsize=(7,7))\n",
        "ax.scatter(df['serum_sodium'],df['time'])\n",
        "ax.set_title(\"Serum Sodium VS Time\",fontsize=16)\n",
        "ax.set_xlabel(\"Serum Sodium\",fontsize=14)\n",
        "ax.set_ylabel(\"Time\",fontsize=14)\n",
        "ax.set_yticks(np.arange(min(df['time']), max(df['time']+50), 20))\n",
        "ax.set_xticks(np.arange(min(df['serum_sodium']), max(df['serum_sodium'])+10, 3))"
      ],
      "execution_count": null,
      "outputs": []
    },
    {
      "cell_type": "markdown",
      "metadata": {
        "id": "JEibdenUbFbm"
      },
      "source": [
        "### Exploring smoking column"
      ]
    },
    {
      "cell_type": "code",
      "metadata": {
        "id": "E8okVwe-ahfy"
      },
      "source": [
        "smokingGrouped = df.groupby(['smoking','sex'])\n",
        "\n",
        "fig,ax = plt.subplots(1,2,figsize=(10,10))\n",
        "fig.tight_layout(pad=5)\n",
        "\n",
        "ax[0].pie(smokingGrouped.describe()['platelets']['count'].loc[slice(1,1)].values,autopct=\"          %1.1f%%\")\n",
        "ax[0].legend(['Female','Male'])\n",
        "ax[0].set_title(\"Composition of Smokers\",fontsize=16)\n",
        "\n",
        "\n",
        "ax[1].boxplot(sexGrouped.get_group(0)['time'],positions=[1])\n",
        "ax[1].boxplot(sexGrouped.get_group(1)['time'],positions=[1.3])\n",
        "ax[1].set_title(\"Sex VS Time\",fontsize=16)\n",
        "ax[1].set_xlabel(\"Sex\",fontsize=14)\n",
        "ax[1].set_ylabel(\"Time\",fontsize=14)\n",
        "ax[1].set_xticklabels(['Female','Male'])"
      ],
      "execution_count": null,
      "outputs": []
    },
    {
      "cell_type": "markdown",
      "metadata": {
        "id": "RFItBg65bWrn"
      },
      "source": [
        "### Exploring with time column"
      ]
    },
    {
      "cell_type": "code",
      "metadata": {
        "id": "C7VsYxAyahh0"
      },
      "source": [
        "fig,ax = plt.subplots(figsize=(7,7))\n",
        "\n",
        "smokingGrouped = df.groupby('smoking')\n",
        "ax.boxplot(smokingGrouped.get_group(0)['time'],positions=[1])\n",
        "ax.boxplot(smokingGrouped.get_group(1)['time'],positions=[1.3])\n",
        "ax.set_title('Serum Sodium by Time',fontsize=(16))\n",
        "ax.set_xlabel('Smoking',fontsize=(14))\n",
        "ax.set_ylabel('Time',fontsize=(14))\n",
        "ax.set_xticklabels(['Non-smokers','Smokers'])"
      ],
      "execution_count": null,
      "outputs": []
    },
    {
      "cell_type": "markdown",
      "metadata": {
        "id": "kGy57Kh1bdwZ"
      },
      "source": [
        "## Exploring with target column"
      ]
    },
    {
      "cell_type": "code",
      "metadata": {
        "id": "eZ3lN3Lvahjp"
      },
      "source": [
        "aliveColumn = df.loc[targetColumn==0]\n",
        "deadColumn = df.loc[targetColumn==1]"
      ],
      "execution_count": null,
      "outputs": []
    },
    {
      "cell_type": "code",
      "metadata": {
        "id": "VEr0QNBkahnY"
      },
      "source": [
        "fig,ax = plt.subplots(3,2,figsize=(10,10))\n",
        "fig.tight_layout(pad=5)\n",
        "\n",
        "for k in range(3):\n",
        "    ax[k,0].plot(aliveColumn[df.columns[k]],color='green')\n",
        "    ax[k,0].legend(\"Alive\")\n",
        "    ax[k,0].set_ylabel(df.columns[k].capitalize(),fontsize=12)\n",
        "    ax[k,0].set_xlabel(\"Number of Observations\",fontsize=12)\n",
        "    ax[k,0].set_title(\"{} of survived patients\".format(df.columns[k].capitalize()),fontsize=14)\n",
        "    \n",
        "    ax[k,1].plot(deadColumn[df.columns[k]],color='red')\n",
        "    ax[k,1].legend(\"Dead\")\n",
        "    ax[k,1].set_ylabel(df.columns[k].capitalize(),fontsize=12)\n",
        "    ax[k,1].set_xlabel(\"Number of Observations\",fontsize=12)\n",
        "    ax[k,1].set_title(\"{} of dead patients\".format(df.columns[k].capitalize()),fontsize=14)"
      ],
      "execution_count": null,
      "outputs": []
    },
    {
      "cell_type": "code",
      "metadata": {
        "id": "lRHGeg2kahpV"
      },
      "source": [
        "fig,ax = plt.subplots(1,2,figsize=(10,10))\n",
        "sexGroup = df.groupby(['sex','DEATH_EVENT'])\n",
        "\n",
        "# Females death ratio\n",
        "ax[0].pie(sexGroup.describe()['platelets']['count'].loc[slice(0,0)],autopct=\"  %1.2f%%\")\n",
        "ax[0].legend(['Alive','Dead'])\n",
        "ax[0].set_title('Females Death Ratio',fontsize=16)\n",
        "\n",
        "# Male death ratio\n",
        "ax[1].pie(sexGroup.describe()['platelets']['count'].loc[slice(1,1)],autopct=\" %1.2f%%\")\n",
        "ax[1].legend(['Alive','Dead'])\n",
        "ax[1].set_title('Males Death Ratio',fontsize=16)"
      ],
      "execution_count": null,
      "outputs": []
    },
    {
      "cell_type": "code",
      "metadata": {
        "id": "CI71dbDZahsO"
      },
      "source": [
        "fig,ax = plt.subplots(1,2,figsize=(10,10))\n",
        "smokeGroup = df.groupby(['smoking','DEATH_EVENT'])\n",
        "\n",
        "# Females death ratio\n",
        "ax[0].pie(smokeGroup.describe()['platelets']['count'].loc[slice(0,0)],autopct=\"  %1.2f%%\")\n",
        "ax[0].legend(['Alive','Dead'])\n",
        "ax[0].set_title('Non-smoker\\'s Death Ratio',fontsize=16)\n",
        "\n",
        "# Male death ratio\n",
        "ax[1].pie(smokeGroup.describe()['platelets']['count'].loc[slice(1,1)],autopct=\" %1.2f%%\")\n",
        "ax[1].legend(['Alive','Dead'])\n",
        "ax[1].set_title('Smoker\\'s Death Ratio',fontsize=16)"
      ],
      "execution_count": null,
      "outputs": []
    },
    {
      "cell_type": "code",
      "metadata": {
        "id": "6G8rQVNnahuo"
      },
      "source": [
        "fig,ax = plt.subplots(figsize=(10,10))\n",
        "\n",
        "ax.plot(df.loc[targetColumn==0]['time'],color='green')\n",
        "ax.plot(df.loc[targetColumn==1]['time'],color='red')\n",
        "ax.legend(['Alive','Dead'])\n",
        "ax.set_title(\"Displaying the follow-up period of dead and alive patients\",fontsize=16) \n",
        "ax.set_xlabel(\"No. of Observations\",fontsize=14)\n",
        "ax.set_ylabel(\"Follow-up period (in days)\",fontsize=14)"
      ],
      "execution_count": null,
      "outputs": []
    },
    {
      "cell_type": "code",
      "metadata": {
        "id": "PrmHxSIWNuIj",
        "colab": {
          "base_uri": "https://localhost:8080/"
        },
        "outputId": "a72437ec-db85-4d4c-99c2-fe8a55ca4e77"
      },
      "source": [
        "from pandas.plotting import scatter_matrix\n",
        "scatter_matrix(heart_data,alpha=0.2,figsize=(16,16),diagonal='hist')\n",
        "plt.title(\"Scatter Matrix of heart dataset\")\n",
        "plt.xlabel('All columns')\n",
        "plt.ylabel(\"all columns\")\n",
        "plt.show()"
      ],
      "execution_count": null,
      "outputs": [
        {
          "output_type": "display_data",
          "data": {
            "image/png": "[encoded data removed]",
            "text/plain": [
              "<Figure size 1152x1152 with 169 Axes>"
            ]
          },
          "metadata": {
            "tags": [],
            "needs_background": "light"
          }
        }
      ]
    },
    {
      "cell_type": "markdown",
      "metadata": {
        "id": "AJS4NYQNbtBa"
      },
      "source": [
        "# Data Modelling\n"
      ]
    },
    {
      "cell_type": "markdown",
      "metadata": {
        "id": "Rlxyj4gLgqdq"
      },
      "source": [
        "### Feature Scaling"
      ]
    },
    {
      "cell_type": "code",
      "metadata": {
        "id": "tgLh0YMDLjjW"
      },
      "source": [
        "from sklearn.preprocessing import MinMaxScaler"
      ],
      "execution_count": null,
      "outputs": []
    },
    {
      "cell_type": "code",
      "metadata": {
        "id": "QFWzZ174stw0"
      },
      "source": [
        "# CPK - left skewed to normalise - MinMaxScalar 0 - 100\n",
        "scaler = MinMaxScaler()\n",
        "ndarray_heart_data = scaler.fit_transform(heart_data)"
      ],
      "execution_count": null,
      "outputs": []
    },
    {
      "cell_type": "code",
      "metadata": {
        "colab": {
          "base_uri": "https://localhost:8080/",
          "height": 204
        },
        "id": "k8ZzI729Nhiv",
        "outputId": "8afe64fd-9f4f-4267-9429-6e3a0ecd5aa4"
      },
      "source": [
        "minmax_heart_data = pd.DataFrame(ndarray_heart_data)\n",
        "minmax_heart_data.head()"
      ],
      "execution_count": null,
      "outputs": [
        {
          "output_type": "execute_result",
          "data": {
            "text/html": [
              "<div>\n",
              "<style scoped>\n",
              "    .dataframe tbody tr th:only-of-type {\n",
              "        vertical-align: middle;\n",
              "    }\n",
              "\n",
              "    .dataframe tbody tr th {\n",
              "        vertical-align: top;\n",
              "    }\n",
              "\n",
              "    .dataframe thead th {\n",
              "        text-align: right;\n",
              "    }\n",
              "</style>\n",
              "<table border=\"1\" class=\"dataframe\">\n",
              "  <thead>\n",
              "    <tr style=\"text-align: right;\">\n",
              "      <th></th>\n",
              "      <th>0</th>\n",
              "      <th>1</th>\n",
              "      <th>2</th>\n",
              "      <th>3</th>\n",
              "      <th>4</th>\n",
              "      <th>5</th>\n",
              "      <th>6</th>\n",
              "      <th>7</th>\n",
              "      <th>8</th>\n",
              "      <th>9</th>\n",
              "      <th>10</th>\n",
              "      <th>11</th>\n",
              "      <th>12</th>\n",
              "    </tr>\n",
              "  </thead>\n",
              "  <tbody>\n",
              "    <tr>\n",
              "      <th>0</th>\n",
              "      <td>0.636364</td>\n",
              "      <td>0.0</td>\n",
              "      <td>0.071319</td>\n",
              "      <td>0.0</td>\n",
              "      <td>0.090909</td>\n",
              "      <td>1.0</td>\n",
              "      <td>0.290823</td>\n",
              "      <td>0.157303</td>\n",
              "      <td>0.485714</td>\n",
              "      <td>1.0</td>\n",
              "      <td>0.0</td>\n",
              "      <td>0.000000</td>\n",
              "      <td>1.0</td>\n",
              "    </tr>\n",
              "    <tr>\n",
              "      <th>1</th>\n",
              "      <td>0.272727</td>\n",
              "      <td>0.0</td>\n",
              "      <td>1.000000</td>\n",
              "      <td>0.0</td>\n",
              "      <td>0.363636</td>\n",
              "      <td>0.0</td>\n",
              "      <td>0.288833</td>\n",
              "      <td>0.067416</td>\n",
              "      <td>0.657143</td>\n",
              "      <td>1.0</td>\n",
              "      <td>0.0</td>\n",
              "      <td>0.007117</td>\n",
              "      <td>1.0</td>\n",
              "    </tr>\n",
              "    <tr>\n",
              "      <th>2</th>\n",
              "      <td>0.454545</td>\n",
              "      <td>0.0</td>\n",
              "      <td>0.015693</td>\n",
              "      <td>0.0</td>\n",
              "      <td>0.090909</td>\n",
              "      <td>0.0</td>\n",
              "      <td>0.165960</td>\n",
              "      <td>0.089888</td>\n",
              "      <td>0.457143</td>\n",
              "      <td>1.0</td>\n",
              "      <td>1.0</td>\n",
              "      <td>0.010676</td>\n",
              "      <td>1.0</td>\n",
              "    </tr>\n",
              "    <tr>\n",
              "      <th>3</th>\n",
              "      <td>0.181818</td>\n",
              "      <td>1.0</td>\n",
              "      <td>0.011227</td>\n",
              "      <td>0.0</td>\n",
              "      <td>0.090909</td>\n",
              "      <td>0.0</td>\n",
              "      <td>0.224148</td>\n",
              "      <td>0.157303</td>\n",
              "      <td>0.685714</td>\n",
              "      <td>1.0</td>\n",
              "      <td>0.0</td>\n",
              "      <td>0.010676</td>\n",
              "      <td>1.0</td>\n",
              "    </tr>\n",
              "    <tr>\n",
              "      <th>4</th>\n",
              "      <td>0.454545</td>\n",
              "      <td>1.0</td>\n",
              "      <td>0.017479</td>\n",
              "      <td>1.0</td>\n",
              "      <td>0.090909</td>\n",
              "      <td>0.0</td>\n",
              "      <td>0.365984</td>\n",
              "      <td>0.247191</td>\n",
              "      <td>0.085714</td>\n",
              "      <td>0.0</td>\n",
              "      <td>0.0</td>\n",
              "      <td>0.014235</td>\n",
              "      <td>1.0</td>\n",
              "    </tr>\n",
              "  </tbody>\n",
              "</table>\n",
              "</div>"
            ],
            "text/plain": [
              "         0    1         2    3         4   ...        8    9    10        11   12\n",
              "0  0.636364  0.0  0.071319  0.0  0.090909  ...  0.485714  1.0  0.0  0.000000  1.0\n",
              "1  0.272727  0.0  1.000000  0.0  0.363636  ...  0.657143  1.0  0.0  0.007117  1.0\n",
              "2  0.454545  0.0  0.015693  0.0  0.090909  ...  0.457143  1.0  1.0  0.010676  1.0\n",
              "3  0.181818  1.0  0.011227  0.0  0.090909  ...  0.685714  1.0  0.0  0.010676  1.0\n",
              "4  0.454545  1.0  0.017479  1.0  0.090909  ...  0.085714  0.0  0.0  0.014235  1.0\n",
              "\n",
              "[5 rows x 13 columns]"
            ]
          },
          "metadata": {
            "tags": []
          },
          "execution_count": 52
        }
      ]
    },
    {
      "cell_type": "code",
      "metadata": {
        "id": "uoZDsumMmDN5"
      },
      "source": [
        "X = minmax_heart_data.iloc[:, :12]"
      ],
      "execution_count": null,
      "outputs": []
    },
    {
      "cell_type": "code",
      "metadata": {
        "id": "nG5Duu7ImEZa"
      },
      "source": [
        "target = heart_data['DEATH_EVENT']"
      ],
      "execution_count": null,
      "outputs": []
    },
    {
      "cell_type": "markdown",
      "metadata": {
        "id": "MjNbkfTjgvQK"
      },
      "source": [
        "### Model Selection - kNN"
      ]
    },
    {
      "cell_type": "code",
      "metadata": {
        "id": "OlhHLBV9g2ZR"
      },
      "source": [
        "from sklearn.model_selection import train_test_split\n",
        "from sklearn.neighbors import KNeighborsClassifier\n",
        "from sklearn.metrics import confusion_matrix, classification_report,accuracy_score\n",
        "from sklearn.tree import DecisionTreeClassifier\n",
        "from sklearn.preprocessing import StandardScaler\n",
        "from sklearn.feature_selection import chi2,SelectKBest"
      ],
      "execution_count": null,
      "outputs": []
    },
    {
      "cell_type": "markdown",
      "metadata": {
        "id": "qUX-f0R4ZSrZ"
      },
      "source": [
        "#### Hold-out validation 25% test cases"
      ]
    },
    {
      "cell_type": "code",
      "metadata": {
        "id": "3BhmxKLAZRKe"
      },
      "source": [
        "X_train, X_test, y_train, y_test = train_test_split(X,target,test_size=0.25,random_state=4)"
      ],
      "execution_count": null,
      "outputs": []
    },
    {
      "cell_type": "code",
      "metadata": {
        "id": "5Z4M-fv1YbP6",
        "colab": {
          "base_uri": "https://localhost:8080/"
        },
        "outputId": "3594500f-5cd2-4c69-c438-3c3f0a54156d"
      },
      "source": [
        "# different values of k, weights = uniform, euclidean distance\n",
        "for i in range(2,8):\n",
        "  clf = KNeighborsClassifier(i)\n",
        "  fit = clf.fit(X_train, y_train)\n",
        "  predicted = fit.predict(X_test)\n",
        "  cm = confusion_matrix(y_test, predicted)\n",
        "\n",
        "  # overall training loss - Return the mean accuracy on the given test data \n",
        "  print(\" k = {}, accuracy score: {:.5f}\".format(i, clf.score(X_test,y_test)))\n",
        "  #print(classification_report(y_test, predicted))\n",
        "  #print(cm)"
      ],
      "execution_count": null,
      "outputs": [
        {
          "output_type": "stream",
          "text": [
            " k = 2, accuracy score: 0.74667\n",
            " k = 3, accuracy score: 0.77333\n",
            " k = 4, accuracy score: 0.69333\n",
            " k = 5, accuracy score: 0.73333\n",
            " k = 6, accuracy score: 0.70667\n",
            " k = 7, accuracy score: 0.74667\n"
          ],
          "name": "stdout"
        }
      ]
    },
    {
      "cell_type": "code",
      "metadata": {
        "id": "BlFpnmlBjGMn",
        "colab": {
          "base_uri": "https://localhost:8080/"
        },
        "outputId": "9cceba6e-4a3f-423d-d062-cbc9777a9a4d"
      },
      "source": [
        "# different values of k with weigths = distance and Euclidean metric (p=2)\n",
        "# (closer observation will have more effect on prediction) \n",
        "for i in range(2,8):\n",
        "  clf = KNeighborsClassifier(i, weights=\"distance\")\n",
        "  fit = clf.fit(X_train, y_train)\n",
        "  predicted = fit.predict(X_test)\n",
        "  cm = confusion_matrix(y_test, predicted)\n",
        "\n",
        "  # overall training loss - Return the mean accuracy on the given test data \n",
        "  print(\" k = {}, accuracy score: {:.5f}\".format(i, clf.score(X_test,y_test)))\n",
        "  #print(classification_report(y_test, predicted))\n",
        "  #print(cm)"
      ],
      "execution_count": null,
      "outputs": [
        {
          "output_type": "stream",
          "text": [
            " k = 2, accuracy score: 0.66667\n",
            " k = 3, accuracy score: 0.74667\n",
            " k = 4, accuracy score: 0.74667\n",
            " k = 5, accuracy score: 0.76000\n",
            " k = 6, accuracy score: 0.73333\n",
            " k = 7, accuracy score: 0.76000\n"
          ],
          "name": "stdout"
        }
      ]
    },
    {
      "cell_type": "code",
      "metadata": {
        "id": "iQhjctOWYxB2",
        "colab": {
          "base_uri": "https://localhost:8080/"
        },
        "outputId": "8b699df4-f3a7-4bce-84a6-a9f2db3bfe3b"
      },
      "source": [
        "# different values of k, weigths = distance (closer observation will have more effect on prediction) \n",
        "# and Manhattan metric (p=1)\n",
        "# high dimension data\n",
        "for i in range(2,8):\n",
        "  clf = KNeighborsClassifier(i, weights=\"distance\", metric=\"minkowski\", p=1)\n",
        "  fit = clf.fit(X_train, y_train)\n",
        "  predicted = fit.predict(X_test)\n",
        "  cm = confusion_matrix(y_test, predicted)\n",
        "\n",
        "  # overall training loss - Return the mean accuracy on the given test data \n",
        "  print(\" k = {}, accuracy score: {:.5f}\".format(i, clf.score(X_test,y_test)))\n",
        "  #print(classification_report(y_test, predicted))\n",
        "  #print(cm)"
      ],
      "execution_count": null,
      "outputs": [
        {
          "output_type": "stream",
          "text": [
            " k = 2, accuracy score: 0.62667\n",
            " k = 3, accuracy score: 0.68000\n",
            " k = 4, accuracy score: 0.73333\n",
            " k = 5, accuracy score: 0.78667\n",
            " k = 6, accuracy score: 0.73333\n",
            " k = 7, accuracy score: 0.74667\n"
          ],
          "name": "stdout"
        }
      ]
    },
    {
      "cell_type": "code",
      "metadata": {
        "id": "CrorL8ZOY2Qz",
        "colab": {
          "base_uri": "https://localhost:8080/"
        },
        "outputId": "ce7f2785-179d-4550-a276-b4ec5392464e"
      },
      "source": [
        "#feature selection with the best performing kNN model\n",
        "\n",
        "# shuffle​ package to randomize the order of features\n",
        "from sklearn.utils import shuffle\n",
        "new_Ind = []\n",
        "cur_MaxScore = 0.0\n",
        "col_num = X.shape[1]\n",
        "col_Ind_Random = shuffle(range(0,col_num), random_state=1)\n",
        "\n",
        "\n",
        "\n",
        "for cur_f in range(0, col_num):\n",
        "  new_Ind.append(col_Ind_Random[cur_f])\n",
        "  newData = X.iloc[:, new_Ind].copy()\n",
        "  X_train, X_test, y_train, y_test = train_test_split(newData, target, test_size=0.25, random_state=0)\n",
        "  clf = KNeighborsClassifier(5, weights='distance', p=1)\n",
        "  fit = clf.fit(X_train, y_train)\n",
        "  cur_Score = clf.score(X_test, y_test)\n",
        "  if cur_Score < cur_MaxScore:\n",
        "    new_Ind.remove(col_Ind_Random[cur_f])\n",
        "  else:\n",
        "    cur_MaxScore = cur_Score\n",
        "    print(\"Score with \" + str(len(new_Ind)) + \" selected features: \" + str(cur_Score)) #see if you can get the names of the features printed\n",
        "\n",
        "print(\"There are \" + str(len(new_Ind)) + \" features selected:\")"
      ],
      "execution_count": null,
      "outputs": [
        {
          "output_type": "stream",
          "text": [
            "Score with 1 selected features: 0.5866666666666667\n",
            "Score with 2 selected features: 0.6133333333333333\n",
            "Score with 3 selected features: 0.64\n",
            "Score with 4 selected features: 0.64\n",
            "Score with 5 selected features: 0.68\n",
            "Score with 6 selected features: 0.8\n",
            "There are 6 features selected:\n"
          ],
          "name": "stdout"
        }
      ]
    },
    {
      "cell_type": "markdown",
      "metadata": {
        "id": "o7sDSFvedHXn"
      },
      "source": [
        ""
      ]
    },
    {
      "cell_type": "code",
      "metadata": {
        "id": "lnT1mgs4dOXu"
      },
      "source": [
        "from copy import deepcopy\n",
        "from tabulate import tabulate\n",
        "df2 = deepcopy(heart_data)\n",
        "scaler = StandardScaler()\n",
        "dtc = DecisionTreeClassifier()\n",
        "knn = KNeighborsClassifier(5)"
      ],
      "execution_count": null,
      "outputs": []
    },
    {
      "cell_type": "code",
      "metadata": {
        "id": "NpCfws9xdOaZ"
      },
      "source": [
        "def createModels(data):\n",
        "    x_train,x_test,y_train,y_test = train_test_split(data,df2.iloc[:,-1])\n",
        "    dtc.fit(x_train,y_train)\n",
        "    knn.fit(x_train,y_train)\n",
        "    return {'y_test':y_test,'d_pred':dtc.predict(x_test),'k_pred':knn.predict(x_test)}\n",
        "    \n",
        "def retAccuracy(y_true,y_pred):\n",
        "    tn,fp,fn,tp = confusion_matrix(y_true,y_pred).ravel()\n",
        "    return round((tn+tp)*100/(tn+tp+fp+fn),3)"
      ],
      "execution_count": null,
      "outputs": []
    },
    {
      "cell_type": "code",
      "metadata": {
        "id": "hd95aKqedOcm"
      },
      "source": [
        "def makeAModel(x_train,y_train,y_test):\n",
        "    accuracy_dict = {}\n",
        "    for x in range(2,10):\n",
        "        knn = KNeighborsClassifier(x)\n",
        "        knn.fit(x_train,y_train)\n",
        "        y_pred = knn.predict(x_test)\n",
        "        tn,fp,fn,tp = confusion_matrix(y_pred,y_test).ravel()\n",
        "#         print(\"The one for K Nearest is with\",x,\"neighbors is:\",round((tn+tp)*100/(tn+tp+fp+fn),3))\n",
        "        accuracy_dict[x] = round((tn+tp)*100/(tn+tp+fp+fn),3)\n",
        "        \n",
        "    dtc.fit(x_train,y_train)\n",
        "    y_pred = dtc.predict(x_test)\n",
        "    tn,fp,fn,tp = confusion_matrix(y_pred,y_test).ravel()\n",
        "\n",
        "#     print(\"The one for decision tree:\",round((tn+tp)*100/(tn+tp+fp+fn),3))\n",
        "    accuracy_dict['d'] = round((tn+tp)*100/(tn+tp+fp+fn),3)\n",
        "    return accuracy_dict"
      ],
      "execution_count": null,
      "outputs": []
    },
    {
      "cell_type": "markdown",
      "metadata": {
        "id": "6x4kXJpxdYVe"
      },
      "source": [
        "## Using all columns"
      ]
    },
    {
      "cell_type": "code",
      "metadata": {
        "id": "waFA4Iq2dOh4"
      },
      "source": [
        "scaledData = scaler.fit_transform(df2.iloc[:,:-1])\n",
        "\n",
        "d_li, k_li = [],[]\n",
        "for x in range(100):\n",
        "    model_prediction_dict = createModels(scaledData)\n",
        "    d_li.append(retAccuracy(model_prediction_dict['y_test'], model_prediction_dict['d_pred']))\n",
        "    k_li.append(retAccuracy(model_prediction_dict['y_test'], model_prediction_dict['k_pred']))\n",
        "    \n",
        "print(np.array(d_li).mean())\n",
        "print(np.array(k_li).mean())"
      ],
      "execution_count": null,
      "outputs": []
    },
    {
      "cell_type": "markdown",
      "metadata": {
        "id": "-xRm260idf8n"
      },
      "source": [
        "## Checking accuracy with single columns"
      ]
    },
    {
      "cell_type": "code",
      "metadata": {
        "id": "THi5bcw2dOkf"
      },
      "source": [
        "column_list = df2.columns.to_list()[:-1]\n",
        "li=[]\n",
        "for x in column_list:\n",
        "    column_mean_d,column_mean_k = [],[]\n",
        "    scaledData = scaler.fit_transform(heart_data[[x]])\n",
        "    for y in range(50):\n",
        "        model_prediction_dict = createModels(scaledData)\n",
        "        column_mean_d.append(retAccuracy(model_prediction_dict['y_test'], model_prediction_dict['d_pred']))\n",
        "        column_mean_k.append(retAccuracy(model_prediction_dict['y_test'], model_prediction_dict['k_pred']))\n",
        "        \n",
        "    li.append([x,round(np.array(column_mean_d).mean(),2),round(np.array(column_mean_k).mean(),2)])\n",
        "    \n",
        "print(tabulate(li,headers=['Column_Name','Accuracy with Decision Tree','Accuracy with KNN']))"
      ],
      "execution_count": null,
      "outputs": []
    },
    {
      "cell_type": "markdown",
      "metadata": {
        "id": "yAP4EIjRdn4e"
      },
      "source": [
        "## Feature Engineering"
      ]
    },
    {
      "cell_type": "code",
      "metadata": {
        "id": "taePoXgCdOl6"
      },
      "source": [
        "column_mean_d, column_mean_k =[],[]\n",
        "check_dict={}\n",
        "for x in range(100):\n",
        "    df_new = SelectKBest(chi2,k=(x%10)+1).fit_transform(heart_data.iloc[:,:-1],heart_data.iloc[:,-1])\n",
        "    scaledData = scaler.fit_transform(df_new)\n",
        "    model_prediction_dict = createModels(scaledData)\n",
        "    if ((x%10)+1) in check_dict:\n",
        "        check_dict[((x%10)+1)].append(retAccuracy(model_prediction_dict['y_test'], model_prediction_dict['k_pred']))\n",
        "    else:\n",
        "        check_dict[((x%10)+1)]=[]\n",
        "\n",
        "    \n",
        "for x in check_dict:\n",
        "    check_dict[x]=np.array(check_dict[x]).mean()\n",
        "    \n",
        "check_dict"
      ],
      "execution_count": null,
      "outputs": []
    },
    {
      "cell_type": "code",
      "metadata": {
        "id": "MJTU04bZdOnj"
      },
      "source": [
        "import random\n",
        "\n",
        "d_accuracy_df = pd.DataFrame(columns=['nColumns','acc'])\n",
        "k_accuracy_df = pd.DataFrame(columns=['nColumns','k_value','acc'])\n",
        "i=0\n",
        "l=0\n",
        "\n",
        "for k in range(50):\n",
        "    column_list = df2.columns.to_list()[:-1]\n",
        "    random.shuffle(column_list)\n",
        "    column_names=[]\n",
        "    for x in column_list:\n",
        "        column_names.append(x)\n",
        "        scaledData = scaler.fit_transform(df2[column_names])\n",
        "        x_train,x_test,y_train,y_test = train_test_split(scaledData,df.iloc[:,-1])\n",
        "        accuracy_dict = makeAModel(x_train,y_train,y_test)\n",
        "        for j in range(2,10):\n",
        "            k_accuracy_df.loc[l] = [len(column_names)]+[str(j)]+[accuracy_dict[j]]\n",
        "            l+=1\n",
        "        \n",
        "        d_accuracy_df.loc[i] = [len(column_names)]+[accuracy_dict['d']]\n",
        "        i+=1"
      ],
      "execution_count": null,
      "outputs": []
    },
    {
      "cell_type": "markdown",
      "metadata": {
        "id": "7iqgw-D7dvXQ"
      },
      "source": [
        "## Plotting observations from feature engineering"
      ]
    },
    {
      "cell_type": "code",
      "metadata": {
        "id": "N1iMhedqdOpb"
      },
      "source": [
        "grouped = d_accuracy_df.groupby('nColumns')\n",
        "plt.plot(np.arange(1,len(column_list)+1),grouped.mean()['acc'],color='black')\n",
        "plt.title(\"Accuracy vs Number of Columns\",fontsize=16)\n",
        "plt.xlabel(\"Number of Columns\",fontsize=12)\n",
        "plt.ylabel(\"Accuracy\",fontsize=12)"
      ],
      "execution_count": null,
      "outputs": []
    },
    {
      "cell_type": "code",
      "metadata": {
        "id": "9BTKeSwQdOr6"
      },
      "source": [
        "fig,ax = plt.subplots(len(column_list),1,figsize=(7,30))\n",
        "fig.tight_layout(pad=5)\n",
        "\n",
        "for x in range(1,len(column_list)+1):\n",
        "    ax[x-1].plot(grouped.get_group(x)['acc'])\n",
        "    ax[x-1].set_xticks(np.arange(0,700,50))\n",
        "    ax[x-1].set_yticks(np.arange(50,100,10))\n",
        "    ax[x-1].set_title(\"With \"+str(x)+\" columns\",fontsize=16)\n",
        "    ax[x-1].set_xlabel(\"No. of Iterations\",fontsize=12)\n",
        "    ax[x-1].set_ylabel(\"Accuracy in percentage\",fontsize=12)"
      ],
      "execution_count": null,
      "outputs": []
    },
    {
      "cell_type": "code",
      "metadata": {
        "id": "CUxLKu4wdOs6"
      },
      "source": [
        "groupedKNN = k_accuracy_df.groupby(['nColumns','k_value'])\n",
        "fig, ax = plt.subplots(len(column_list),1,figsize=(7,60))\n",
        "fig.tight_layout(pad=5)\n",
        "\n",
        "mean_list=[]\n",
        "for j in range(1,len(column_list)+1):\n",
        "    mean_list=[]\n",
        "    for i in range(2,10):\n",
        "        mean_list.append(groupedKNN.get_group((j,str(i))).mean()['acc'])\n",
        "    ax[j-1].plot(np.arange(2,10), mean_list,color = ['red','blue','yellow','green'][np.random.randint(0,4)])\n",
        "    ax[j-1].set_xlabel(\"Number of Neighbors\")\n",
        "    ax[j-1].set_ylabel(\"Accuracy\")\n",
        "    ax[j-1].set_title(\"Accuracy with \"+str(j)+\" column(s)\")"
      ],
      "execution_count": null,
      "outputs": []
    },
    {
      "cell_type": "markdown",
      "metadata": {
        "id": "qc6Aijl7eGHf"
      },
      "source": [
        "## Acquiring featured columns"
      ]
    },
    {
      "cell_type": "code",
      "metadata": {
        "id": "xJjT8cRHeBLe"
      },
      "source": [
        "scaledData = scaler.fit_transform(df2.loc[:280,['ejection_fraction','serum_creatinine','time']])\n",
        "model_prediction_dict={}\n",
        "column_mean_d, column_mean_k =[],[]\n",
        "max_el_list=[]\n",
        "\n",
        "for x in range(20):\n",
        "    check_dict = {}\n",
        "    for x in range(1,100):\n",
        "        knn_new = KNeighborsClassifier((x%20)+1,metric=\"minkowski\",p=2)\n",
        "        x_train,x_test,y_train,y_test = train_test_split(scaledData,df2.iloc[:,-1],random_state=2)\n",
        "        knn_new.fit(x_train,y_train)\n",
        "        y_pred = knn_new.predict(x_test)\n",
        "        if ((x%20)+1) in check_dict:\n",
        "            check_dict[((x%20)+1)].append(accuracy_score(y_test,y_pred))\n",
        "        else:\n",
        "            check_dict[((x%20)+1)]=[]\n",
        "            \n",
        "    max_accuracy = 0\n",
        "    max_el=0\n",
        "    for x in check_dict:\n",
        "        check_dict[x]=np.array(check_dict[x]).mean()\n",
        "        if(check_dict[x]>max_accuracy):\n",
        "            max_accuracy=check_dict[x]\n",
        "            max_el=x\n",
        "    max_el_list.append(max_el)\n",
        "    \n",
        "print(\"The maximum accuracy is\",round(max_accuracy*100,2))\n",
        "\n",
        "max_times=0\n",
        "max_times_el=0\n",
        "value_of_k = {}\n",
        "for i in max_el_list:\n",
        "    if i not in value_of_k:\n",
        "        value_of_k[i]=1\n",
        "    else:\n",
        "        value_of_k[i]+=1\n",
        "        if value_of_k[i]>max_times:\n",
        "            max_times_el=i\n",
        "            max_times=value_of_k[i]\n",
        "\n",
        "print(\"The perfect value for k is\",max_times_el)"
      ],
      "execution_count": null,
      "outputs": []
    },
    {
      "cell_type": "markdown",
      "metadata": {
        "id": "OJNXn28nZMaX"
      },
      "source": [
        "#### k-fold validation\n",
        "\n"
      ]
    },
    {
      "cell_type": "code",
      "metadata": {
        "id": "pZ63zGoli-Bj",
        "colab": {
          "base_uri": "https://localhost:8080/"
        },
        "outputId": "d000eee7-2d7b-4c63-f116-2d04592086f8"
      },
      "source": [
        "from sklearn.model_selection import KFold\n",
        "kf = KFold(n_splits=5,random_state=4)"
      ],
      "execution_count": null,
      "outputs": [
        {
          "output_type": "stream",
          "text": [
            "/usr/local/lib/python3.7/dist-packages/sklearn/model_selection/_split.py:296: FutureWarning: Setting a random_state has no effect since shuffle is False. This will raise an error in 0.24. You should leave random_state to its default (None), or set shuffle=True.\n",
            "  FutureWarning\n"
          ],
          "name": "stderr"
        }
      ]
    },
    {
      "cell_type": "code",
      "metadata": {
        "id": "2p1JEy5_0GtH"
      },
      "source": [
        "clf = KNeighborsClassifier(3)"
      ],
      "execution_count": null,
      "outputs": []
    },
    {
      "cell_type": "code",
      "metadata": {
        "id": "AE-Nm42Uqn6L",
        "colab": {
          "base_uri": "https://localhost:8080/"
        },
        "outputId": "b4ed2eee-cd24-439f-91ae-0b2229fad6f8"
      },
      "source": [
        " for k, (train_index, test_index) in enumerate(kf.split(X)):\n",
        "   X_train, X_test = X.iloc[train_index], X.iloc[test_index]\n",
        "   y_train, y_test = target[train_index], target[test_index]\n",
        "   clf.fit(X_train, y_train)\n",
        "   print(\"[fold {0}] score: {1:.5f}\".format(k, clf.score(X_test,y_test)))"
      ],
      "execution_count": null,
      "outputs": [
        {
          "output_type": "stream",
          "text": [
            "[fold 0] score: 0.21667\n",
            "[fold 1] score: 0.56667\n",
            "[fold 2] score: 0.65000\n",
            "[fold 3] score: 0.78333\n",
            "[fold 4] score: 0.94915\n"
          ],
          "name": "stdout"
        }
      ]
    },
    {
      "cell_type": "code",
      "metadata": {
        "id": "Hjlo4Z9w04Wx"
      },
      "source": [
        "clf = KNeighborsClassifier(5)"
      ],
      "execution_count": null,
      "outputs": []
    },
    {
      "cell_type": "code",
      "metadata": {
        "id": "TOHCn5Nw1W6I",
        "colab": {
          "base_uri": "https://localhost:8080/"
        },
        "outputId": "5938c761-cc55-447a-b623-81fd7611468e"
      },
      "source": [
        "for k, (train_index, test_index) in enumerate(kf.split(X)):\n",
        "   X_train, X_test = X.iloc[train_index], X.iloc[test_index]\n",
        "   y_train, y_test = target[train_index], target[test_index]\n",
        "   clf.fit(X_train, y_train)\n",
        "   print(\"[fold {0}] score: {1:.5f}\".format(k, clf.score(X_test,y_test)))"
      ],
      "execution_count": null,
      "outputs": [
        {
          "output_type": "stream",
          "text": [
            "[fold 0] score: 0.10000\n",
            "[fold 1] score: 0.60000\n",
            "[fold 2] score: 0.68333\n",
            "[fold 3] score: 0.75000\n",
            "[fold 4] score: 0.91525\n"
          ],
          "name": "stdout"
        }
      ]
    },
    {
      "cell_type": "code",
      "metadata": {
        "id": "Mv3H9k9O1Ozt"
      },
      "source": [
        "clf = KNeighborsClassifier(7)"
      ],
      "execution_count": null,
      "outputs": []
    },
    {
      "cell_type": "code",
      "metadata": {
        "id": "UwpMQFhi1aSw",
        "colab": {
          "base_uri": "https://localhost:8080/"
        },
        "outputId": "e32ecf1c-1a7b-4dfe-af20-48fdc73eb0ba"
      },
      "source": [
        "for k, (train_index, test_index) in enumerate(kf.split(X)):\n",
        "  X_train, X_test = X.iloc[train_index], X.iloc[test_index]\n",
        "  y_train, y_test = target[train_index], target[test_index]\n",
        "  clf.fit(X_train, y_train)\n",
        "  print(\"[fold {0}] score: {1:.5f}\".format(k, clf.score(X_test,y_test)))"
      ],
      "execution_count": null,
      "outputs": [
        {
          "output_type": "stream",
          "text": [
            "[fold 0] score: 0.13333\n",
            "[fold 1] score: 0.58333\n",
            "[fold 2] score: 0.81667\n",
            "[fold 3] score: 0.75000\n",
            "[fold 4] score: 0.91525\n"
          ],
          "name": "stdout"
        }
      ]
    },
    {
      "cell_type": "code",
      "metadata": {
        "id": "9q5fZ2lFZK0U",
        "colab": {
          "base_uri": "https://localhost:8080/"
        },
        "outputId": "5ca64e9f-d0a2-41f2-aa74-f17c1a030869"
      },
      "source": [
        "kf = KFold(n_splits=7,random_state=4)"
      ],
      "execution_count": null,
      "outputs": [
        {
          "output_type": "stream",
          "text": [
            "/usr/local/lib/python3.7/dist-packages/sklearn/model_selection/_split.py:296: FutureWarning: Setting a random_state has no effect since shuffle is False. This will raise an error in 0.24. You should leave random_state to its default (None), or set shuffle=True.\n",
            "  FutureWarning\n"
          ],
          "name": "stderr"
        }
      ]
    },
    {
      "cell_type": "code",
      "metadata": {
        "id": "Icttj0v11xiX",
        "colab": {
          "base_uri": "https://localhost:8080/"
        },
        "outputId": "d073c91b-9f05-43f9-b5c3-8daddcab7635"
      },
      "source": [
        "clf = KNeighborsClassifier(3)\n",
        "for k, (train_index, test_index) in enumerate(kf.split(X)):\n",
        "   X_train, X_test = X.iloc[train_index], X.iloc[test_index]\n",
        "   y_train, y_test = target[train_index], target[test_index]\n",
        "   clf.fit(X_train, y_train)\n",
        "   print(\"[fold {0}] score: {1:.5f}\".format(k, clf.score(X_test,y_test)))"
      ],
      "execution_count": null,
      "outputs": [
        {
          "output_type": "stream",
          "text": [
            "[fold 0] score: 0.41860\n",
            "[fold 1] score: 0.41860\n",
            "[fold 2] score: 0.67442\n",
            "[fold 3] score: 0.79070\n",
            "[fold 4] score: 0.74419\n",
            "[fold 5] score: 0.88095\n",
            "[fold 6] score: 0.95238\n"
          ],
          "name": "stdout"
        }
      ]
    },
    {
      "cell_type": "code",
      "metadata": {
        "id": "uSjup52a12Gh",
        "colab": {
          "base_uri": "https://localhost:8080/"
        },
        "outputId": "67c83e3b-58b6-473e-c8c7-9da9a0d4f72d"
      },
      "source": [
        "clf = KNeighborsClassifier(5)\n",
        "for k, (train_index, test_index) in enumerate(kf.split(X)):\n",
        "   X_train, X_test = X.iloc[train_index], X.iloc[test_index]\n",
        "   y_train, y_test = target[train_index], target[test_index]\n",
        "   clf.fit(X_train, y_train)\n",
        "   print(\"[fold {0}] score: {1:.5f}\".format(k, clf.score(X_test,y_test)))"
      ],
      "execution_count": null,
      "outputs": [
        {
          "output_type": "stream",
          "text": [
            "[fold 0] score: 0.18605\n",
            "[fold 1] score: 0.37209\n",
            "[fold 2] score: 0.62791\n",
            "[fold 3] score: 0.79070\n",
            "[fold 4] score: 0.67442\n",
            "[fold 5] score: 0.90476\n",
            "[fold 6] score: 0.90476\n"
          ],
          "name": "stdout"
        }
      ]
    },
    {
      "cell_type": "code",
      "metadata": {
        "id": "NtlszOEt17bG",
        "colab": {
          "base_uri": "https://localhost:8080/"
        },
        "outputId": "7d3a71f2-0804-40c1-efef-c17db73273e0"
      },
      "source": [
        "clf = KNeighborsClassifier(7)\n",
        "for k, (train_index, test_index) in enumerate(kf.split(X)):\n",
        "   X_train, X_test = X.iloc[train_index], X.iloc[test_index]\n",
        "   y_train, y_test = target[train_index], target[test_index]\n",
        "   clf.fit(X_train, y_train)\n",
        "   print(\"[fold {0}] score: {1:.5f}\".format(k, clf.score(X_test,y_test)))"
      ],
      "execution_count": null,
      "outputs": [
        {
          "output_type": "stream",
          "text": [
            "[fold 0] score: 0.16279\n",
            "[fold 1] score: 0.39535\n",
            "[fold 2] score: 0.67442\n",
            "[fold 3] score: 0.81395\n",
            "[fold 4] score: 0.67442\n",
            "[fold 5] score: 0.90476\n",
            "[fold 6] score: 0.90476\n"
          ],
          "name": "stdout"
        }
      ]
    },
    {
      "cell_type": "code",
      "metadata": {
        "id": "gEu4wUSr2iaU",
        "colab": {
          "base_uri": "https://localhost:8080/"
        },
        "outputId": "1083e41b-e1a5-4eca-bc45-28ec3215dd35"
      },
      "source": [
        "kf = KFold(n_splits=5,random_state=4)"
      ],
      "execution_count": null,
      "outputs": [
        {
          "output_type": "stream",
          "text": [
            "/usr/local/lib/python3.7/dist-packages/sklearn/model_selection/_split.py:296: FutureWarning: Setting a random_state has no effect since shuffle is False. This will raise an error in 0.24. You should leave random_state to its default (None), or set shuffle=True.\n",
            "  FutureWarning\n"
          ],
          "name": "stderr"
        }
      ]
    },
    {
      "cell_type": "code",
      "metadata": {
        "id": "6a1-Q9m-2Uj-",
        "colab": {
          "base_uri": "https://localhost:8080/"
        },
        "outputId": "fc38830a-e11c-4655-8a35-25f252ad52f7"
      },
      "source": [
        "# different values of k with weigths = distance and Euclidean metric (p=2)\n",
        "# (closer observation will have more effect on prediction) \n",
        "clf = KNeighborsClassifier(3, weights=\"distance\")\n",
        "for k, (train_index, test_index) in enumerate(kf.split(X)):\n",
        "  X_train, X_test = X.iloc[train_index], X.iloc[test_index]\n",
        "  y_train, y_test = target[train_index], target[test_index]\n",
        "  clf.fit(X_train, y_train)\n",
        "  print(\"[fold {0}] score: {1:.5f}\".format(k, clf.score(X_test,y_test)))"
      ],
      "execution_count": null,
      "outputs": [
        {
          "output_type": "stream",
          "text": [
            "[fold 0] score: 0.21667\n",
            "[fold 1] score: 0.56667\n",
            "[fold 2] score: 0.63333\n",
            "[fold 3] score: 0.78333\n",
            "[fold 4] score: 0.93220\n"
          ],
          "name": "stdout"
        }
      ]
    },
    {
      "cell_type": "code",
      "metadata": {
        "id": "G1fxa6xzkvDB",
        "colab": {
          "base_uri": "https://localhost:8080/"
        },
        "outputId": "ec116343-b1f6-45aa-e4eb-a79245ee42bb"
      },
      "source": [
        "clf = KNeighborsClassifier(5, weights=\"distance\")\n",
        "for k, (train_index, test_index) in enumerate(kf.split(X)):\n",
        "   X_train, X_test = X.iloc[train_index], X.iloc[test_index]\n",
        "   y_train, y_test = target[train_index], target[test_index]\n",
        "   clf.fit(X_train, y_train)\n",
        "   print(\"[fold {0}] score: {1:.5f}\".format(k, clf.score(X_test,y_test)))"
      ],
      "execution_count": null,
      "outputs": [
        {
          "output_type": "stream",
          "text": [
            "[fold 0] score: 0.11667\n",
            "[fold 1] score: 0.56667\n",
            "[fold 2] score: 0.66667\n",
            "[fold 3] score: 0.75000\n",
            "[fold 4] score: 0.94915\n"
          ],
          "name": "stdout"
        }
      ]
    },
    {
      "cell_type": "code",
      "metadata": {
        "id": "dA4pGBwmkxok",
        "colab": {
          "base_uri": "https://localhost:8080/"
        },
        "outputId": "9c072616-7eb9-4deb-bf63-0bd81feeed24"
      },
      "source": [
        "clf = KNeighborsClassifier(7, weights=\"distance\")\n",
        "for k, (train_index, test_index) in enumerate(kf.split(X)):\n",
        "   X_train, X_test = X.iloc[train_index], X.iloc[test_index]\n",
        "   y_train, y_test = target[train_index], target[test_index]\n",
        "   clf.fit(X_train, y_train)\n",
        "   print(\"[fold {0}] score: {1:.5f}\".format(k, clf.score(X_test,y_test)))"
      ],
      "execution_count": null,
      "outputs": [
        {
          "output_type": "stream",
          "text": [
            "[fold 0] score: 0.11667\n",
            "[fold 1] score: 0.53333\n",
            "[fold 2] score: 0.71667\n",
            "[fold 3] score: 0.75000\n",
            "[fold 4] score: 0.93220\n"
          ],
          "name": "stdout"
        }
      ]
    },
    {
      "cell_type": "code",
      "metadata": {
        "id": "GeeC3YEA2x5N",
        "colab": {
          "base_uri": "https://localhost:8080/"
        },
        "outputId": "e4631371-6207-4a6b-ad4e-4be08b4d9c4e"
      },
      "source": [
        "kf = KFold(n_splits=7,random_state=4)"
      ],
      "execution_count": null,
      "outputs": [
        {
          "output_type": "stream",
          "text": [
            "/usr/local/lib/python3.7/dist-packages/sklearn/model_selection/_split.py:296: FutureWarning: Setting a random_state has no effect since shuffle is False. This will raise an error in 0.24. You should leave random_state to its default (None), or set shuffle=True.\n",
            "  FutureWarning\n"
          ],
          "name": "stderr"
        }
      ]
    },
    {
      "cell_type": "code",
      "metadata": {
        "id": "-8ocdKhL21y3",
        "colab": {
          "base_uri": "https://localhost:8080/"
        },
        "outputId": "ea608293-7ba5-4109-eb97-f0323f384a4a"
      },
      "source": [
        "clf = KNeighborsClassifier(3, weights=\"distance\")\n",
        "for k, (train_index, test_index) in enumerate(kf.split(X)):\n",
        "   X_train, X_test = X.iloc[train_index], X.iloc[test_index]\n",
        "   y_train, y_test = target[train_index], target[test_index]\n",
        "   clf.fit(X_train, y_train)\n",
        "   print(\"[fold {0}] score: {1:.5f}\".format(k, clf.score(X_test,y_test)))"
      ],
      "execution_count": null,
      "outputs": [
        {
          "output_type": "stream",
          "text": [
            "[fold 0] score: 0.39535\n",
            "[fold 1] score: 0.41860\n",
            "[fold 2] score: 0.67442\n",
            "[fold 3] score: 0.79070\n",
            "[fold 4] score: 0.74419\n",
            "[fold 5] score: 0.83333\n",
            "[fold 6] score: 0.95238\n"
          ],
          "name": "stdout"
        }
      ]
    },
    {
      "cell_type": "code",
      "metadata": {
        "id": "PFMXtRJn23r5",
        "colab": {
          "base_uri": "https://localhost:8080/"
        },
        "outputId": "b20ccbf0-9351-47e0-d140-b9861b5f2fb0"
      },
      "source": [
        "clf = KNeighborsClassifier(5, weights=\"distance\")\n",
        "for k, (train_index, test_index) in enumerate(kf.split(X)):\n",
        "   X_train, X_test = X.iloc[train_index], X.iloc[test_index]\n",
        "   y_train, y_test = target[train_index], target[test_index]\n",
        "   clf.fit(X_train, y_train)\n",
        "   print(\"[fold {0}] score: {1:.5f}\".format(k, clf.score(X_test,y_test)))"
      ],
      "execution_count": null,
      "outputs": [
        {
          "output_type": "stream",
          "text": [
            "[fold 0] score: 0.25581\n",
            "[fold 1] score: 0.37209\n",
            "[fold 2] score: 0.65116\n",
            "[fold 3] score: 0.83721\n",
            "[fold 4] score: 0.67442\n",
            "[fold 5] score: 0.90476\n",
            "[fold 6] score: 0.95238\n"
          ],
          "name": "stdout"
        }
      ]
    },
    {
      "cell_type": "code",
      "metadata": {
        "id": "rrTtPVya25y5",
        "colab": {
          "base_uri": "https://localhost:8080/"
        },
        "outputId": "cddb6175-ad4e-4133-b8cb-4269d0ce97b4"
      },
      "source": [
        "clf = KNeighborsClassifier(7, weights=\"distance\")\n",
        "for k, (train_index, test_index) in enumerate(kf.split(X)):\n",
        "   X_train, X_test = X.iloc[train_index], X.iloc[test_index]\n",
        "   y_train, y_test = target[train_index], target[test_index]\n",
        "   clf.fit(X_train, y_train)\n",
        "   print(\"[fold {0}] score: {1:.5f}\".format(k, clf.score(X_test,y_test)))"
      ],
      "execution_count": null,
      "outputs": [
        {
          "output_type": "stream",
          "text": [
            "[fold 0] score: 0.16279\n",
            "[fold 1] score: 0.39535\n",
            "[fold 2] score: 0.72093\n",
            "[fold 3] score: 0.81395\n",
            "[fold 4] score: 0.69767\n",
            "[fold 5] score: 0.90476\n",
            "[fold 6] score: 0.92857\n"
          ],
          "name": "stdout"
        }
      ]
    },
    {
      "cell_type": "code",
      "metadata": {
        "id": "SQDynKeJ3ArB",
        "colab": {
          "base_uri": "https://localhost:8080/"
        },
        "outputId": "37cdf344-abdf-4abb-9237-ea5a67eedfa0"
      },
      "source": [
        "kf = KFold(n_splits=5,random_state=4)"
      ],
      "execution_count": null,
      "outputs": [
        {
          "output_type": "stream",
          "text": [
            "/usr/local/lib/python3.7/dist-packages/sklearn/model_selection/_split.py:296: FutureWarning: Setting a random_state has no effect since shuffle is False. This will raise an error in 0.24. You should leave random_state to its default (None), or set shuffle=True.\n",
            "  FutureWarning\n"
          ],
          "name": "stderr"
        }
      ]
    },
    {
      "cell_type": "code",
      "metadata": {
        "id": "7ALUWL2T3C5R",
        "colab": {
          "base_uri": "https://localhost:8080/"
        },
        "outputId": "dc42d647-6271-4ec4-ab7a-50fcbf162a32"
      },
      "source": [
        "clf = KNeighborsClassifier(3, weights=\"distance\", metric=\"minkowski\", p=1)\n",
        "for k, (train_index, test_index) in enumerate(kf.split(X)):\n",
        "   X_train, X_test = X.iloc[train_index], X.iloc[test_index]\n",
        "   y_train, y_test = target[train_index], target[test_index]\n",
        "   clf.fit(X_train, y_train)\n",
        "   print(\"[fold {0}] score: {1:.5f}\".format(k, clf.score(X_test,y_test)))"
      ],
      "execution_count": null,
      "outputs": [
        {
          "output_type": "stream",
          "text": [
            "[fold 0] score: 0.20000\n",
            "[fold 1] score: 0.61667\n",
            "[fold 2] score: 0.65000\n",
            "[fold 3] score: 0.75000\n",
            "[fold 4] score: 0.91525\n"
          ],
          "name": "stdout"
        }
      ]
    },
    {
      "cell_type": "code",
      "metadata": {
        "id": "uI5BysLj3Ncq",
        "colab": {
          "base_uri": "https://localhost:8080/"
        },
        "outputId": "04444518-a4f5-4b41-b42c-dadb7c11b239"
      },
      "source": [
        "clf = KNeighborsClassifier(5, weights=\"distance\", metric=\"minkowski\", p=1)\n",
        "for k, (train_index, test_index) in enumerate(kf.split(X)):\n",
        "   X_train, X_test = X.iloc[train_index], X.iloc[test_index]\n",
        "   y_train, y_test = target[train_index], target[test_index]\n",
        "   clf.fit(X_train, y_train)\n",
        "   print(\"[fold {0}] score: {1:.5f}\".format(k, clf.score(X_test,y_test)))"
      ],
      "execution_count": null,
      "outputs": [
        {
          "output_type": "stream",
          "text": [
            "[fold 0] score: 0.15000\n",
            "[fold 1] score: 0.56667\n",
            "[fold 2] score: 0.73333\n",
            "[fold 3] score: 0.75000\n",
            "[fold 4] score: 0.91525\n"
          ],
          "name": "stdout"
        }
      ]
    },
    {
      "cell_type": "code",
      "metadata": {
        "id": "xRS-Vlry3OAj",
        "colab": {
          "base_uri": "https://localhost:8080/"
        },
        "outputId": "82d23973-79f5-488b-cf77-ced2ae4e5110"
      },
      "source": [
        "clf = KNeighborsClassifier(7, weights=\"distance\", metric=\"minkowski\", p=1)\n",
        "for k, (train_index, test_index) in enumerate(kf.split(X)):\n",
        "   X_train, X_test = X.iloc[train_index], X.iloc[test_index]\n",
        "   y_train, y_test = target[train_index], target[test_index]\n",
        "   clf.fit(X_train, y_train)\n",
        "   print(\"[fold {0}] score: {1:.5f}\".format(k, clf.score(X_test,y_test)))"
      ],
      "execution_count": null,
      "outputs": [
        {
          "output_type": "stream",
          "text": [
            "[fold 0] score: 0.13333\n",
            "[fold 1] score: 0.63333\n",
            "[fold 2] score: 0.78333\n",
            "[fold 3] score: 0.76667\n",
            "[fold 4] score: 0.91525\n"
          ],
          "name": "stdout"
        }
      ]
    },
    {
      "cell_type": "code",
      "metadata": {
        "id": "_Q-lD-Md3S26",
        "colab": {
          "base_uri": "https://localhost:8080/"
        },
        "outputId": "88854010-9a7a-4882-867f-7ef618124c9a"
      },
      "source": [
        "kf = KFold(n_splits=7,random_state=4)"
      ],
      "execution_count": null,
      "outputs": [
        {
          "output_type": "stream",
          "text": [
            "/usr/local/lib/python3.7/dist-packages/sklearn/model_selection/_split.py:296: FutureWarning: Setting a random_state has no effect since shuffle is False. This will raise an error in 0.24. You should leave random_state to its default (None), or set shuffle=True.\n",
            "  FutureWarning\n"
          ],
          "name": "stderr"
        }
      ]
    },
    {
      "cell_type": "code",
      "metadata": {
        "id": "hzAae7Ub3Vld",
        "colab": {
          "base_uri": "https://localhost:8080/"
        },
        "outputId": "ff0fb98d-0f4a-4a82-bdc2-275c8e0550ba"
      },
      "source": [
        "clf = KNeighborsClassifier(3, weights=\"distance\", metric=\"minkowski\", p=1)\n",
        "for k, (train_index, test_index) in enumerate(kf.split(X)):\n",
        "   X_train, X_test = X.iloc[train_index], X.iloc[test_index]\n",
        "   y_train, y_test = target[train_index], target[test_index]\n",
        "   clf.fit(X_train, y_train)\n",
        "   print(\"[fold {0}] score: {1:.5f}\".format(k, clf.score(X_test,y_test)))"
      ],
      "execution_count": null,
      "outputs": [
        {
          "output_type": "stream",
          "text": [
            "[fold 0] score: 0.37209\n",
            "[fold 1] score: 0.44186\n",
            "[fold 2] score: 0.72093\n",
            "[fold 3] score: 0.72093\n",
            "[fold 4] score: 0.67442\n",
            "[fold 5] score: 0.83333\n",
            "[fold 6] score: 0.95238\n"
          ],
          "name": "stdout"
        }
      ]
    },
    {
      "cell_type": "code",
      "metadata": {
        "id": "xyjw-lur3YSp",
        "colab": {
          "base_uri": "https://localhost:8080/"
        },
        "outputId": "6fcfccab-a18b-401a-ab57-28f972d22b93"
      },
      "source": [
        "clf = KNeighborsClassifier(5, weights=\"distance\", metric=\"minkowski\", p=1)\n",
        "for k, (train_index, test_index) in enumerate(kf.split(X)):\n",
        "   X_train, X_test = X.iloc[train_index], X.iloc[test_index]\n",
        "   y_train, y_test = target[train_index], target[test_index]\n",
        "   clf.fit(X_train, y_train)\n",
        "   print(\"[fold {0}] score: {1:.5f}\".format(k, clf.score(X_test,y_test)))"
      ],
      "execution_count": null,
      "outputs": [
        {
          "output_type": "stream",
          "text": [
            "[fold 0] score: 0.30233\n",
            "[fold 1] score: 0.44186\n",
            "[fold 2] score: 0.65116\n",
            "[fold 3] score: 0.81395\n",
            "[fold 4] score: 0.69767\n",
            "[fold 5] score: 0.88095\n",
            "[fold 6] score: 0.92857\n"
          ],
          "name": "stdout"
        }
      ]
    },
    {
      "cell_type": "code",
      "metadata": {
        "id": "59DgMlsB3a9V",
        "colab": {
          "base_uri": "https://localhost:8080/"
        },
        "outputId": "d2e3661f-72a0-4046-ae33-a3ecc4da4150"
      },
      "source": [
        "clf = KNeighborsClassifier(7, weights=\"distance\", metric=\"minkowski\", p=1)\n",
        "for k, (train_index, test_index) in enumerate(kf.split(X)):\n",
        "   X_train, X_test = X.iloc[train_index], X.iloc[test_index]\n",
        "   y_train, y_test = target[train_index], target[test_index]\n",
        "   clf.fit(X_train, y_train)\n",
        "   print(\"[fold {0}] score: {1:.5f}\".format(k, clf.score(X_test,y_test)))"
      ],
      "execution_count": null,
      "outputs": [
        {
          "output_type": "stream",
          "text": [
            "[fold 0] score: 0.20930\n",
            "[fold 1] score: 0.41860\n",
            "[fold 2] score: 0.74419\n",
            "[fold 3] score: 0.81395\n",
            "[fold 4] score: 0.69767\n",
            "[fold 5] score: 0.88095\n",
            "[fold 6] score: 0.92857\n"
          ],
          "name": "stdout"
        }
      ]
    },
    {
      "cell_type": "markdown",
      "metadata": {
        "id": "3v89D4DzHqVi"
      },
      "source": [
        "## KFold with engineered features"
      ]
    },
    {
      "cell_type": "code",
      "metadata": {
        "id": "4Jt6QlhiHpfn"
      },
      "source": [
        "from sklearn.model_selection import cross_validate,KFold\n",
        "dtc = DecisionTreeClassifier()\n",
        "\n",
        "scores = cross_validate(dtc, heart_data.iloc[:,[4,7,11]], heart_data.iloc[:,-1],cv=KFold(n_splits=7))\n",
        "\n",
        "scores['test_score']*100"
      ],
      "execution_count": null,
      "outputs": []
    },
    {
      "cell_type": "code",
      "metadata": {
        "id": "EjtW1lN13gCI"
      },
      "source": [
        ""
      ],
      "execution_count": null,
      "outputs": []
    },
    {
      "cell_type": "markdown",
      "metadata": {
        "id": "L_jqfRJ1mV3m"
      },
      "source": [
        "### Model Selection - Decision Tree"
      ]
    },
    {
      "cell_type": "code",
      "metadata": {
        "id": "gDa3zzFymVQ1"
      },
      "source": [
        "from sklearn.model_selection import train_test_split\n",
        "from sklearn.tree import DecisionTreeClassifier\n",
        "from sklearn.metrics import confusion_matrix\n",
        "from sklearn.metrics import classification_report"
      ],
      "execution_count": null,
      "outputs": []
    },
    {
      "cell_type": "code",
      "metadata": {
        "id": "mY8xSCVlKJaz"
      },
      "source": [
        "X_train, X_test, y_train, y_test =train_test_split(X,target,test_size=0.3,random_state=0)"
      ],
      "execution_count": null,
      "outputs": []
    },
    {
      "cell_type": "code",
      "metadata": {
        "colab": {
          "base_uri": "https://localhost:8080/"
        },
        "id": "s_H08S1JKR_o",
        "outputId": "4bd573e6-298b-4141-e054-c35fe687d0e9"
      },
      "source": [
        "clf = DecisionTreeClassifier()\n",
        "fit = clf.fit(X_train, y_train)\n",
        "\n",
        "predicted = fit.predict(X_test)\n",
        "cm = confusion_matrix(y_test, predicted)\n",
        "print(clf.score(X_test,y_test))\n",
        "print(\"\\n\")\n",
        "print(classification_report(y_test,predicted))"
      ],
      "execution_count": null,
      "outputs": [
        {
          "output_type": "stream",
          "text": [
            "0.7777777777777778\n",
            "\n",
            "\n",
            "              precision    recall  f1-score   support\n",
            "\n",
            "           0       0.85      0.82      0.84        62\n",
            "           1       0.63      0.68      0.66        28\n",
            "\n",
            "    accuracy                           0.78        90\n",
            "   macro avg       0.74      0.75      0.75        90\n",
            "weighted avg       0.78      0.78      0.78        90\n",
            "\n"
          ],
          "name": "stdout"
        }
      ]
    },
    {
      "cell_type": "code",
      "metadata": {
        "id": "dkDrV-IfX_tZ"
      },
      "source": [
        "from sklearn import tree\n",
        "import graphviz"
      ],
      "execution_count": null,
      "outputs": []
    },
    {
      "cell_type": "code",
      "metadata": {
        "id": "o0UXzc6DX-_D"
      },
      "source": [
        "dot_data = tree.export_graphviz(clf, filled=True,rounded=True,special_characters=True)"
      ],
      "execution_count": null,
      "outputs": []
    },
    {
      "cell_type": "code",
      "metadata": {
        "id": "MI_2j3zvYXn2"
      },
      "source": [
        "graph = graphviz.Source(dot_data, format='png')"
      ],
      "execution_count": null,
      "outputs": []
    },
    {
      "cell_type": "code",
      "metadata": {
        "colab": {
          "base_uri": "https://localhost:8080/",
          "height": 1000
        },
        "id": "GuisrmlmYaja",
        "outputId": "14f022e8-549a-46d7-bad8-86ead0485ce8"
      },
      "source": [
        "graph"
      ],
      "execution_count": null,
      "outputs": [
        {
          "output_type": "execute_result",
          "data": {
            "text/plain": [
              "<graphviz.files.Source at 0x7fe081015810>"
            ],
            "image/svg+xml": "<?xml version=\"1.0\" encoding=\"UTF-8\" standalone=\"no\"?>\n<!DOCTYPE svg PUBLIC \"-//W3C//DTD SVG 1.1//EN\"\n \"http://www.w3.org/Graphics/SVG/1.1/DTD/svg11.dtd\">\n<!-- Generated by graphviz version 2.40.1 (20161225.0304)\n -->\n<!-- Title: Tree Pages: 1 -->\n<svg width=\"1722pt\" height=\"861pt\"\n viewBox=\"0.00 0.00 1722.00 861.00\" xmlns=\"http://www.w3.org/2000/svg\" xmlns:xlink=\"http://www.w3.org/1999/xlink\">\n<g id=\"graph0\" class=\"graph\" transform=\"scale(1 1) rotate(0) translate(4 857)\">\n<title>Tree</title>\n<polygon fill=\"#ffffff\" stroke=\"transparent\" points=\"-4,4 -4,-857 1718,-857 1718,4 -4,4\"/>\n<!-- 0 -->\n<g id=\"node1\" class=\"node\">\n<title>0</title>\n<path fill=\"#f2be98\" stroke=\"#000000\" d=\"M667.5,-853C667.5,-853 567.5,-853 567.5,-853 561.5,-853 555.5,-847 555.5,-841 555.5,-841 555.5,-801 555.5,-801 555.5,-795 561.5,-789 567.5,-789 567.5,-789 667.5,-789 667.5,-789 673.5,-789 679.5,-795 679.5,-801 679.5,-801 679.5,-841 679.5,-841 679.5,-847 673.5,-853 667.5,-853\"/>\n<text text-anchor=\"start\" x=\"579.5\" y=\"-838.8\" font-family=\"Helvetica,sans-Serif\" font-size=\"14.00\" fill=\"#000000\">X</text>\n<text text-anchor=\"start\" x=\"589.5\" y=\"-838.8\" font-family=\"Helvetica,sans-Serif\" baseline-shift=\"sub\" font-size=\"14.00\" fill=\"#000000\">11</text>\n<text text-anchor=\"start\" x=\"603.5\" y=\"-838.8\" font-family=\"Helvetica,sans-Serif\" font-size=\"14.00\" fill=\"#000000\"> ≤ 0.247</text>\n<text text-anchor=\"start\" x=\"579.5\" y=\"-824.8\" font-family=\"Helvetica,sans-Serif\" font-size=\"14.00\" fill=\"#000000\">gini = 0.439</text>\n<text text-anchor=\"start\" x=\"569.5\" y=\"-810.8\" font-family=\"Helvetica,sans-Serif\" font-size=\"14.00\" fill=\"#000000\">samples = 209</text>\n<text text-anchor=\"start\" x=\"563.5\" y=\"-796.8\" font-family=\"Helvetica,sans-Serif\" font-size=\"14.00\" fill=\"#000000\">value = [141, 68]</text>\n</g>\n<!-- 1 -->\n<g id=\"node2\" class=\"node\">\n<title>1</title>\n<path fill=\"#65b3eb\" stroke=\"#000000\" d=\"M513.5,-753C513.5,-753 421.5,-753 421.5,-753 415.5,-753 409.5,-747 409.5,-741 409.5,-741 409.5,-701 409.5,-701 409.5,-695 415.5,-689 421.5,-689 421.5,-689 513.5,-689 513.5,-689 519.5,-689 525.5,-695 525.5,-701 525.5,-701 525.5,-741 525.5,-741 525.5,-747 519.5,-753 513.5,-753\"/>\n<text text-anchor=\"start\" x=\"433\" y=\"-738.8\" font-family=\"Helvetica,sans-Serif\" font-size=\"14.00\" fill=\"#000000\">X</text>\n<text text-anchor=\"start\" x=\"443\" y=\"-738.8\" font-family=\"Helvetica,sans-Serif\" baseline-shift=\"sub\" font-size=\"14.00\" fill=\"#000000\">4</text>\n<text text-anchor=\"start\" x=\"450\" y=\"-738.8\" font-family=\"Helvetica,sans-Serif\" font-size=\"14.00\" fill=\"#000000\"> ≤ 0.205</text>\n<text text-anchor=\"start\" x=\"429.5\" y=\"-724.8\" font-family=\"Helvetica,sans-Serif\" font-size=\"14.00\" fill=\"#000000\">gini = 0.298</text>\n<text text-anchor=\"start\" x=\"423.5\" y=\"-710.8\" font-family=\"Helvetica,sans-Serif\" font-size=\"14.00\" fill=\"#000000\">samples = 55</text>\n<text text-anchor=\"start\" x=\"417.5\" y=\"-696.8\" font-family=\"Helvetica,sans-Serif\" font-size=\"14.00\" fill=\"#000000\">value = [10, 45]</text>\n</g>\n<!-- 0&#45;&gt;1 -->\n<g id=\"edge1\" class=\"edge\">\n<title>0&#45;&gt;1</title>\n<path fill=\"none\" stroke=\"#000000\" d=\"M569.2134,-788.8089C554.8948,-779.2632 539.0819,-768.7213 524.2774,-758.8516\"/>\n<polygon fill=\"#000000\" stroke=\"#000000\" points=\"525.9581,-755.7656 515.6961,-753.1308 522.0752,-761.59 525.9581,-755.7656\"/>\n<text text-anchor=\"middle\" x=\"520.599\" y=\"-773.9453\" font-family=\"Helvetica,sans-Serif\" font-size=\"14.00\" fill=\"#000000\">True</text>\n</g>\n<!-- 20 -->\n<g id=\"node21\" class=\"node\">\n<title>20</title>\n<path fill=\"#ea975c\" stroke=\"#000000\" d=\"M938.5,-753C938.5,-753 838.5,-753 838.5,-753 832.5,-753 826.5,-747 826.5,-741 826.5,-741 826.5,-701 826.5,-701 826.5,-695 832.5,-689 838.5,-689 838.5,-689 938.5,-689 938.5,-689 944.5,-689 950.5,-695 950.5,-701 950.5,-701 950.5,-741 950.5,-741 950.5,-747 944.5,-753 938.5,-753\"/>\n<text text-anchor=\"start\" x=\"854\" y=\"-738.8\" font-family=\"Helvetica,sans-Serif\" font-size=\"14.00\" fill=\"#000000\">X</text>\n<text text-anchor=\"start\" x=\"864\" y=\"-738.8\" font-family=\"Helvetica,sans-Serif\" baseline-shift=\"sub\" font-size=\"14.00\" fill=\"#000000\">7</text>\n<text text-anchor=\"start\" x=\"871\" y=\"-738.8\" font-family=\"Helvetica,sans-Serif\" font-size=\"14.00\" fill=\"#000000\"> ≤ 0.107</text>\n<text text-anchor=\"start\" x=\"850.5\" y=\"-724.8\" font-family=\"Helvetica,sans-Serif\" font-size=\"14.00\" fill=\"#000000\">gini = 0.254</text>\n<text text-anchor=\"start\" x=\"840.5\" y=\"-710.8\" font-family=\"Helvetica,sans-Serif\" font-size=\"14.00\" fill=\"#000000\">samples = 154</text>\n<text text-anchor=\"start\" x=\"834.5\" y=\"-696.8\" font-family=\"Helvetica,sans-Serif\" font-size=\"14.00\" fill=\"#000000\">value = [131, 23]</text>\n</g>\n<!-- 0&#45;&gt;20 -->\n<g id=\"edge20\" class=\"edge\">\n<title>0&#45;&gt;20</title>\n<path fill=\"none\" stroke=\"#000000\" d=\"M679.6729,-798.058C720.4963,-782.994 774.0271,-763.2409 816.6696,-747.5057\"/>\n<polygon fill=\"#000000\" stroke=\"#000000\" points=\"817.9778,-750.7537 826.1478,-744.0082 815.5544,-744.1866 817.9778,-750.7537\"/>\n<text text-anchor=\"middle\" x=\"815.6829\" y=\"-763.0126\" font-family=\"Helvetica,sans-Serif\" font-size=\"14.00\" fill=\"#000000\">False</text>\n</g>\n<!-- 2 -->\n<g id=\"node3\" class=\"node\">\n<title>2</title>\n<path fill=\"#399de5\" stroke=\"#000000\" d=\"M379,-647.5C379,-647.5 296,-647.5 296,-647.5 290,-647.5 284,-641.5 284,-635.5 284,-635.5 284,-606.5 284,-606.5 284,-600.5 290,-594.5 296,-594.5 296,-594.5 379,-594.5 379,-594.5 385,-594.5 391,-600.5 391,-606.5 391,-606.5 391,-635.5 391,-635.5 391,-641.5 385,-647.5 379,-647.5\"/>\n<text text-anchor=\"start\" x=\"308\" y=\"-632.3\" font-family=\"Helvetica,sans-Serif\" font-size=\"14.00\" fill=\"#000000\">gini = 0.0</text>\n<text text-anchor=\"start\" x=\"293.5\" y=\"-617.3\" font-family=\"Helvetica,sans-Serif\" font-size=\"14.00\" fill=\"#000000\">samples = 19</text>\n<text text-anchor=\"start\" x=\"292\" y=\"-602.3\" font-family=\"Helvetica,sans-Serif\" font-size=\"14.00\" fill=\"#000000\">value = [0, 19]</text>\n</g>\n<!-- 1&#45;&gt;2 -->\n<g id=\"edge2\" class=\"edge\">\n<title>1&#45;&gt;2</title>\n<path fill=\"none\" stroke=\"#000000\" d=\"M425.6516,-688.8089C411.2566,-677.7359 395.119,-665.3223 380.6244,-654.1726\"/>\n<polygon fill=\"#000000\" stroke=\"#000000\" points=\"382.3658,-651.0965 372.3056,-647.7735 378.0978,-656.6449 382.3658,-651.0965\"/>\n</g>\n<!-- 3 -->\n<g id=\"node4\" class=\"node\">\n<title>3</title>\n<path fill=\"#85c3ef\" stroke=\"#000000\" d=\"M513.5,-653C513.5,-653 421.5,-653 421.5,-653 415.5,-653 409.5,-647 409.5,-641 409.5,-641 409.5,-601 409.5,-601 409.5,-595 415.5,-589 421.5,-589 421.5,-589 513.5,-589 513.5,-589 519.5,-589 525.5,-595 525.5,-601 525.5,-601 525.5,-641 525.5,-641 525.5,-647 519.5,-653 513.5,-653\"/>\n<text text-anchor=\"start\" x=\"429.5\" y=\"-638.8\" font-family=\"Helvetica,sans-Serif\" font-size=\"14.00\" fill=\"#000000\">X</text>\n<text text-anchor=\"start\" x=\"439.5\" y=\"-638.8\" font-family=\"Helvetica,sans-Serif\" baseline-shift=\"sub\" font-size=\"14.00\" fill=\"#000000\">11</text>\n<text text-anchor=\"start\" x=\"453.5\" y=\"-638.8\" font-family=\"Helvetica,sans-Serif\" font-size=\"14.00\" fill=\"#000000\"> ≤ 0.162</text>\n<text text-anchor=\"start\" x=\"429.5\" y=\"-624.8\" font-family=\"Helvetica,sans-Serif\" font-size=\"14.00\" fill=\"#000000\">gini = 0.401</text>\n<text text-anchor=\"start\" x=\"423.5\" y=\"-610.8\" font-family=\"Helvetica,sans-Serif\" font-size=\"14.00\" fill=\"#000000\">samples = 36</text>\n<text text-anchor=\"start\" x=\"417.5\" y=\"-596.8\" font-family=\"Helvetica,sans-Serif\" font-size=\"14.00\" fill=\"#000000\">value = [10, 26]</text>\n</g>\n<!-- 1&#45;&gt;3 -->\n<g id=\"edge3\" class=\"edge\">\n<title>1&#45;&gt;3</title>\n<path fill=\"none\" stroke=\"#000000\" d=\"M467.5,-688.8089C467.5,-680.6906 467.5,-671.8517 467.5,-663.3186\"/>\n<polygon fill=\"#000000\" stroke=\"#000000\" points=\"471.0001,-663.1307 467.5,-653.1308 464.0001,-663.1308 471.0001,-663.1307\"/>\n</g>\n<!-- 4 -->\n<g id=\"node5\" class=\"node\">\n<title>4</title>\n<path fill=\"#62b1ea\" stroke=\"#000000\" d=\"M329,-553C329,-553 246,-553 246,-553 240,-553 234,-547 234,-541 234,-541 234,-501 234,-501 234,-495 240,-489 246,-489 246,-489 329,-489 329,-489 335,-489 341,-495 341,-501 341,-501 341,-541 341,-541 341,-547 335,-553 329,-553\"/>\n<text text-anchor=\"start\" x=\"253\" y=\"-538.8\" font-family=\"Helvetica,sans-Serif\" font-size=\"14.00\" fill=\"#000000\">X</text>\n<text text-anchor=\"start\" x=\"263\" y=\"-538.8\" font-family=\"Helvetica,sans-Serif\" baseline-shift=\"sub\" font-size=\"14.00\" fill=\"#000000\">0</text>\n<text text-anchor=\"start\" x=\"270\" y=\"-538.8\" font-family=\"Helvetica,sans-Serif\" font-size=\"14.00\" fill=\"#000000\"> ≤ 0.255</text>\n<text text-anchor=\"start\" x=\"249.5\" y=\"-524.8\" font-family=\"Helvetica,sans-Serif\" font-size=\"14.00\" fill=\"#000000\">gini = 0.285</text>\n<text text-anchor=\"start\" x=\"243.5\" y=\"-510.8\" font-family=\"Helvetica,sans-Serif\" font-size=\"14.00\" fill=\"#000000\">samples = 29</text>\n<text text-anchor=\"start\" x=\"242\" y=\"-496.8\" font-family=\"Helvetica,sans-Serif\" font-size=\"14.00\" fill=\"#000000\">value = [5, 24]</text>\n</g>\n<!-- 3&#45;&gt;4 -->\n<g id=\"edge4\" class=\"edge\">\n<title>3&#45;&gt;4</title>\n<path fill=\"none\" stroke=\"#000000\" d=\"M409.5561,-588.8089C390.4837,-578.2131 369.202,-566.39 349.8182,-555.6212\"/>\n<polygon fill=\"#000000\" stroke=\"#000000\" points=\"351.5018,-552.5527 341.0604,-550.7558 348.1022,-558.6718 351.5018,-552.5527\"/>\n</g>\n<!-- 17 -->\n<g id=\"node18\" class=\"node\">\n<title>17</title>\n<path fill=\"#efb388\" stroke=\"#000000\" d=\"M505,-553C505,-553 430,-553 430,-553 424,-553 418,-547 418,-541 418,-541 418,-501 418,-501 418,-495 424,-489 430,-489 430,-489 505,-489 505,-489 511,-489 517,-495 517,-501 517,-501 517,-541 517,-541 517,-547 511,-553 505,-553\"/>\n<text text-anchor=\"start\" x=\"433\" y=\"-538.8\" font-family=\"Helvetica,sans-Serif\" font-size=\"14.00\" fill=\"#000000\">X</text>\n<text text-anchor=\"start\" x=\"443\" y=\"-538.8\" font-family=\"Helvetica,sans-Serif\" baseline-shift=\"sub\" font-size=\"14.00\" fill=\"#000000\">8</text>\n<text text-anchor=\"start\" x=\"450\" y=\"-538.8\" font-family=\"Helvetica,sans-Serif\" font-size=\"14.00\" fill=\"#000000\"> ≤ 0.629</text>\n<text text-anchor=\"start\" x=\"429.5\" y=\"-524.8\" font-family=\"Helvetica,sans-Serif\" font-size=\"14.00\" fill=\"#000000\">gini = 0.408</text>\n<text text-anchor=\"start\" x=\"428\" y=\"-510.8\" font-family=\"Helvetica,sans-Serif\" font-size=\"14.00\" fill=\"#000000\">samples = 7</text>\n<text text-anchor=\"start\" x=\"426\" y=\"-496.8\" font-family=\"Helvetica,sans-Serif\" font-size=\"14.00\" fill=\"#000000\">value = [5, 2]</text>\n</g>\n<!-- 3&#45;&gt;17 -->\n<g id=\"edge17\" class=\"edge\">\n<title>3&#45;&gt;17</title>\n<path fill=\"none\" stroke=\"#000000\" d=\"M467.5,-588.8089C467.5,-580.6906 467.5,-571.8517 467.5,-563.3186\"/>\n<polygon fill=\"#000000\" stroke=\"#000000\" points=\"471.0001,-563.1307 467.5,-553.1308 464.0001,-563.1308 471.0001,-563.1307\"/>\n</g>\n<!-- 5 -->\n<g id=\"node6\" class=\"node\">\n<title>5</title>\n<path fill=\"#cee6f8\" stroke=\"#000000\" d=\"M204,-453C204,-453 129,-453 129,-453 123,-453 117,-447 117,-441 117,-441 117,-401 117,-401 117,-395 123,-389 129,-389 129,-389 204,-389 204,-389 210,-389 216,-395 216,-401 216,-401 216,-441 216,-441 216,-447 210,-453 204,-453\"/>\n<text text-anchor=\"start\" x=\"136\" y=\"-438.8\" font-family=\"Helvetica,sans-Serif\" font-size=\"14.00\" fill=\"#000000\">X</text>\n<text text-anchor=\"start\" x=\"146\" y=\"-438.8\" font-family=\"Helvetica,sans-Serif\" baseline-shift=\"sub\" font-size=\"14.00\" fill=\"#000000\">6</text>\n<text text-anchor=\"start\" x=\"153\" y=\"-438.8\" font-family=\"Helvetica,sans-Serif\" font-size=\"14.00\" fill=\"#000000\"> ≤ 0.32</text>\n<text text-anchor=\"start\" x=\"133\" y=\"-424.8\" font-family=\"Helvetica,sans-Serif\" font-size=\"14.00\" fill=\"#000000\">gini = 0.49</text>\n<text text-anchor=\"start\" x=\"127\" y=\"-410.8\" font-family=\"Helvetica,sans-Serif\" font-size=\"14.00\" fill=\"#000000\">samples = 7</text>\n<text text-anchor=\"start\" x=\"125\" y=\"-396.8\" font-family=\"Helvetica,sans-Serif\" font-size=\"14.00\" fill=\"#000000\">value = [3, 4]</text>\n</g>\n<!-- 4&#45;&gt;5 -->\n<g id=\"edge5\" class=\"edge\">\n<title>4&#45;&gt;5</title>\n<path fill=\"none\" stroke=\"#000000\" d=\"M248.5488,-488.8089C237.3223,-479.5308 224.9571,-469.3116 213.3068,-459.6833\"/>\n<polygon fill=\"#000000\" stroke=\"#000000\" points=\"215.3162,-456.8034 205.3782,-453.1308 210.8568,-462.1992 215.3162,-456.8034\"/>\n</g>\n<!-- 10 -->\n<g id=\"node11\" class=\"node\">\n<title>10</title>\n<path fill=\"#4da7e8\" stroke=\"#000000\" d=\"M329,-453C329,-453 246,-453 246,-453 240,-453 234,-447 234,-441 234,-441 234,-401 234,-401 234,-395 240,-389 246,-389 246,-389 329,-389 329,-389 335,-389 341,-395 341,-401 341,-401 341,-441 341,-441 341,-447 335,-453 329,-453\"/>\n<text text-anchor=\"start\" x=\"253\" y=\"-438.8\" font-family=\"Helvetica,sans-Serif\" font-size=\"14.00\" fill=\"#000000\">X</text>\n<text text-anchor=\"start\" x=\"263\" y=\"-438.8\" font-family=\"Helvetica,sans-Serif\" baseline-shift=\"sub\" font-size=\"14.00\" fill=\"#000000\">2</text>\n<text text-anchor=\"start\" x=\"270\" y=\"-438.8\" font-family=\"Helvetica,sans-Serif\" font-size=\"14.00\" fill=\"#000000\"> ≤ 0.204</text>\n<text text-anchor=\"start\" x=\"249.5\" y=\"-424.8\" font-family=\"Helvetica,sans-Serif\" font-size=\"14.00\" fill=\"#000000\">gini = 0.165</text>\n<text text-anchor=\"start\" x=\"243.5\" y=\"-410.8\" font-family=\"Helvetica,sans-Serif\" font-size=\"14.00\" fill=\"#000000\">samples = 22</text>\n<text text-anchor=\"start\" x=\"242\" y=\"-396.8\" font-family=\"Helvetica,sans-Serif\" font-size=\"14.00\" fill=\"#000000\">value = [2, 20]</text>\n</g>\n<!-- 4&#45;&gt;10 -->\n<g id=\"edge10\" class=\"edge\">\n<title>4&#45;&gt;10</title>\n<path fill=\"none\" stroke=\"#000000\" d=\"M287.5,-488.8089C287.5,-480.6906 287.5,-471.8517 287.5,-463.3186\"/>\n<polygon fill=\"#000000\" stroke=\"#000000\" points=\"291.0001,-463.1307 287.5,-453.1308 284.0001,-463.1308 291.0001,-463.1307\"/>\n</g>\n<!-- 6 -->\n<g id=\"node7\" class=\"node\">\n<title>6</title>\n<path fill=\"#399de5\" stroke=\"#000000\" d=\"M87,-347.5C87,-347.5 12,-347.5 12,-347.5 6,-347.5 0,-341.5 0,-335.5 0,-335.5 0,-306.5 0,-306.5 0,-300.5 6,-294.5 12,-294.5 12,-294.5 87,-294.5 87,-294.5 93,-294.5 99,-300.5 99,-306.5 99,-306.5 99,-335.5 99,-335.5 99,-341.5 93,-347.5 87,-347.5\"/>\n<text text-anchor=\"start\" x=\"20\" y=\"-332.3\" font-family=\"Helvetica,sans-Serif\" font-size=\"14.00\" fill=\"#000000\">gini = 0.0</text>\n<text text-anchor=\"start\" x=\"10\" y=\"-317.3\" font-family=\"Helvetica,sans-Serif\" font-size=\"14.00\" fill=\"#000000\">samples = 3</text>\n<text text-anchor=\"start\" x=\"8\" y=\"-302.3\" font-family=\"Helvetica,sans-Serif\" font-size=\"14.00\" fill=\"#000000\">value = [0, 3]</text>\n</g>\n<!-- 5&#45;&gt;6 -->\n<g id=\"edge6\" class=\"edge\">\n<title>5&#45;&gt;6</title>\n<path fill=\"none\" stroke=\"#000000\" d=\"M128.8364,-388.8089C116.002,-377.8393 101.6285,-365.5543 88.6781,-354.4855\"/>\n<polygon fill=\"#000000\" stroke=\"#000000\" points=\"90.7008,-351.6101 80.825,-347.7735 86.1527,-356.9314 90.7008,-351.6101\"/>\n</g>\n<!-- 7 -->\n<g id=\"node8\" class=\"node\">\n<title>7</title>\n<path fill=\"#eeab7b\" stroke=\"#000000\" d=\"M204,-353C204,-353 129,-353 129,-353 123,-353 117,-347 117,-341 117,-341 117,-301 117,-301 117,-295 123,-289 129,-289 129,-289 204,-289 204,-289 210,-289 216,-295 216,-301 216,-301 216,-341 216,-341 216,-347 210,-353 204,-353\"/>\n<text text-anchor=\"start\" x=\"132\" y=\"-338.8\" font-family=\"Helvetica,sans-Serif\" font-size=\"14.00\" fill=\"#000000\">X</text>\n<text text-anchor=\"start\" x=\"142\" y=\"-338.8\" font-family=\"Helvetica,sans-Serif\" baseline-shift=\"sub\" font-size=\"14.00\" fill=\"#000000\">2</text>\n<text text-anchor=\"start\" x=\"149\" y=\"-338.8\" font-family=\"Helvetica,sans-Serif\" font-size=\"14.00\" fill=\"#000000\"> ≤ 0.023</text>\n<text text-anchor=\"start\" x=\"128.5\" y=\"-324.8\" font-family=\"Helvetica,sans-Serif\" font-size=\"14.00\" fill=\"#000000\">gini = 0.375</text>\n<text text-anchor=\"start\" x=\"127\" y=\"-310.8\" font-family=\"Helvetica,sans-Serif\" font-size=\"14.00\" fill=\"#000000\">samples = 4</text>\n<text text-anchor=\"start\" x=\"125\" y=\"-296.8\" font-family=\"Helvetica,sans-Serif\" font-size=\"14.00\" fill=\"#000000\">value = [3, 1]</text>\n</g>\n<!-- 5&#45;&gt;7 -->\n<g id=\"edge7\" class=\"edge\">\n<title>5&#45;&gt;7</title>\n<path fill=\"none\" stroke=\"#000000\" d=\"M166.5,-388.8089C166.5,-380.6906 166.5,-371.8517 166.5,-363.3186\"/>\n<polygon fill=\"#000000\" stroke=\"#000000\" points=\"170.0001,-363.1307 166.5,-353.1308 163.0001,-363.1308 170.0001,-363.1307\"/>\n</g>\n<!-- 8 -->\n<g id=\"node9\" class=\"node\">\n<title>8</title>\n<path fill=\"#e58139\" stroke=\"#000000\" d=\"M87,-247.5C87,-247.5 12,-247.5 12,-247.5 6,-247.5 0,-241.5 0,-235.5 0,-235.5 0,-206.5 0,-206.5 0,-200.5 6,-194.5 12,-194.5 12,-194.5 87,-194.5 87,-194.5 93,-194.5 99,-200.5 99,-206.5 99,-206.5 99,-235.5 99,-235.5 99,-241.5 93,-247.5 87,-247.5\"/>\n<text text-anchor=\"start\" x=\"20\" y=\"-232.3\" font-family=\"Helvetica,sans-Serif\" font-size=\"14.00\" fill=\"#000000\">gini = 0.0</text>\n<text text-anchor=\"start\" x=\"10\" y=\"-217.3\" font-family=\"Helvetica,sans-Serif\" font-size=\"14.00\" fill=\"#000000\">samples = 3</text>\n<text text-anchor=\"start\" x=\"8\" y=\"-202.3\" font-family=\"Helvetica,sans-Serif\" font-size=\"14.00\" fill=\"#000000\">value = [3, 0]</text>\n</g>\n<!-- 7&#45;&gt;8 -->\n<g id=\"edge8\" class=\"edge\">\n<title>7&#45;&gt;8</title>\n<path fill=\"none\" stroke=\"#000000\" d=\"M128.8364,-288.8089C116.002,-277.8393 101.6285,-265.5543 88.6781,-254.4855\"/>\n<polygon fill=\"#000000\" stroke=\"#000000\" points=\"90.7008,-251.6101 80.825,-247.7735 86.1527,-256.9314 90.7008,-251.6101\"/>\n</g>\n<!-- 9 -->\n<g id=\"node10\" class=\"node\">\n<title>9</title>\n<path fill=\"#399de5\" stroke=\"#000000\" d=\"M204,-247.5C204,-247.5 129,-247.5 129,-247.5 123,-247.5 117,-241.5 117,-235.5 117,-235.5 117,-206.5 117,-206.5 117,-200.5 123,-194.5 129,-194.5 129,-194.5 204,-194.5 204,-194.5 210,-194.5 216,-200.5 216,-206.5 216,-206.5 216,-235.5 216,-235.5 216,-241.5 210,-247.5 204,-247.5\"/>\n<text text-anchor=\"start\" x=\"137\" y=\"-232.3\" font-family=\"Helvetica,sans-Serif\" font-size=\"14.00\" fill=\"#000000\">gini = 0.0</text>\n<text text-anchor=\"start\" x=\"127\" y=\"-217.3\" font-family=\"Helvetica,sans-Serif\" font-size=\"14.00\" fill=\"#000000\">samples = 1</text>\n<text text-anchor=\"start\" x=\"125\" y=\"-202.3\" font-family=\"Helvetica,sans-Serif\" font-size=\"14.00\" fill=\"#000000\">value = [0, 1]</text>\n</g>\n<!-- 7&#45;&gt;9 -->\n<g id=\"edge9\" class=\"edge\">\n<title>7&#45;&gt;9</title>\n<path fill=\"none\" stroke=\"#000000\" d=\"M166.5,-288.8089C166.5,-278.9777 166.5,-268.0898 166.5,-257.9679\"/>\n<polygon fill=\"#000000\" stroke=\"#000000\" points=\"170.0001,-257.7735 166.5,-247.7735 163.0001,-257.7736 170.0001,-257.7735\"/>\n</g>\n<!-- 11 -->\n<g id=\"node12\" class=\"node\">\n<title>11</title>\n<path fill=\"#43a2e6\" stroke=\"#000000\" d=\"M329,-353C329,-353 246,-353 246,-353 240,-353 234,-347 234,-341 234,-341 234,-301 234,-301 234,-295 240,-289 246,-289 246,-289 329,-289 329,-289 335,-289 341,-295 341,-301 341,-301 341,-341 341,-341 341,-347 335,-353 329,-353\"/>\n<text text-anchor=\"start\" x=\"253\" y=\"-338.8\" font-family=\"Helvetica,sans-Serif\" font-size=\"14.00\" fill=\"#000000\">X</text>\n<text text-anchor=\"start\" x=\"263\" y=\"-338.8\" font-family=\"Helvetica,sans-Serif\" baseline-shift=\"sub\" font-size=\"14.00\" fill=\"#000000\">4</text>\n<text text-anchor=\"start\" x=\"270\" y=\"-338.8\" font-family=\"Helvetica,sans-Serif\" font-size=\"14.00\" fill=\"#000000\"> ≤ 0.508</text>\n<text text-anchor=\"start\" x=\"249.5\" y=\"-324.8\" font-family=\"Helvetica,sans-Serif\" font-size=\"14.00\" fill=\"#000000\">gini = 0.095</text>\n<text text-anchor=\"start\" x=\"243.5\" y=\"-310.8\" font-family=\"Helvetica,sans-Serif\" font-size=\"14.00\" fill=\"#000000\">samples = 20</text>\n<text text-anchor=\"start\" x=\"242\" y=\"-296.8\" font-family=\"Helvetica,sans-Serif\" font-size=\"14.00\" fill=\"#000000\">value = [1, 19]</text>\n</g>\n<!-- 10&#45;&gt;11 -->\n<g id=\"edge11\" class=\"edge\">\n<title>10&#45;&gt;11</title>\n<path fill=\"none\" stroke=\"#000000\" d=\"M287.5,-388.8089C287.5,-380.6906 287.5,-371.8517 287.5,-363.3186\"/>\n<polygon fill=\"#000000\" stroke=\"#000000\" points=\"291.0001,-363.1307 287.5,-353.1308 284.0001,-363.1308 291.0001,-363.1307\"/>\n</g>\n<!-- 16 -->\n<g id=\"node17\" class=\"node\">\n<title>16</title>\n<path fill=\"#ffffff\" stroke=\"#000000\" d=\"M446,-347.5C446,-347.5 371,-347.5 371,-347.5 365,-347.5 359,-341.5 359,-335.5 359,-335.5 359,-306.5 359,-306.5 359,-300.5 365,-294.5 371,-294.5 371,-294.5 446,-294.5 446,-294.5 452,-294.5 458,-300.5 458,-306.5 458,-306.5 458,-335.5 458,-335.5 458,-341.5 452,-347.5 446,-347.5\"/>\n<text text-anchor=\"start\" x=\"379\" y=\"-332.3\" font-family=\"Helvetica,sans-Serif\" font-size=\"14.00\" fill=\"#000000\">gini = 0.5</text>\n<text text-anchor=\"start\" x=\"369\" y=\"-317.3\" font-family=\"Helvetica,sans-Serif\" font-size=\"14.00\" fill=\"#000000\">samples = 2</text>\n<text text-anchor=\"start\" x=\"367\" y=\"-302.3\" font-family=\"Helvetica,sans-Serif\" font-size=\"14.00\" fill=\"#000000\">value = [1, 1]</text>\n</g>\n<!-- 10&#45;&gt;16 -->\n<g id=\"edge16\" class=\"edge\">\n<title>10&#45;&gt;16</title>\n<path fill=\"none\" stroke=\"#000000\" d=\"M326.4512,-388.8089C339.8496,-377.7359 354.87,-365.3223 368.3612,-354.1726\"/>\n<polygon fill=\"#000000\" stroke=\"#000000\" points=\"370.6254,-356.8419 376.104,-347.7735 366.1661,-351.4461 370.6254,-356.8419\"/>\n</g>\n<!-- 12 -->\n<g id=\"node13\" class=\"node\">\n<title>12</title>\n<path fill=\"#399de5\" stroke=\"#000000\" d=\"M329,-247.5C329,-247.5 246,-247.5 246,-247.5 240,-247.5 234,-241.5 234,-235.5 234,-235.5 234,-206.5 234,-206.5 234,-200.5 240,-194.5 246,-194.5 246,-194.5 329,-194.5 329,-194.5 335,-194.5 341,-200.5 341,-206.5 341,-206.5 341,-235.5 341,-235.5 341,-241.5 335,-247.5 329,-247.5\"/>\n<text text-anchor=\"start\" x=\"258\" y=\"-232.3\" font-family=\"Helvetica,sans-Serif\" font-size=\"14.00\" fill=\"#000000\">gini = 0.0</text>\n<text text-anchor=\"start\" x=\"243.5\" y=\"-217.3\" font-family=\"Helvetica,sans-Serif\" font-size=\"14.00\" fill=\"#000000\">samples = 16</text>\n<text text-anchor=\"start\" x=\"242\" y=\"-202.3\" font-family=\"Helvetica,sans-Serif\" font-size=\"14.00\" fill=\"#000000\">value = [0, 16]</text>\n</g>\n<!-- 11&#45;&gt;12 -->\n<g id=\"edge12\" class=\"edge\">\n<title>11&#45;&gt;12</title>\n<path fill=\"none\" stroke=\"#000000\" d=\"M287.5,-288.8089C287.5,-278.9777 287.5,-268.0898 287.5,-257.9679\"/>\n<polygon fill=\"#000000\" stroke=\"#000000\" points=\"291.0001,-257.7735 287.5,-247.7735 284.0001,-257.7736 291.0001,-257.7735\"/>\n</g>\n<!-- 13 -->\n<g id=\"node14\" class=\"node\">\n<title>13</title>\n<path fill=\"#7bbeee\" stroke=\"#000000\" d=\"M446,-253C446,-253 371,-253 371,-253 365,-253 359,-247 359,-241 359,-241 359,-201 359,-201 359,-195 365,-189 371,-189 371,-189 446,-189 446,-189 452,-189 458,-195 458,-201 458,-201 458,-241 458,-241 458,-247 452,-253 446,-253\"/>\n<text text-anchor=\"start\" x=\"382\" y=\"-238.8\" font-family=\"Helvetica,sans-Serif\" font-size=\"14.00\" fill=\"#000000\">X</text>\n<text text-anchor=\"start\" x=\"392\" y=\"-238.8\" font-family=\"Helvetica,sans-Serif\" baseline-shift=\"sub\" font-size=\"14.00\" fill=\"#000000\">1</text>\n<text text-anchor=\"start\" x=\"399\" y=\"-238.8\" font-family=\"Helvetica,sans-Serif\" font-size=\"14.00\" fill=\"#000000\"> ≤ 0.5</text>\n<text text-anchor=\"start\" x=\"370.5\" y=\"-224.8\" font-family=\"Helvetica,sans-Serif\" font-size=\"14.00\" fill=\"#000000\">gini = 0.375</text>\n<text text-anchor=\"start\" x=\"369\" y=\"-210.8\" font-family=\"Helvetica,sans-Serif\" font-size=\"14.00\" fill=\"#000000\">samples = 4</text>\n<text text-anchor=\"start\" x=\"367\" y=\"-196.8\" font-family=\"Helvetica,sans-Serif\" font-size=\"14.00\" fill=\"#000000\">value = [1, 3]</text>\n</g>\n<!-- 11&#45;&gt;13 -->\n<g id=\"edge13\" class=\"edge\">\n<title>11&#45;&gt;13</title>\n<path fill=\"none\" stroke=\"#000000\" d=\"M326.4512,-288.8089C337.6777,-279.5308 350.0429,-269.3116 361.6932,-259.6833\"/>\n<polygon fill=\"#000000\" stroke=\"#000000\" points=\"364.1432,-262.1992 369.6218,-253.1308 359.6838,-256.8034 364.1432,-262.1992\"/>\n</g>\n<!-- 14 -->\n<g id=\"node15\" class=\"node\">\n<title>14</title>\n<path fill=\"#e58139\" stroke=\"#000000\" d=\"M387,-147.5C387,-147.5 312,-147.5 312,-147.5 306,-147.5 300,-141.5 300,-135.5 300,-135.5 300,-106.5 300,-106.5 300,-100.5 306,-94.5 312,-94.5 312,-94.5 387,-94.5 387,-94.5 393,-94.5 399,-100.5 399,-106.5 399,-106.5 399,-135.5 399,-135.5 399,-141.5 393,-147.5 387,-147.5\"/>\n<text text-anchor=\"start\" x=\"320\" y=\"-132.3\" font-family=\"Helvetica,sans-Serif\" font-size=\"14.00\" fill=\"#000000\">gini = 0.0</text>\n<text text-anchor=\"start\" x=\"310\" y=\"-117.3\" font-family=\"Helvetica,sans-Serif\" font-size=\"14.00\" fill=\"#000000\">samples = 1</text>\n<text text-anchor=\"start\" x=\"308\" y=\"-102.3\" font-family=\"Helvetica,sans-Serif\" font-size=\"14.00\" fill=\"#000000\">value = [1, 0]</text>\n</g>\n<!-- 13&#45;&gt;14 -->\n<g id=\"edge14\" class=\"edge\">\n<title>13&#45;&gt;14</title>\n<path fill=\"none\" stroke=\"#000000\" d=\"M389.5073,-188.8089C383.4626,-178.5638 376.7409,-167.1711 370.5592,-156.6936\"/>\n<polygon fill=\"#000000\" stroke=\"#000000\" points=\"373.3924,-154.6077 365.2964,-147.7735 367.3635,-158.1648 373.3924,-154.6077\"/>\n</g>\n<!-- 15 -->\n<g id=\"node16\" class=\"node\">\n<title>15</title>\n<path fill=\"#399de5\" stroke=\"#000000\" d=\"M504,-147.5C504,-147.5 429,-147.5 429,-147.5 423,-147.5 417,-141.5 417,-135.5 417,-135.5 417,-106.5 417,-106.5 417,-100.5 423,-94.5 429,-94.5 429,-94.5 504,-94.5 504,-94.5 510,-94.5 516,-100.5 516,-106.5 516,-106.5 516,-135.5 516,-135.5 516,-141.5 510,-147.5 504,-147.5\"/>\n<text text-anchor=\"start\" x=\"437\" y=\"-132.3\" font-family=\"Helvetica,sans-Serif\" font-size=\"14.00\" fill=\"#000000\">gini = 0.0</text>\n<text text-anchor=\"start\" x=\"427\" y=\"-117.3\" font-family=\"Helvetica,sans-Serif\" font-size=\"14.00\" fill=\"#000000\">samples = 3</text>\n<text text-anchor=\"start\" x=\"425\" y=\"-102.3\" font-family=\"Helvetica,sans-Serif\" font-size=\"14.00\" fill=\"#000000\">value = [0, 3]</text>\n</g>\n<!-- 13&#45;&gt;15 -->\n<g id=\"edge15\" class=\"edge\">\n<title>13&#45;&gt;15</title>\n<path fill=\"none\" stroke=\"#000000\" d=\"M427.1708,-188.8089C433.113,-178.5638 439.7208,-167.1711 445.7977,-156.6936\"/>\n<polygon fill=\"#000000\" stroke=\"#000000\" points=\"448.9817,-158.1799 450.9714,-147.7735 442.9265,-154.6678 448.9817,-158.1799\"/>\n</g>\n<!-- 18 -->\n<g id=\"node19\" class=\"node\">\n<title>18</title>\n<path fill=\"#399de5\" stroke=\"#000000\" d=\"M446,-447.5C446,-447.5 371,-447.5 371,-447.5 365,-447.5 359,-441.5 359,-435.5 359,-435.5 359,-406.5 359,-406.5 359,-400.5 365,-394.5 371,-394.5 371,-394.5 446,-394.5 446,-394.5 452,-394.5 458,-400.5 458,-406.5 458,-406.5 458,-435.5 458,-435.5 458,-441.5 452,-447.5 446,-447.5\"/>\n<text text-anchor=\"start\" x=\"379\" y=\"-432.3\" font-family=\"Helvetica,sans-Serif\" font-size=\"14.00\" fill=\"#000000\">gini = 0.0</text>\n<text text-anchor=\"start\" x=\"369\" y=\"-417.3\" font-family=\"Helvetica,sans-Serif\" font-size=\"14.00\" fill=\"#000000\">samples = 2</text>\n<text text-anchor=\"start\" x=\"367\" y=\"-402.3\" font-family=\"Helvetica,sans-Serif\" font-size=\"14.00\" fill=\"#000000\">value = [0, 2]</text>\n</g>\n<!-- 17&#45;&gt;18 -->\n<g id=\"edge18\" class=\"edge\">\n<title>17&#45;&gt;18</title>\n<path fill=\"none\" stroke=\"#000000\" d=\"M448.5073,-488.8089C442.4626,-478.5638 435.7409,-467.1711 429.5592,-456.6936\"/>\n<polygon fill=\"#000000\" stroke=\"#000000\" points=\"432.3924,-454.6077 424.2964,-447.7735 426.3635,-458.1648 432.3924,-454.6077\"/>\n</g>\n<!-- 19 -->\n<g id=\"node20\" class=\"node\">\n<title>19</title>\n<path fill=\"#e58139\" stroke=\"#000000\" d=\"M563,-447.5C563,-447.5 488,-447.5 488,-447.5 482,-447.5 476,-441.5 476,-435.5 476,-435.5 476,-406.5 476,-406.5 476,-400.5 482,-394.5 488,-394.5 488,-394.5 563,-394.5 563,-394.5 569,-394.5 575,-400.5 575,-406.5 575,-406.5 575,-435.5 575,-435.5 575,-441.5 569,-447.5 563,-447.5\"/>\n<text text-anchor=\"start\" x=\"496\" y=\"-432.3\" font-family=\"Helvetica,sans-Serif\" font-size=\"14.00\" fill=\"#000000\">gini = 0.0</text>\n<text text-anchor=\"start\" x=\"486\" y=\"-417.3\" font-family=\"Helvetica,sans-Serif\" font-size=\"14.00\" fill=\"#000000\">samples = 5</text>\n<text text-anchor=\"start\" x=\"484\" y=\"-402.3\" font-family=\"Helvetica,sans-Serif\" font-size=\"14.00\" fill=\"#000000\">value = [5, 0]</text>\n</g>\n<!-- 17&#45;&gt;19 -->\n<g id=\"edge19\" class=\"edge\">\n<title>17&#45;&gt;19</title>\n<path fill=\"none\" stroke=\"#000000\" d=\"M486.1708,-488.8089C492.113,-478.5638 498.7208,-467.1711 504.7977,-456.6936\"/>\n<polygon fill=\"#000000\" stroke=\"#000000\" points=\"507.9817,-458.1799 509.9714,-447.7735 501.9265,-454.6678 507.9817,-458.1799\"/>\n</g>\n<!-- 21 -->\n<g id=\"node22\" class=\"node\">\n<title>21</title>\n<path fill=\"#e78c4b\" stroke=\"#000000\" d=\"M938.5,-653C938.5,-653 838.5,-653 838.5,-653 832.5,-653 826.5,-647 826.5,-641 826.5,-641 826.5,-601 826.5,-601 826.5,-595 832.5,-589 838.5,-589 838.5,-589 938.5,-589 938.5,-589 944.5,-589 950.5,-595 950.5,-601 950.5,-601 950.5,-641 950.5,-641 950.5,-647 944.5,-653 938.5,-653\"/>\n<text text-anchor=\"start\" x=\"854\" y=\"-638.8\" font-family=\"Helvetica,sans-Serif\" font-size=\"14.00\" fill=\"#000000\">X</text>\n<text text-anchor=\"start\" x=\"864\" y=\"-638.8\" font-family=\"Helvetica,sans-Serif\" baseline-shift=\"sub\" font-size=\"14.00\" fill=\"#000000\">0</text>\n<text text-anchor=\"start\" x=\"871\" y=\"-638.8\" font-family=\"Helvetica,sans-Serif\" font-size=\"14.00\" fill=\"#000000\"> ≤ 0.709</text>\n<text text-anchor=\"start\" x=\"850.5\" y=\"-624.8\" font-family=\"Helvetica,sans-Serif\" font-size=\"14.00\" fill=\"#000000\">gini = 0.152</text>\n<text text-anchor=\"start\" x=\"840.5\" y=\"-610.8\" font-family=\"Helvetica,sans-Serif\" font-size=\"14.00\" fill=\"#000000\">samples = 121</text>\n<text text-anchor=\"start\" x=\"834.5\" y=\"-596.8\" font-family=\"Helvetica,sans-Serif\" font-size=\"14.00\" fill=\"#000000\">value = [111, 10]</text>\n</g>\n<!-- 20&#45;&gt;21 -->\n<g id=\"edge21\" class=\"edge\">\n<title>20&#45;&gt;21</title>\n<path fill=\"none\" stroke=\"#000000\" d=\"M888.5,-688.8089C888.5,-680.6906 888.5,-671.8517 888.5,-663.3186\"/>\n<polygon fill=\"#000000\" stroke=\"#000000\" points=\"892.0001,-663.1307 888.5,-653.1308 885.0001,-663.1308 892.0001,-663.1307\"/>\n</g>\n<!-- 44 -->\n<g id=\"node45\" class=\"node\">\n<title>44</title>\n<path fill=\"#f6d3ba\" stroke=\"#000000\" d=\"M1290.5,-653C1290.5,-653 1198.5,-653 1198.5,-653 1192.5,-653 1186.5,-647 1186.5,-641 1186.5,-641 1186.5,-601 1186.5,-601 1186.5,-595 1192.5,-589 1198.5,-589 1198.5,-589 1290.5,-589 1290.5,-589 1296.5,-589 1302.5,-595 1302.5,-601 1302.5,-601 1302.5,-641 1302.5,-641 1302.5,-647 1296.5,-653 1290.5,-653\"/>\n<text text-anchor=\"start\" x=\"1214\" y=\"-638.8\" font-family=\"Helvetica,sans-Serif\" font-size=\"14.00\" fill=\"#000000\">X</text>\n<text text-anchor=\"start\" x=\"1224\" y=\"-638.8\" font-family=\"Helvetica,sans-Serif\" baseline-shift=\"sub\" font-size=\"14.00\" fill=\"#000000\">4</text>\n<text text-anchor=\"start\" x=\"1231\" y=\"-638.8\" font-family=\"Helvetica,sans-Serif\" font-size=\"14.00\" fill=\"#000000\"> ≤ 0.28</text>\n<text text-anchor=\"start\" x=\"1206.5\" y=\"-624.8\" font-family=\"Helvetica,sans-Serif\" font-size=\"14.00\" fill=\"#000000\">gini = 0.478</text>\n<text text-anchor=\"start\" x=\"1200.5\" y=\"-610.8\" font-family=\"Helvetica,sans-Serif\" font-size=\"14.00\" fill=\"#000000\">samples = 33</text>\n<text text-anchor=\"start\" x=\"1194.5\" y=\"-596.8\" font-family=\"Helvetica,sans-Serif\" font-size=\"14.00\" fill=\"#000000\">value = [20, 13]</text>\n</g>\n<!-- 20&#45;&gt;44 -->\n<g id=\"edge44\" class=\"edge\">\n<title>20&#45;&gt;44</title>\n<path fill=\"none\" stroke=\"#000000\" d=\"M950.5105,-703.5813C1013.7036,-685.8305 1111.4426,-658.3757 1176.6637,-640.0551\"/>\n<polygon fill=\"#000000\" stroke=\"#000000\" points=\"1177.761,-643.3825 1186.4419,-637.3085 1175.8679,-636.6433 1177.761,-643.3825\"/>\n</g>\n<!-- 22 -->\n<g id=\"node23\" class=\"node\">\n<title>22</title>\n<path fill=\"#e78946\" stroke=\"#000000\" d=\"M871.5,-553C871.5,-553 779.5,-553 779.5,-553 773.5,-553 767.5,-547 767.5,-541 767.5,-541 767.5,-501 767.5,-501 767.5,-495 773.5,-489 779.5,-489 779.5,-489 871.5,-489 871.5,-489 877.5,-489 883.5,-495 883.5,-501 883.5,-501 883.5,-541 883.5,-541 883.5,-547 877.5,-553 871.5,-553\"/>\n<text text-anchor=\"start\" x=\"791\" y=\"-538.8\" font-family=\"Helvetica,sans-Serif\" font-size=\"14.00\" fill=\"#000000\">X</text>\n<text text-anchor=\"start\" x=\"801\" y=\"-538.8\" font-family=\"Helvetica,sans-Serif\" baseline-shift=\"sub\" font-size=\"14.00\" fill=\"#000000\">4</text>\n<text text-anchor=\"start\" x=\"808\" y=\"-538.8\" font-family=\"Helvetica,sans-Serif\" font-size=\"14.00\" fill=\"#000000\"> ≤ 0.205</text>\n<text text-anchor=\"start\" x=\"787.5\" y=\"-524.8\" font-family=\"Helvetica,sans-Serif\" font-size=\"14.00\" fill=\"#000000\">gini = 0.114</text>\n<text text-anchor=\"start\" x=\"777.5\" y=\"-510.8\" font-family=\"Helvetica,sans-Serif\" font-size=\"14.00\" fill=\"#000000\">samples = 115</text>\n<text text-anchor=\"start\" x=\"775.5\" y=\"-496.8\" font-family=\"Helvetica,sans-Serif\" font-size=\"14.00\" fill=\"#000000\">value = [108, 7]</text>\n</g>\n<!-- 21&#45;&gt;22 -->\n<g id=\"edge22\" class=\"edge\">\n<title>21&#45;&gt;22</title>\n<path fill=\"none\" stroke=\"#000000\" d=\"M868.2196,-588.8089C862.7678,-580.1553 856.8003,-570.683 851.1001,-561.635\"/>\n<polygon fill=\"#000000\" stroke=\"#000000\" points=\"854.0341,-559.726 845.7424,-553.1308 848.1115,-563.4573 854.0341,-559.726\"/>\n</g>\n<!-- 39 -->\n<g id=\"node40\" class=\"node\">\n<title>39</title>\n<path fill=\"#ffffff\" stroke=\"#000000\" d=\"M989,-553C989,-553 914,-553 914,-553 908,-553 902,-547 902,-541 902,-541 902,-501 902,-501 902,-495 908,-489 914,-489 914,-489 989,-489 989,-489 995,-489 1001,-495 1001,-501 1001,-501 1001,-541 1001,-541 1001,-547 995,-553 989,-553\"/>\n<text text-anchor=\"start\" x=\"917\" y=\"-538.8\" font-family=\"Helvetica,sans-Serif\" font-size=\"14.00\" fill=\"#000000\">X</text>\n<text text-anchor=\"start\" x=\"927\" y=\"-538.8\" font-family=\"Helvetica,sans-Serif\" baseline-shift=\"sub\" font-size=\"14.00\" fill=\"#000000\">6</text>\n<text text-anchor=\"start\" x=\"934\" y=\"-538.8\" font-family=\"Helvetica,sans-Serif\" font-size=\"14.00\" fill=\"#000000\"> ≤ 0.199</text>\n<text text-anchor=\"start\" x=\"922\" y=\"-524.8\" font-family=\"Helvetica,sans-Serif\" font-size=\"14.00\" fill=\"#000000\">gini = 0.5</text>\n<text text-anchor=\"start\" x=\"912\" y=\"-510.8\" font-family=\"Helvetica,sans-Serif\" font-size=\"14.00\" fill=\"#000000\">samples = 6</text>\n<text text-anchor=\"start\" x=\"910\" y=\"-496.8\" font-family=\"Helvetica,sans-Serif\" font-size=\"14.00\" fill=\"#000000\">value = [3, 3]</text>\n</g>\n<!-- 21&#45;&gt;39 -->\n<g id=\"edge39\" class=\"edge\">\n<title>21&#45;&gt;39</title>\n<path fill=\"none\" stroke=\"#000000\" d=\"M908.7804,-588.8089C914.2322,-580.1553 920.1997,-570.683 925.8999,-561.635\"/>\n<polygon fill=\"#000000\" stroke=\"#000000\" points=\"928.8885,-563.4573 931.2576,-553.1308 922.9659,-559.726 928.8885,-563.4573\"/>\n</g>\n<!-- 23 -->\n<g id=\"node24\" class=\"node\">\n<title>23</title>\n<path fill=\"#f0b78e\" stroke=\"#000000\" d=\"M685.5,-453C685.5,-453 605.5,-453 605.5,-453 599.5,-453 593.5,-447 593.5,-441 593.5,-441 593.5,-401 593.5,-401 593.5,-395 599.5,-389 605.5,-389 605.5,-389 685.5,-389 685.5,-389 691.5,-389 697.5,-395 697.5,-401 697.5,-401 697.5,-441 697.5,-441 697.5,-447 691.5,-453 685.5,-453\"/>\n<text text-anchor=\"start\" x=\"611\" y=\"-438.8\" font-family=\"Helvetica,sans-Serif\" font-size=\"14.00\" fill=\"#000000\">X</text>\n<text text-anchor=\"start\" x=\"621\" y=\"-438.8\" font-family=\"Helvetica,sans-Serif\" baseline-shift=\"sub\" font-size=\"14.00\" fill=\"#000000\">6</text>\n<text text-anchor=\"start\" x=\"628\" y=\"-438.8\" font-family=\"Helvetica,sans-Serif\" font-size=\"14.00\" fill=\"#000000\"> ≤ 0.257</text>\n<text text-anchor=\"start\" x=\"612\" y=\"-424.8\" font-family=\"Helvetica,sans-Serif\" font-size=\"14.00\" fill=\"#000000\">gini = 0.42</text>\n<text text-anchor=\"start\" x=\"601.5\" y=\"-410.8\" font-family=\"Helvetica,sans-Serif\" font-size=\"14.00\" fill=\"#000000\">samples = 10</text>\n<text text-anchor=\"start\" x=\"604\" y=\"-396.8\" font-family=\"Helvetica,sans-Serif\" font-size=\"14.00\" fill=\"#000000\">value = [7, 3]</text>\n</g>\n<!-- 22&#45;&gt;23 -->\n<g id=\"edge23\" class=\"edge\">\n<title>22&#45;&gt;23</title>\n<path fill=\"none\" stroke=\"#000000\" d=\"M767.5561,-488.8089C748.038,-477.9656 726.2063,-465.8368 706.4627,-454.8681\"/>\n<polygon fill=\"#000000\" stroke=\"#000000\" points=\"707.9954,-451.7158 697.554,-449.9189 704.5958,-457.8349 707.9954,-451.7158\"/>\n</g>\n<!-- 28 -->\n<g id=\"node29\" class=\"node\">\n<title>28</title>\n<path fill=\"#e68641\" stroke=\"#000000\" d=\"M871.5,-453C871.5,-453 779.5,-453 779.5,-453 773.5,-453 767.5,-447 767.5,-441 767.5,-441 767.5,-401 767.5,-401 767.5,-395 773.5,-389 779.5,-389 779.5,-389 871.5,-389 871.5,-389 877.5,-389 883.5,-395 883.5,-401 883.5,-401 883.5,-441 883.5,-441 883.5,-447 877.5,-453 871.5,-453\"/>\n<text text-anchor=\"start\" x=\"791\" y=\"-438.8\" font-family=\"Helvetica,sans-Serif\" font-size=\"14.00\" fill=\"#000000\">X</text>\n<text text-anchor=\"start\" x=\"801\" y=\"-438.8\" font-family=\"Helvetica,sans-Serif\" baseline-shift=\"sub\" font-size=\"14.00\" fill=\"#000000\">2</text>\n<text text-anchor=\"start\" x=\"808\" y=\"-438.8\" font-family=\"Helvetica,sans-Serif\" font-size=\"14.00\" fill=\"#000000\"> ≤ 0.291</text>\n<text text-anchor=\"start\" x=\"787.5\" y=\"-424.8\" font-family=\"Helvetica,sans-Serif\" font-size=\"14.00\" fill=\"#000000\">gini = 0.073</text>\n<text text-anchor=\"start\" x=\"777.5\" y=\"-410.8\" font-family=\"Helvetica,sans-Serif\" font-size=\"14.00\" fill=\"#000000\">samples = 105</text>\n<text text-anchor=\"start\" x=\"775.5\" y=\"-396.8\" font-family=\"Helvetica,sans-Serif\" font-size=\"14.00\" fill=\"#000000\">value = [101, 4]</text>\n</g>\n<!-- 22&#45;&gt;28 -->\n<g id=\"edge28\" class=\"edge\">\n<title>22&#45;&gt;28</title>\n<path fill=\"none\" stroke=\"#000000\" d=\"M825.5,-488.8089C825.5,-480.6906 825.5,-471.8517 825.5,-463.3186\"/>\n<polygon fill=\"#000000\" stroke=\"#000000\" points=\"829.0001,-463.1307 825.5,-453.1308 822.0001,-463.1308 829.0001,-463.1307\"/>\n</g>\n<!-- 24 -->\n<g id=\"node25\" class=\"node\">\n<title>24</title>\n<path fill=\"#399de5\" stroke=\"#000000\" d=\"M565,-347.5C565,-347.5 490,-347.5 490,-347.5 484,-347.5 478,-341.5 478,-335.5 478,-335.5 478,-306.5 478,-306.5 478,-300.5 484,-294.5 490,-294.5 490,-294.5 565,-294.5 565,-294.5 571,-294.5 577,-300.5 577,-306.5 577,-306.5 577,-335.5 577,-335.5 577,-341.5 571,-347.5 565,-347.5\"/>\n<text text-anchor=\"start\" x=\"498\" y=\"-332.3\" font-family=\"Helvetica,sans-Serif\" font-size=\"14.00\" fill=\"#000000\">gini = 0.0</text>\n<text text-anchor=\"start\" x=\"488\" y=\"-317.3\" font-family=\"Helvetica,sans-Serif\" font-size=\"14.00\" fill=\"#000000\">samples = 2</text>\n<text text-anchor=\"start\" x=\"486\" y=\"-302.3\" font-family=\"Helvetica,sans-Serif\" font-size=\"14.00\" fill=\"#000000\">value = [0, 2]</text>\n</g>\n<!-- 23&#45;&gt;24 -->\n<g id=\"edge24\" class=\"edge\">\n<title>23&#45;&gt;24</title>\n<path fill=\"none\" stroke=\"#000000\" d=\"M607.5145,-388.8089C594.5704,-377.8393 580.074,-365.5543 567.0129,-354.4855\"/>\n<polygon fill=\"#000000\" stroke=\"#000000\" points=\"568.9846,-351.5686 559.0928,-347.7735 564.4589,-356.9089 568.9846,-351.5686\"/>\n</g>\n<!-- 25 -->\n<g id=\"node26\" class=\"node\">\n<title>25</title>\n<path fill=\"#e99355\" stroke=\"#000000\" d=\"M682,-353C682,-353 607,-353 607,-353 601,-353 595,-347 595,-341 595,-341 595,-301 595,-301 595,-295 601,-289 607,-289 607,-289 682,-289 682,-289 688,-289 694,-295 694,-301 694,-301 694,-341 694,-341 694,-347 688,-353 682,-353\"/>\n<text text-anchor=\"start\" x=\"606.5\" y=\"-338.8\" font-family=\"Helvetica,sans-Serif\" font-size=\"14.00\" fill=\"#000000\">X</text>\n<text text-anchor=\"start\" x=\"616.5\" y=\"-338.8\" font-family=\"Helvetica,sans-Serif\" baseline-shift=\"sub\" font-size=\"14.00\" fill=\"#000000\">11</text>\n<text text-anchor=\"start\" x=\"630.5\" y=\"-338.8\" font-family=\"Helvetica,sans-Serif\" font-size=\"14.00\" fill=\"#000000\"> ≤ 0.272</text>\n<text text-anchor=\"start\" x=\"606.5\" y=\"-324.8\" font-family=\"Helvetica,sans-Serif\" font-size=\"14.00\" fill=\"#000000\">gini = 0.219</text>\n<text text-anchor=\"start\" x=\"605\" y=\"-310.8\" font-family=\"Helvetica,sans-Serif\" font-size=\"14.00\" fill=\"#000000\">samples = 8</text>\n<text text-anchor=\"start\" x=\"603\" y=\"-296.8\" font-family=\"Helvetica,sans-Serif\" font-size=\"14.00\" fill=\"#000000\">value = [7, 1]</text>\n</g>\n<!-- 23&#45;&gt;25 -->\n<g id=\"edge25\" class=\"edge\">\n<title>23&#45;&gt;25</title>\n<path fill=\"none\" stroke=\"#000000\" d=\"M645.1781,-388.8089C645.0969,-380.6906 645.0085,-371.8517 644.9232,-363.3186\"/>\n<polygon fill=\"#000000\" stroke=\"#000000\" points=\"648.4212,-363.0952 644.8213,-353.1308 641.4216,-363.1653 648.4212,-363.0952\"/>\n</g>\n<!-- 26 -->\n<g id=\"node27\" class=\"node\">\n<title>26</title>\n<path fill=\"#399de5\" stroke=\"#000000\" d=\"M564,-247.5C564,-247.5 489,-247.5 489,-247.5 483,-247.5 477,-241.5 477,-235.5 477,-235.5 477,-206.5 477,-206.5 477,-200.5 483,-194.5 489,-194.5 489,-194.5 564,-194.5 564,-194.5 570,-194.5 576,-200.5 576,-206.5 576,-206.5 576,-235.5 576,-235.5 576,-241.5 570,-247.5 564,-247.5\"/>\n<text text-anchor=\"start\" x=\"497\" y=\"-232.3\" font-family=\"Helvetica,sans-Serif\" font-size=\"14.00\" fill=\"#000000\">gini = 0.0</text>\n<text text-anchor=\"start\" x=\"487\" y=\"-217.3\" font-family=\"Helvetica,sans-Serif\" font-size=\"14.00\" fill=\"#000000\">samples = 1</text>\n<text text-anchor=\"start\" x=\"485\" y=\"-202.3\" font-family=\"Helvetica,sans-Serif\" font-size=\"14.00\" fill=\"#000000\">value = [0, 1]</text>\n</g>\n<!-- 25&#45;&gt;26 -->\n<g id=\"edge26\" class=\"edge\">\n<title>25&#45;&gt;26</title>\n<path fill=\"none\" stroke=\"#000000\" d=\"M606.5145,-288.8089C593.5704,-277.8393 579.074,-265.5543 566.0129,-254.4855\"/>\n<polygon fill=\"#000000\" stroke=\"#000000\" points=\"567.9846,-251.5686 558.0928,-247.7735 563.4589,-256.9089 567.9846,-251.5686\"/>\n</g>\n<!-- 27 -->\n<g id=\"node28\" class=\"node\">\n<title>27</title>\n<path fill=\"#e58139\" stroke=\"#000000\" d=\"M681,-247.5C681,-247.5 606,-247.5 606,-247.5 600,-247.5 594,-241.5 594,-235.5 594,-235.5 594,-206.5 594,-206.5 594,-200.5 600,-194.5 606,-194.5 606,-194.5 681,-194.5 681,-194.5 687,-194.5 693,-200.5 693,-206.5 693,-206.5 693,-235.5 693,-235.5 693,-241.5 687,-247.5 681,-247.5\"/>\n<text text-anchor=\"start\" x=\"614\" y=\"-232.3\" font-family=\"Helvetica,sans-Serif\" font-size=\"14.00\" fill=\"#000000\">gini = 0.0</text>\n<text text-anchor=\"start\" x=\"604\" y=\"-217.3\" font-family=\"Helvetica,sans-Serif\" font-size=\"14.00\" fill=\"#000000\">samples = 7</text>\n<text text-anchor=\"start\" x=\"602\" y=\"-202.3\" font-family=\"Helvetica,sans-Serif\" font-size=\"14.00\" fill=\"#000000\">value = [7, 0]</text>\n</g>\n<!-- 25&#45;&gt;27 -->\n<g id=\"edge27\" class=\"edge\">\n<title>25&#45;&gt;27</title>\n<path fill=\"none\" stroke=\"#000000\" d=\"M644.1781,-288.8089C644.0798,-278.9777 643.9709,-268.0898 643.8697,-257.9679\"/>\n<polygon fill=\"#000000\" stroke=\"#000000\" points=\"647.3677,-257.738 643.7677,-247.7735 640.368,-257.8081 647.3677,-257.738\"/>\n</g>\n<!-- 29 -->\n<g id=\"node30\" class=\"node\">\n<title>29</title>\n<path fill=\"#e6843d\" stroke=\"#000000\" d=\"M867,-353C867,-353 784,-353 784,-353 778,-353 772,-347 772,-341 772,-341 772,-301 772,-301 772,-295 778,-289 784,-289 784,-289 867,-289 867,-289 873,-289 879,-295 879,-301 879,-301 879,-341 879,-341 879,-347 873,-353 867,-353\"/>\n<text text-anchor=\"start\" x=\"791\" y=\"-338.8\" font-family=\"Helvetica,sans-Serif\" font-size=\"14.00\" fill=\"#000000\">X</text>\n<text text-anchor=\"start\" x=\"801\" y=\"-338.8\" font-family=\"Helvetica,sans-Serif\" baseline-shift=\"sub\" font-size=\"14.00\" fill=\"#000000\">7</text>\n<text text-anchor=\"start\" x=\"808\" y=\"-338.8\" font-family=\"Helvetica,sans-Serif\" font-size=\"14.00\" fill=\"#000000\"> ≤ 0.017</text>\n<text text-anchor=\"start\" x=\"792\" y=\"-324.8\" font-family=\"Helvetica,sans-Serif\" font-size=\"14.00\" fill=\"#000000\">gini = 0.04</text>\n<text text-anchor=\"start\" x=\"781.5\" y=\"-310.8\" font-family=\"Helvetica,sans-Serif\" font-size=\"14.00\" fill=\"#000000\">samples = 99</text>\n<text text-anchor=\"start\" x=\"780\" y=\"-296.8\" font-family=\"Helvetica,sans-Serif\" font-size=\"14.00\" fill=\"#000000\">value = [97, 2]</text>\n</g>\n<!-- 28&#45;&gt;29 -->\n<g id=\"edge29\" class=\"edge\">\n<title>28&#45;&gt;29</title>\n<path fill=\"none\" stroke=\"#000000\" d=\"M825.5,-388.8089C825.5,-380.6906 825.5,-371.8517 825.5,-363.3186\"/>\n<polygon fill=\"#000000\" stroke=\"#000000\" points=\"829.0001,-363.1307 825.5,-353.1308 822.0001,-363.1308 829.0001,-363.1307\"/>\n</g>\n<!-- 36 -->\n<g id=\"node37\" class=\"node\">\n<title>36</title>\n<path fill=\"#f2c09c\" stroke=\"#000000\" d=\"M989,-353C989,-353 914,-353 914,-353 908,-353 902,-347 902,-341 902,-341 902,-301 902,-301 902,-295 908,-289 914,-289 914,-289 989,-289 989,-289 995,-289 1001,-295 1001,-301 1001,-301 1001,-341 1001,-341 1001,-347 995,-353 989,-353\"/>\n<text text-anchor=\"start\" x=\"913.5\" y=\"-338.8\" font-family=\"Helvetica,sans-Serif\" font-size=\"14.00\" fill=\"#000000\">X</text>\n<text text-anchor=\"start\" x=\"923.5\" y=\"-338.8\" font-family=\"Helvetica,sans-Serif\" baseline-shift=\"sub\" font-size=\"14.00\" fill=\"#000000\">11</text>\n<text text-anchor=\"start\" x=\"937.5\" y=\"-338.8\" font-family=\"Helvetica,sans-Serif\" font-size=\"14.00\" fill=\"#000000\"> ≤ 0.475</text>\n<text text-anchor=\"start\" x=\"913.5\" y=\"-324.8\" font-family=\"Helvetica,sans-Serif\" font-size=\"14.00\" fill=\"#000000\">gini = 0.444</text>\n<text text-anchor=\"start\" x=\"912\" y=\"-310.8\" font-family=\"Helvetica,sans-Serif\" font-size=\"14.00\" fill=\"#000000\">samples = 6</text>\n<text text-anchor=\"start\" x=\"910\" y=\"-296.8\" font-family=\"Helvetica,sans-Serif\" font-size=\"14.00\" fill=\"#000000\">value = [4, 2]</text>\n</g>\n<!-- 28&#45;&gt;36 -->\n<g id=\"edge36\" class=\"edge\">\n<title>28&#45;&gt;36</title>\n<path fill=\"none\" stroke=\"#000000\" d=\"M866.0608,-388.8089C877.8636,-379.4416 890.8751,-369.115 903.1088,-359.4057\"/>\n<polygon fill=\"#000000\" stroke=\"#000000\" points=\"905.3581,-362.0889 911.0152,-353.1308 901.0065,-356.6059 905.3581,-362.0889\"/>\n</g>\n<!-- 30 -->\n<g id=\"node31\" class=\"node\">\n<title>30</title>\n<path fill=\"#ffffff\" stroke=\"#000000\" d=\"M798,-247.5C798,-247.5 723,-247.5 723,-247.5 717,-247.5 711,-241.5 711,-235.5 711,-235.5 711,-206.5 711,-206.5 711,-200.5 717,-194.5 723,-194.5 723,-194.5 798,-194.5 798,-194.5 804,-194.5 810,-200.5 810,-206.5 810,-206.5 810,-235.5 810,-235.5 810,-241.5 804,-247.5 798,-247.5\"/>\n<text text-anchor=\"start\" x=\"731\" y=\"-232.3\" font-family=\"Helvetica,sans-Serif\" font-size=\"14.00\" fill=\"#000000\">gini = 0.5</text>\n<text text-anchor=\"start\" x=\"721\" y=\"-217.3\" font-family=\"Helvetica,sans-Serif\" font-size=\"14.00\" fill=\"#000000\">samples = 2</text>\n<text text-anchor=\"start\" x=\"719\" y=\"-202.3\" font-family=\"Helvetica,sans-Serif\" font-size=\"14.00\" fill=\"#000000\">value = [1, 1]</text>\n</g>\n<!-- 29&#45;&gt;30 -->\n<g id=\"edge30\" class=\"edge\">\n<title>29&#45;&gt;30</title>\n<path fill=\"none\" stroke=\"#000000\" d=\"M804.5758,-288.8089C797.8492,-278.4603 790.3615,-266.9408 783.4946,-256.3764\"/>\n<polygon fill=\"#000000\" stroke=\"#000000\" points=\"786.2873,-254.2505 777.9028,-247.7735 780.4182,-258.0654 786.2873,-254.2505\"/>\n</g>\n<!-- 31 -->\n<g id=\"node32\" class=\"node\">\n<title>31</title>\n<path fill=\"#e5823b\" stroke=\"#000000\" d=\"M923,-253C923,-253 840,-253 840,-253 834,-253 828,-247 828,-241 828,-241 828,-201 828,-201 828,-195 834,-189 840,-189 840,-189 923,-189 923,-189 929,-189 935,-195 935,-201 935,-201 935,-241 935,-241 935,-247 929,-253 923,-253\"/>\n<text text-anchor=\"start\" x=\"847\" y=\"-238.8\" font-family=\"Helvetica,sans-Serif\" font-size=\"14.00\" fill=\"#000000\">X</text>\n<text text-anchor=\"start\" x=\"857\" y=\"-238.8\" font-family=\"Helvetica,sans-Serif\" baseline-shift=\"sub\" font-size=\"14.00\" fill=\"#000000\">7</text>\n<text text-anchor=\"start\" x=\"864\" y=\"-238.8\" font-family=\"Helvetica,sans-Serif\" font-size=\"14.00\" fill=\"#000000\"> ≤ 0.084</text>\n<text text-anchor=\"start\" x=\"848\" y=\"-224.8\" font-family=\"Helvetica,sans-Serif\" font-size=\"14.00\" fill=\"#000000\">gini = 0.02</text>\n<text text-anchor=\"start\" x=\"837.5\" y=\"-210.8\" font-family=\"Helvetica,sans-Serif\" font-size=\"14.00\" fill=\"#000000\">samples = 97</text>\n<text text-anchor=\"start\" x=\"836\" y=\"-196.8\" font-family=\"Helvetica,sans-Serif\" font-size=\"14.00\" fill=\"#000000\">value = [96, 1]</text>\n</g>\n<!-- 29&#45;&gt;31 -->\n<g id=\"edge31\" class=\"edge\">\n<title>29&#45;&gt;31</title>\n<path fill=\"none\" stroke=\"#000000\" d=\"M843.527,-288.8089C848.3231,-280.2445 853.5682,-270.8782 858.5876,-261.915\"/>\n<polygon fill=\"#000000\" stroke=\"#000000\" points=\"861.6745,-263.566 863.5068,-253.1308 855.5669,-260.1457 861.6745,-263.566\"/>\n</g>\n<!-- 32 -->\n<g id=\"node33\" class=\"node\">\n<title>32</title>\n<path fill=\"#e58139\" stroke=\"#000000\" d=\"M861,-147.5C861,-147.5 778,-147.5 778,-147.5 772,-147.5 766,-141.5 766,-135.5 766,-135.5 766,-106.5 766,-106.5 766,-100.5 772,-94.5 778,-94.5 778,-94.5 861,-94.5 861,-94.5 867,-94.5 873,-100.5 873,-106.5 873,-106.5 873,-135.5 873,-135.5 873,-141.5 867,-147.5 861,-147.5\"/>\n<text text-anchor=\"start\" x=\"790\" y=\"-132.3\" font-family=\"Helvetica,sans-Serif\" font-size=\"14.00\" fill=\"#000000\">gini = 0.0</text>\n<text text-anchor=\"start\" x=\"775.5\" y=\"-117.3\" font-family=\"Helvetica,sans-Serif\" font-size=\"14.00\" fill=\"#000000\">samples = 87</text>\n<text text-anchor=\"start\" x=\"774\" y=\"-102.3\" font-family=\"Helvetica,sans-Serif\" font-size=\"14.00\" fill=\"#000000\">value = [87, 0]</text>\n</g>\n<!-- 31&#45;&gt;32 -->\n<g id=\"edge32\" class=\"edge\">\n<title>31&#45;&gt;32</title>\n<path fill=\"none\" stroke=\"#000000\" d=\"M861.5415,-188.8089C855.1254,-178.4603 847.9833,-166.9408 841.4333,-156.3764\"/>\n<polygon fill=\"#000000\" stroke=\"#000000\" points=\"844.3437,-154.4283 836.0996,-147.7735 838.3944,-158.1169 844.3437,-154.4283\"/>\n</g>\n<!-- 33 -->\n<g id=\"node34\" class=\"node\">\n<title>33</title>\n<path fill=\"#e88f4f\" stroke=\"#000000\" d=\"M983.5,-153C983.5,-153 903.5,-153 903.5,-153 897.5,-153 891.5,-147 891.5,-141 891.5,-141 891.5,-101 891.5,-101 891.5,-95 897.5,-89 903.5,-89 903.5,-89 983.5,-89 983.5,-89 989.5,-89 995.5,-95 995.5,-101 995.5,-101 995.5,-141 995.5,-141 995.5,-147 989.5,-153 983.5,-153\"/>\n<text text-anchor=\"start\" x=\"905.5\" y=\"-138.8\" font-family=\"Helvetica,sans-Serif\" font-size=\"14.00\" fill=\"#000000\">X</text>\n<text text-anchor=\"start\" x=\"915.5\" y=\"-138.8\" font-family=\"Helvetica,sans-Serif\" baseline-shift=\"sub\" font-size=\"14.00\" fill=\"#000000\">11</text>\n<text text-anchor=\"start\" x=\"929.5\" y=\"-138.8\" font-family=\"Helvetica,sans-Serif\" font-size=\"14.00\" fill=\"#000000\"> ≤ 0.319</text>\n<text text-anchor=\"start\" x=\"910\" y=\"-124.8\" font-family=\"Helvetica,sans-Serif\" font-size=\"14.00\" fill=\"#000000\">gini = 0.18</text>\n<text text-anchor=\"start\" x=\"899.5\" y=\"-110.8\" font-family=\"Helvetica,sans-Serif\" font-size=\"14.00\" fill=\"#000000\">samples = 10</text>\n<text text-anchor=\"start\" x=\"902\" y=\"-96.8\" font-family=\"Helvetica,sans-Serif\" font-size=\"14.00\" fill=\"#000000\">value = [9, 1]</text>\n</g>\n<!-- 31&#45;&gt;33 -->\n<g id=\"edge33\" class=\"edge\">\n<title>31&#45;&gt;33</title>\n<path fill=\"none\" stroke=\"#000000\" d=\"M901.4585,-188.8089C906.8237,-180.1553 912.6965,-170.683 918.3063,-161.635\"/>\n<polygon fill=\"#000000\" stroke=\"#000000\" points=\"921.2841,-163.4741 923.5789,-153.1308 915.3348,-159.7855 921.2841,-163.4741\"/>\n</g>\n<!-- 34 -->\n<g id=\"node35\" class=\"node\">\n<title>34</title>\n<path fill=\"#ffffff\" stroke=\"#000000\" d=\"M923,-53C923,-53 848,-53 848,-53 842,-53 836,-47 836,-41 836,-41 836,-12 836,-12 836,-6 842,0 848,0 848,0 923,0 923,0 929,0 935,-6 935,-12 935,-12 935,-41 935,-41 935,-47 929,-53 923,-53\"/>\n<text text-anchor=\"start\" x=\"856\" y=\"-37.8\" font-family=\"Helvetica,sans-Serif\" font-size=\"14.00\" fill=\"#000000\">gini = 0.5</text>\n<text text-anchor=\"start\" x=\"846\" y=\"-22.8\" font-family=\"Helvetica,sans-Serif\" font-size=\"14.00\" fill=\"#000000\">samples = 2</text>\n<text text-anchor=\"start\" x=\"844\" y=\"-7.8\" font-family=\"Helvetica,sans-Serif\" font-size=\"14.00\" fill=\"#000000\">value = [1, 1]</text>\n</g>\n<!-- 33&#45;&gt;34 -->\n<g id=\"edge34\" class=\"edge\">\n<title>33&#45;&gt;34</title>\n<path fill=\"none\" stroke=\"#000000\" d=\"M923.7019,-88.7428C918.3856,-80.0809 912.609,-70.669 907.1957,-61.849\"/>\n<polygon fill=\"#000000\" stroke=\"#000000\" points=\"910.1478,-59.9678 901.9339,-53.2759 904.1818,-63.6295 910.1478,-59.9678\"/>\n</g>\n<!-- 35 -->\n<g id=\"node36\" class=\"node\">\n<title>35</title>\n<path fill=\"#e58139\" stroke=\"#000000\" d=\"M1040,-53C1040,-53 965,-53 965,-53 959,-53 953,-47 953,-41 953,-41 953,-12 953,-12 953,-6 959,0 965,0 965,0 1040,0 1040,0 1046,0 1052,-6 1052,-12 1052,-12 1052,-41 1052,-41 1052,-47 1046,-53 1040,-53\"/>\n<text text-anchor=\"start\" x=\"973\" y=\"-37.8\" font-family=\"Helvetica,sans-Serif\" font-size=\"14.00\" fill=\"#000000\">gini = 0.0</text>\n<text text-anchor=\"start\" x=\"963\" y=\"-22.8\" font-family=\"Helvetica,sans-Serif\" font-size=\"14.00\" fill=\"#000000\">samples = 8</text>\n<text text-anchor=\"start\" x=\"961\" y=\"-7.8\" font-family=\"Helvetica,sans-Serif\" font-size=\"14.00\" fill=\"#000000\">value = [8, 0]</text>\n</g>\n<!-- 33&#45;&gt;35 -->\n<g id=\"edge35\" class=\"edge\">\n<title>33&#45;&gt;35</title>\n<path fill=\"none\" stroke=\"#000000\" d=\"M963.6394,-88.7428C969.0474,-80.0809 974.9236,-70.669 980.4303,-61.849\"/>\n<polygon fill=\"#000000\" stroke=\"#000000\" points=\"983.4557,-63.612 985.7828,-53.2759 977.5179,-59.9048 983.4557,-63.612\"/>\n</g>\n<!-- 37 -->\n<g id=\"node38\" class=\"node\">\n<title>37</title>\n<path fill=\"#399de5\" stroke=\"#000000\" d=\"M1040,-247.5C1040,-247.5 965,-247.5 965,-247.5 959,-247.5 953,-241.5 953,-235.5 953,-235.5 953,-206.5 953,-206.5 953,-200.5 959,-194.5 965,-194.5 965,-194.5 1040,-194.5 1040,-194.5 1046,-194.5 1052,-200.5 1052,-206.5 1052,-206.5 1052,-235.5 1052,-235.5 1052,-241.5 1046,-247.5 1040,-247.5\"/>\n<text text-anchor=\"start\" x=\"973\" y=\"-232.3\" font-family=\"Helvetica,sans-Serif\" font-size=\"14.00\" fill=\"#000000\">gini = 0.0</text>\n<text text-anchor=\"start\" x=\"963\" y=\"-217.3\" font-family=\"Helvetica,sans-Serif\" font-size=\"14.00\" fill=\"#000000\">samples = 2</text>\n<text text-anchor=\"start\" x=\"961\" y=\"-202.3\" font-family=\"Helvetica,sans-Serif\" font-size=\"14.00\" fill=\"#000000\">value = [0, 2]</text>\n</g>\n<!-- 36&#45;&gt;37 -->\n<g id=\"edge37\" class=\"edge\">\n<title>36&#45;&gt;37</title>\n<path fill=\"none\" stroke=\"#000000\" d=\"M967.9174,-288.8089C973.1425,-278.5638 978.9527,-267.1711 984.2963,-256.6936\"/>\n<polygon fill=\"#000000\" stroke=\"#000000\" points=\"987.4201,-258.272 988.8455,-247.7735 981.1843,-255.0917 987.4201,-258.272\"/>\n</g>\n<!-- 38 -->\n<g id=\"node39\" class=\"node\">\n<title>38</title>\n<path fill=\"#e58139\" stroke=\"#000000\" d=\"M1157,-247.5C1157,-247.5 1082,-247.5 1082,-247.5 1076,-247.5 1070,-241.5 1070,-235.5 1070,-235.5 1070,-206.5 1070,-206.5 1070,-200.5 1076,-194.5 1082,-194.5 1082,-194.5 1157,-194.5 1157,-194.5 1163,-194.5 1169,-200.5 1169,-206.5 1169,-206.5 1169,-235.5 1169,-235.5 1169,-241.5 1163,-247.5 1157,-247.5\"/>\n<text text-anchor=\"start\" x=\"1090\" y=\"-232.3\" font-family=\"Helvetica,sans-Serif\" font-size=\"14.00\" fill=\"#000000\">gini = 0.0</text>\n<text text-anchor=\"start\" x=\"1080\" y=\"-217.3\" font-family=\"Helvetica,sans-Serif\" font-size=\"14.00\" fill=\"#000000\">samples = 4</text>\n<text text-anchor=\"start\" x=\"1078\" y=\"-202.3\" font-family=\"Helvetica,sans-Serif\" font-size=\"14.00\" fill=\"#000000\">value = [4, 0]</text>\n</g>\n<!-- 36&#45;&gt;38 -->\n<g id=\"edge38\" class=\"edge\">\n<title>36&#45;&gt;38</title>\n<path fill=\"none\" stroke=\"#000000\" d=\"M1001.4507,-291.2675C1021.847,-279.1268 1045.4673,-265.0671 1066.196,-252.7286\"/>\n<polygon fill=\"#000000\" stroke=\"#000000\" points=\"1068.0821,-255.679 1074.8849,-247.5566 1064.5017,-249.664 1068.0821,-255.679\"/>\n</g>\n<!-- 40 -->\n<g id=\"node41\" class=\"node\">\n<title>40</title>\n<path fill=\"#e58139\" stroke=\"#000000\" d=\"M989,-447.5C989,-447.5 914,-447.5 914,-447.5 908,-447.5 902,-441.5 902,-435.5 902,-435.5 902,-406.5 902,-406.5 902,-400.5 908,-394.5 914,-394.5 914,-394.5 989,-394.5 989,-394.5 995,-394.5 1001,-400.5 1001,-406.5 1001,-406.5 1001,-435.5 1001,-435.5 1001,-441.5 995,-447.5 989,-447.5\"/>\n<text text-anchor=\"start\" x=\"922\" y=\"-432.3\" font-family=\"Helvetica,sans-Serif\" font-size=\"14.00\" fill=\"#000000\">gini = 0.0</text>\n<text text-anchor=\"start\" x=\"912\" y=\"-417.3\" font-family=\"Helvetica,sans-Serif\" font-size=\"14.00\" fill=\"#000000\">samples = 2</text>\n<text text-anchor=\"start\" x=\"910\" y=\"-402.3\" font-family=\"Helvetica,sans-Serif\" font-size=\"14.00\" fill=\"#000000\">value = [2, 0]</text>\n</g>\n<!-- 39&#45;&gt;40 -->\n<g id=\"edge40\" class=\"edge\">\n<title>39&#45;&gt;40</title>\n<path fill=\"none\" stroke=\"#000000\" d=\"M951.5,-488.8089C951.5,-478.9777 951.5,-468.0898 951.5,-457.9679\"/>\n<polygon fill=\"#000000\" stroke=\"#000000\" points=\"955.0001,-457.7735 951.5,-447.7735 948.0001,-457.7736 955.0001,-457.7735\"/>\n</g>\n<!-- 41 -->\n<g id=\"node42\" class=\"node\">\n<title>41</title>\n<path fill=\"#7bbeee\" stroke=\"#000000\" d=\"M1106,-453C1106,-453 1031,-453 1031,-453 1025,-453 1019,-447 1019,-441 1019,-441 1019,-401 1019,-401 1019,-395 1025,-389 1031,-389 1031,-389 1106,-389 1106,-389 1112,-389 1118,-395 1118,-401 1118,-401 1118,-441 1118,-441 1118,-447 1112,-453 1106,-453\"/>\n<text text-anchor=\"start\" x=\"1034\" y=\"-438.8\" font-family=\"Helvetica,sans-Serif\" font-size=\"14.00\" fill=\"#000000\">X</text>\n<text text-anchor=\"start\" x=\"1044\" y=\"-438.8\" font-family=\"Helvetica,sans-Serif\" baseline-shift=\"sub\" font-size=\"14.00\" fill=\"#000000\">2</text>\n<text text-anchor=\"start\" x=\"1051\" y=\"-438.8\" font-family=\"Helvetica,sans-Serif\" font-size=\"14.00\" fill=\"#000000\"> ≤ 0.106</text>\n<text text-anchor=\"start\" x=\"1030.5\" y=\"-424.8\" font-family=\"Helvetica,sans-Serif\" font-size=\"14.00\" fill=\"#000000\">gini = 0.375</text>\n<text text-anchor=\"start\" x=\"1029\" y=\"-410.8\" font-family=\"Helvetica,sans-Serif\" font-size=\"14.00\" fill=\"#000000\">samples = 4</text>\n<text text-anchor=\"start\" x=\"1027\" y=\"-396.8\" font-family=\"Helvetica,sans-Serif\" font-size=\"14.00\" fill=\"#000000\">value = [1, 3]</text>\n</g>\n<!-- 39&#45;&gt;41 -->\n<g id=\"edge41\" class=\"edge\">\n<title>39&#45;&gt;41</title>\n<path fill=\"none\" stroke=\"#000000\" d=\"M989.1636,-488.8089C1000.0189,-479.5308 1011.9754,-469.3116 1023.2405,-459.6833\"/>\n<polygon fill=\"#000000\" stroke=\"#000000\" points=\"1025.5793,-462.2886 1030.907,-453.1308 1021.0312,-456.9674 1025.5793,-462.2886\"/>\n</g>\n<!-- 42 -->\n<g id=\"node43\" class=\"node\">\n<title>42</title>\n<path fill=\"#399de5\" stroke=\"#000000\" d=\"M1106,-347.5C1106,-347.5 1031,-347.5 1031,-347.5 1025,-347.5 1019,-341.5 1019,-335.5 1019,-335.5 1019,-306.5 1019,-306.5 1019,-300.5 1025,-294.5 1031,-294.5 1031,-294.5 1106,-294.5 1106,-294.5 1112,-294.5 1118,-300.5 1118,-306.5 1118,-306.5 1118,-335.5 1118,-335.5 1118,-341.5 1112,-347.5 1106,-347.5\"/>\n<text text-anchor=\"start\" x=\"1039\" y=\"-332.3\" font-family=\"Helvetica,sans-Serif\" font-size=\"14.00\" fill=\"#000000\">gini = 0.0</text>\n<text text-anchor=\"start\" x=\"1029\" y=\"-317.3\" font-family=\"Helvetica,sans-Serif\" font-size=\"14.00\" fill=\"#000000\">samples = 3</text>\n<text text-anchor=\"start\" x=\"1027\" y=\"-302.3\" font-family=\"Helvetica,sans-Serif\" font-size=\"14.00\" fill=\"#000000\">value = [0, 3]</text>\n</g>\n<!-- 41&#45;&gt;42 -->\n<g id=\"edge42\" class=\"edge\">\n<title>41&#45;&gt;42</title>\n<path fill=\"none\" stroke=\"#000000\" d=\"M1068.5,-388.8089C1068.5,-378.9777 1068.5,-368.0898 1068.5,-357.9679\"/>\n<polygon fill=\"#000000\" stroke=\"#000000\" points=\"1072.0001,-357.7735 1068.5,-347.7735 1065.0001,-357.7736 1072.0001,-357.7735\"/>\n</g>\n<!-- 43 -->\n<g id=\"node44\" class=\"node\">\n<title>43</title>\n<path fill=\"#e58139\" stroke=\"#000000\" d=\"M1223,-347.5C1223,-347.5 1148,-347.5 1148,-347.5 1142,-347.5 1136,-341.5 1136,-335.5 1136,-335.5 1136,-306.5 1136,-306.5 1136,-300.5 1142,-294.5 1148,-294.5 1148,-294.5 1223,-294.5 1223,-294.5 1229,-294.5 1235,-300.5 1235,-306.5 1235,-306.5 1235,-335.5 1235,-335.5 1235,-341.5 1229,-347.5 1223,-347.5\"/>\n<text text-anchor=\"start\" x=\"1156\" y=\"-332.3\" font-family=\"Helvetica,sans-Serif\" font-size=\"14.00\" fill=\"#000000\">gini = 0.0</text>\n<text text-anchor=\"start\" x=\"1146\" y=\"-317.3\" font-family=\"Helvetica,sans-Serif\" font-size=\"14.00\" fill=\"#000000\">samples = 1</text>\n<text text-anchor=\"start\" x=\"1144\" y=\"-302.3\" font-family=\"Helvetica,sans-Serif\" font-size=\"14.00\" fill=\"#000000\">value = [1, 0]</text>\n</g>\n<!-- 41&#45;&gt;43 -->\n<g id=\"edge43\" class=\"edge\">\n<title>41&#45;&gt;43</title>\n<path fill=\"none\" stroke=\"#000000\" d=\"M1106.1636,-388.8089C1118.998,-377.8393 1133.3715,-365.5543 1146.3219,-354.4855\"/>\n<polygon fill=\"#000000\" stroke=\"#000000\" points=\"1148.8473,-356.9314 1154.175,-347.7735 1144.2992,-351.6101 1148.8473,-356.9314\"/>\n</g>\n<!-- 45 -->\n<g id=\"node46\" class=\"node\">\n<title>45</title>\n<path fill=\"#c4e2f7\" stroke=\"#000000\" d=\"M1286,-553C1286,-553 1203,-553 1203,-553 1197,-553 1191,-547 1191,-541 1191,-541 1191,-501 1191,-501 1191,-495 1197,-489 1203,-489 1203,-489 1286,-489 1286,-489 1292,-489 1298,-495 1298,-501 1298,-501 1298,-541 1298,-541 1298,-547 1292,-553 1286,-553\"/>\n<text text-anchor=\"start\" x=\"1218\" y=\"-538.8\" font-family=\"Helvetica,sans-Serif\" font-size=\"14.00\" fill=\"#000000\">X</text>\n<text text-anchor=\"start\" x=\"1228\" y=\"-538.8\" font-family=\"Helvetica,sans-Serif\" baseline-shift=\"sub\" font-size=\"14.00\" fill=\"#000000\">9</text>\n<text text-anchor=\"start\" x=\"1235\" y=\"-538.8\" font-family=\"Helvetica,sans-Serif\" font-size=\"14.00\" fill=\"#000000\"> ≤ 0.5</text>\n<text text-anchor=\"start\" x=\"1206.5\" y=\"-524.8\" font-family=\"Helvetica,sans-Serif\" font-size=\"14.00\" fill=\"#000000\">gini = 0.484</text>\n<text text-anchor=\"start\" x=\"1200.5\" y=\"-510.8\" font-family=\"Helvetica,sans-Serif\" font-size=\"14.00\" fill=\"#000000\">samples = 17</text>\n<text text-anchor=\"start\" x=\"1199\" y=\"-496.8\" font-family=\"Helvetica,sans-Serif\" font-size=\"14.00\" fill=\"#000000\">value = [7, 10]</text>\n</g>\n<!-- 44&#45;&gt;45 -->\n<g id=\"edge45\" class=\"edge\">\n<title>44&#45;&gt;45</title>\n<path fill=\"none\" stroke=\"#000000\" d=\"M1244.5,-588.8089C1244.5,-580.6906 1244.5,-571.8517 1244.5,-563.3186\"/>\n<polygon fill=\"#000000\" stroke=\"#000000\" points=\"1248.0001,-563.1307 1244.5,-553.1308 1241.0001,-563.1308 1248.0001,-563.1307\"/>\n</g>\n<!-- 56 -->\n<g id=\"node57\" class=\"node\">\n<title>56</title>\n<path fill=\"#eb9e67\" stroke=\"#000000\" d=\"M1471,-553C1471,-553 1388,-553 1388,-553 1382,-553 1376,-547 1376,-541 1376,-541 1376,-501 1376,-501 1376,-495 1382,-489 1388,-489 1388,-489 1471,-489 1471,-489 1477,-489 1483,-495 1483,-501 1483,-501 1483,-541 1483,-541 1483,-547 1477,-553 1471,-553\"/>\n<text text-anchor=\"start\" x=\"1395\" y=\"-538.8\" font-family=\"Helvetica,sans-Serif\" font-size=\"14.00\" fill=\"#000000\">X</text>\n<text text-anchor=\"start\" x=\"1405\" y=\"-538.8\" font-family=\"Helvetica,sans-Serif\" baseline-shift=\"sub\" font-size=\"14.00\" fill=\"#000000\">0</text>\n<text text-anchor=\"start\" x=\"1412\" y=\"-538.8\" font-family=\"Helvetica,sans-Serif\" font-size=\"14.00\" fill=\"#000000\"> ≤ 0.591</text>\n<text text-anchor=\"start\" x=\"1391.5\" y=\"-524.8\" font-family=\"Helvetica,sans-Serif\" font-size=\"14.00\" fill=\"#000000\">gini = 0.305</text>\n<text text-anchor=\"start\" x=\"1385.5\" y=\"-510.8\" font-family=\"Helvetica,sans-Serif\" font-size=\"14.00\" fill=\"#000000\">samples = 16</text>\n<text text-anchor=\"start\" x=\"1384\" y=\"-496.8\" font-family=\"Helvetica,sans-Serif\" font-size=\"14.00\" fill=\"#000000\">value = [13, 3]</text>\n</g>\n<!-- 44&#45;&gt;56 -->\n<g id=\"edge56\" class=\"edge\">\n<title>44&#45;&gt;56</title>\n<path fill=\"none\" stroke=\"#000000\" d=\"M1302.5276,-589.6337C1322.9272,-578.6069 1345.9371,-566.1691 1366.7104,-554.9403\"/>\n<polygon fill=\"#000000\" stroke=\"#000000\" points=\"1368.6372,-557.8774 1375.77,-550.0432 1365.3086,-551.7195 1368.6372,-557.8774\"/>\n</g>\n<!-- 46 -->\n<g id=\"node47\" class=\"node\">\n<title>46</title>\n<path fill=\"#399de5\" stroke=\"#000000\" d=\"M1223,-447.5C1223,-447.5 1148,-447.5 1148,-447.5 1142,-447.5 1136,-441.5 1136,-435.5 1136,-435.5 1136,-406.5 1136,-406.5 1136,-400.5 1142,-394.5 1148,-394.5 1148,-394.5 1223,-394.5 1223,-394.5 1229,-394.5 1235,-400.5 1235,-406.5 1235,-406.5 1235,-435.5 1235,-435.5 1235,-441.5 1229,-447.5 1223,-447.5\"/>\n<text text-anchor=\"start\" x=\"1156\" y=\"-432.3\" font-family=\"Helvetica,sans-Serif\" font-size=\"14.00\" fill=\"#000000\">gini = 0.0</text>\n<text text-anchor=\"start\" x=\"1146\" y=\"-417.3\" font-family=\"Helvetica,sans-Serif\" font-size=\"14.00\" fill=\"#000000\">samples = 5</text>\n<text text-anchor=\"start\" x=\"1144\" y=\"-402.3\" font-family=\"Helvetica,sans-Serif\" font-size=\"14.00\" fill=\"#000000\">value = [0, 5]</text>\n</g>\n<!-- 45&#45;&gt;46 -->\n<g id=\"edge46\" class=\"edge\">\n<title>45&#45;&gt;46</title>\n<path fill=\"none\" stroke=\"#000000\" d=\"M1225.5073,-488.8089C1219.4626,-478.5638 1212.7409,-467.1711 1206.5592,-456.6936\"/>\n<polygon fill=\"#000000\" stroke=\"#000000\" points=\"1209.3924,-454.6077 1201.2964,-447.7735 1203.3635,-458.1648 1209.3924,-454.6077\"/>\n</g>\n<!-- 47 -->\n<g id=\"node48\" class=\"node\">\n<title>47</title>\n<path fill=\"#f8dbc6\" stroke=\"#000000\" d=\"M1345.5,-453C1345.5,-453 1265.5,-453 1265.5,-453 1259.5,-453 1253.5,-447 1253.5,-441 1253.5,-441 1253.5,-401 1253.5,-401 1253.5,-395 1259.5,-389 1265.5,-389 1265.5,-389 1345.5,-389 1345.5,-389 1351.5,-389 1357.5,-395 1357.5,-401 1357.5,-401 1357.5,-441 1357.5,-441 1357.5,-447 1351.5,-453 1345.5,-453\"/>\n<text text-anchor=\"start\" x=\"1271\" y=\"-438.8\" font-family=\"Helvetica,sans-Serif\" font-size=\"14.00\" fill=\"#000000\">X</text>\n<text text-anchor=\"start\" x=\"1281\" y=\"-438.8\" font-family=\"Helvetica,sans-Serif\" baseline-shift=\"sub\" font-size=\"14.00\" fill=\"#000000\">4</text>\n<text text-anchor=\"start\" x=\"1288\" y=\"-438.8\" font-family=\"Helvetica,sans-Serif\" font-size=\"14.00\" fill=\"#000000\"> ≤ 0.129</text>\n<text text-anchor=\"start\" x=\"1267.5\" y=\"-424.8\" font-family=\"Helvetica,sans-Serif\" font-size=\"14.00\" fill=\"#000000\">gini = 0.486</text>\n<text text-anchor=\"start\" x=\"1261.5\" y=\"-410.8\" font-family=\"Helvetica,sans-Serif\" font-size=\"14.00\" fill=\"#000000\">samples = 12</text>\n<text text-anchor=\"start\" x=\"1264\" y=\"-396.8\" font-family=\"Helvetica,sans-Serif\" font-size=\"14.00\" fill=\"#000000\">value = [7, 5]</text>\n</g>\n<!-- 45&#45;&gt;47 -->\n<g id=\"edge47\" class=\"edge\">\n<title>45&#45;&gt;47</title>\n<path fill=\"none\" stroke=\"#000000\" d=\"M1264.1366,-488.8089C1269.3608,-480.2445 1275.0743,-470.8782 1280.5418,-461.915\"/>\n<polygon fill=\"#000000\" stroke=\"#000000\" points=\"1283.6806,-463.4905 1285.9002,-453.1308 1277.7046,-459.8451 1283.6806,-463.4905\"/>\n</g>\n<!-- 48 -->\n<g id=\"node49\" class=\"node\">\n<title>48</title>\n<path fill=\"#399de5\" stroke=\"#000000\" d=\"M1341,-347.5C1341,-347.5 1266,-347.5 1266,-347.5 1260,-347.5 1254,-341.5 1254,-335.5 1254,-335.5 1254,-306.5 1254,-306.5 1254,-300.5 1260,-294.5 1266,-294.5 1266,-294.5 1341,-294.5 1341,-294.5 1347,-294.5 1353,-300.5 1353,-306.5 1353,-306.5 1353,-335.5 1353,-335.5 1353,-341.5 1347,-347.5 1341,-347.5\"/>\n<text text-anchor=\"start\" x=\"1274\" y=\"-332.3\" font-family=\"Helvetica,sans-Serif\" font-size=\"14.00\" fill=\"#000000\">gini = 0.0</text>\n<text text-anchor=\"start\" x=\"1264\" y=\"-317.3\" font-family=\"Helvetica,sans-Serif\" font-size=\"14.00\" fill=\"#000000\">samples = 2</text>\n<text text-anchor=\"start\" x=\"1262\" y=\"-302.3\" font-family=\"Helvetica,sans-Serif\" font-size=\"14.00\" fill=\"#000000\">value = [0, 2]</text>\n</g>\n<!-- 47&#45;&gt;48 -->\n<g id=\"edge48\" class=\"edge\">\n<title>47&#45;&gt;48</title>\n<path fill=\"none\" stroke=\"#000000\" d=\"M1304.8562,-388.8089C1304.6596,-378.9777 1304.4418,-368.0898 1304.2394,-357.9679\"/>\n<polygon fill=\"#000000\" stroke=\"#000000\" points=\"1307.7348,-357.7015 1304.0355,-347.7735 1300.7362,-357.8415 1307.7348,-357.7015\"/>\n</g>\n<!-- 49 -->\n<g id=\"node50\" class=\"node\">\n<title>49</title>\n<path fill=\"#f0b78e\" stroke=\"#000000\" d=\"M1463.5,-353C1463.5,-353 1383.5,-353 1383.5,-353 1377.5,-353 1371.5,-347 1371.5,-341 1371.5,-341 1371.5,-301 1371.5,-301 1371.5,-295 1377.5,-289 1383.5,-289 1383.5,-289 1463.5,-289 1463.5,-289 1469.5,-289 1475.5,-295 1475.5,-301 1475.5,-301 1475.5,-341 1475.5,-341 1475.5,-347 1469.5,-353 1463.5,-353\"/>\n<text text-anchor=\"start\" x=\"1397\" y=\"-338.8\" font-family=\"Helvetica,sans-Serif\" font-size=\"14.00\" fill=\"#000000\">X</text>\n<text text-anchor=\"start\" x=\"1407\" y=\"-338.8\" font-family=\"Helvetica,sans-Serif\" baseline-shift=\"sub\" font-size=\"14.00\" fill=\"#000000\">1</text>\n<text text-anchor=\"start\" x=\"1414\" y=\"-338.8\" font-family=\"Helvetica,sans-Serif\" font-size=\"14.00\" fill=\"#000000\"> ≤ 0.5</text>\n<text text-anchor=\"start\" x=\"1390\" y=\"-324.8\" font-family=\"Helvetica,sans-Serif\" font-size=\"14.00\" fill=\"#000000\">gini = 0.42</text>\n<text text-anchor=\"start\" x=\"1379.5\" y=\"-310.8\" font-family=\"Helvetica,sans-Serif\" font-size=\"14.00\" fill=\"#000000\">samples = 10</text>\n<text text-anchor=\"start\" x=\"1382\" y=\"-296.8\" font-family=\"Helvetica,sans-Serif\" font-size=\"14.00\" fill=\"#000000\">value = [7, 3]</text>\n</g>\n<!-- 47&#45;&gt;49 -->\n<g id=\"edge49\" class=\"edge\">\n<title>47&#45;&gt;49</title>\n<path fill=\"none\" stroke=\"#000000\" d=\"M1343.4855,-388.8089C1354.4336,-379.5308 1366.4923,-369.3116 1377.8537,-359.6833\"/>\n<polygon fill=\"#000000\" stroke=\"#000000\" points=\"1380.2196,-362.2662 1385.5857,-353.1308 1375.6939,-356.9259 1380.2196,-362.2662\"/>\n</g>\n<!-- 50 -->\n<g id=\"node51\" class=\"node\">\n<title>50</title>\n<path fill=\"#e58139\" stroke=\"#000000\" d=\"M1402,-247.5C1402,-247.5 1327,-247.5 1327,-247.5 1321,-247.5 1315,-241.5 1315,-235.5 1315,-235.5 1315,-206.5 1315,-206.5 1315,-200.5 1321,-194.5 1327,-194.5 1327,-194.5 1402,-194.5 1402,-194.5 1408,-194.5 1414,-200.5 1414,-206.5 1414,-206.5 1414,-235.5 1414,-235.5 1414,-241.5 1408,-247.5 1402,-247.5\"/>\n<text text-anchor=\"start\" x=\"1335\" y=\"-232.3\" font-family=\"Helvetica,sans-Serif\" font-size=\"14.00\" fill=\"#000000\">gini = 0.0</text>\n<text text-anchor=\"start\" x=\"1325\" y=\"-217.3\" font-family=\"Helvetica,sans-Serif\" font-size=\"14.00\" fill=\"#000000\">samples = 5</text>\n<text text-anchor=\"start\" x=\"1323\" y=\"-202.3\" font-family=\"Helvetica,sans-Serif\" font-size=\"14.00\" fill=\"#000000\">value = [5, 0]</text>\n</g>\n<!-- 49&#45;&gt;50 -->\n<g id=\"edge50\" class=\"edge\">\n<title>49&#45;&gt;50</title>\n<path fill=\"none\" stroke=\"#000000\" d=\"M1404.5073,-288.8089C1398.4626,-278.5638 1391.7409,-267.1711 1385.5592,-256.6936\"/>\n<polygon fill=\"#000000\" stroke=\"#000000\" points=\"1388.3924,-254.6077 1380.2964,-247.7735 1382.3635,-258.1648 1388.3924,-254.6077\"/>\n</g>\n<!-- 51 -->\n<g id=\"node52\" class=\"node\">\n<title>51</title>\n<path fill=\"#bddef6\" stroke=\"#000000\" d=\"M1519,-253C1519,-253 1444,-253 1444,-253 1438,-253 1432,-247 1432,-241 1432,-241 1432,-201 1432,-201 1432,-195 1438,-189 1444,-189 1444,-189 1519,-189 1519,-189 1525,-189 1531,-195 1531,-201 1531,-201 1531,-241 1531,-241 1531,-247 1525,-253 1519,-253\"/>\n<text text-anchor=\"start\" x=\"1447\" y=\"-238.8\" font-family=\"Helvetica,sans-Serif\" font-size=\"14.00\" fill=\"#000000\">X</text>\n<text text-anchor=\"start\" x=\"1457\" y=\"-238.8\" font-family=\"Helvetica,sans-Serif\" baseline-shift=\"sub\" font-size=\"14.00\" fill=\"#000000\">2</text>\n<text text-anchor=\"start\" x=\"1464\" y=\"-238.8\" font-family=\"Helvetica,sans-Serif\" font-size=\"14.00\" fill=\"#000000\"> ≤ 0.022</text>\n<text text-anchor=\"start\" x=\"1448\" y=\"-224.8\" font-family=\"Helvetica,sans-Serif\" font-size=\"14.00\" fill=\"#000000\">gini = 0.48</text>\n<text text-anchor=\"start\" x=\"1442\" y=\"-210.8\" font-family=\"Helvetica,sans-Serif\" font-size=\"14.00\" fill=\"#000000\">samples = 5</text>\n<text text-anchor=\"start\" x=\"1440\" y=\"-196.8\" font-family=\"Helvetica,sans-Serif\" font-size=\"14.00\" fill=\"#000000\">value = [2, 3]</text>\n</g>\n<!-- 49&#45;&gt;51 -->\n<g id=\"edge51\" class=\"edge\">\n<title>49&#45;&gt;51</title>\n<path fill=\"none\" stroke=\"#000000\" d=\"M1442.1708,-288.8089C1447.1382,-280.2445 1452.5706,-270.8782 1457.7693,-261.915\"/>\n<polygon fill=\"#000000\" stroke=\"#000000\" points=\"1460.8745,-263.5371 1462.8642,-253.1308 1454.8193,-260.0251 1460.8745,-263.5371\"/>\n</g>\n<!-- 52 -->\n<g id=\"node53\" class=\"node\">\n<title>52</title>\n<path fill=\"#399de5\" stroke=\"#000000\" d=\"M1460,-147.5C1460,-147.5 1385,-147.5 1385,-147.5 1379,-147.5 1373,-141.5 1373,-135.5 1373,-135.5 1373,-106.5 1373,-106.5 1373,-100.5 1379,-94.5 1385,-94.5 1385,-94.5 1460,-94.5 1460,-94.5 1466,-94.5 1472,-100.5 1472,-106.5 1472,-106.5 1472,-135.5 1472,-135.5 1472,-141.5 1466,-147.5 1460,-147.5\"/>\n<text text-anchor=\"start\" x=\"1393\" y=\"-132.3\" font-family=\"Helvetica,sans-Serif\" font-size=\"14.00\" fill=\"#000000\">gini = 0.0</text>\n<text text-anchor=\"start\" x=\"1383\" y=\"-117.3\" font-family=\"Helvetica,sans-Serif\" font-size=\"14.00\" fill=\"#000000\">samples = 2</text>\n<text text-anchor=\"start\" x=\"1381\" y=\"-102.3\" font-family=\"Helvetica,sans-Serif\" font-size=\"14.00\" fill=\"#000000\">value = [0, 2]</text>\n</g>\n<!-- 51&#45;&gt;52 -->\n<g id=\"edge52\" class=\"edge\">\n<title>51&#45;&gt;52</title>\n<path fill=\"none\" stroke=\"#000000\" d=\"M1462.5073,-188.8089C1456.4626,-178.5638 1449.7409,-167.1711 1443.5592,-156.6936\"/>\n<polygon fill=\"#000000\" stroke=\"#000000\" points=\"1446.3924,-154.6077 1438.2964,-147.7735 1440.3635,-158.1648 1446.3924,-154.6077\"/>\n</g>\n<!-- 53 -->\n<g id=\"node54\" class=\"node\">\n<title>53</title>\n<path fill=\"#f2c09c\" stroke=\"#000000\" d=\"M1577,-153C1577,-153 1502,-153 1502,-153 1496,-153 1490,-147 1490,-141 1490,-141 1490,-101 1490,-101 1490,-95 1496,-89 1502,-89 1502,-89 1577,-89 1577,-89 1583,-89 1589,-95 1589,-101 1589,-101 1589,-141 1589,-141 1589,-147 1583,-153 1577,-153\"/>\n<text text-anchor=\"start\" x=\"1505\" y=\"-138.8\" font-family=\"Helvetica,sans-Serif\" font-size=\"14.00\" fill=\"#000000\">X</text>\n<text text-anchor=\"start\" x=\"1515\" y=\"-138.8\" font-family=\"Helvetica,sans-Serif\" baseline-shift=\"sub\" font-size=\"14.00\" fill=\"#000000\">4</text>\n<text text-anchor=\"start\" x=\"1522\" y=\"-138.8\" font-family=\"Helvetica,sans-Serif\" font-size=\"14.00\" fill=\"#000000\"> ≤ 0.205</text>\n<text text-anchor=\"start\" x=\"1501.5\" y=\"-124.8\" font-family=\"Helvetica,sans-Serif\" font-size=\"14.00\" fill=\"#000000\">gini = 0.444</text>\n<text text-anchor=\"start\" x=\"1500\" y=\"-110.8\" font-family=\"Helvetica,sans-Serif\" font-size=\"14.00\" fill=\"#000000\">samples = 3</text>\n<text text-anchor=\"start\" x=\"1498\" y=\"-96.8\" font-family=\"Helvetica,sans-Serif\" font-size=\"14.00\" fill=\"#000000\">value = [2, 1]</text>\n</g>\n<!-- 51&#45;&gt;53 -->\n<g id=\"edge53\" class=\"edge\">\n<title>51&#45;&gt;53</title>\n<path fill=\"none\" stroke=\"#000000\" d=\"M1500.1708,-188.8089C1505.1382,-180.2445 1510.5706,-170.8782 1515.7693,-161.915\"/>\n<polygon fill=\"#000000\" stroke=\"#000000\" points=\"1518.8745,-163.5371 1520.8642,-153.1308 1512.8193,-160.0251 1518.8745,-163.5371\"/>\n</g>\n<!-- 54 -->\n<g id=\"node55\" class=\"node\">\n<title>54</title>\n<path fill=\"#e58139\" stroke=\"#000000\" d=\"M1518,-53C1518,-53 1443,-53 1443,-53 1437,-53 1431,-47 1431,-41 1431,-41 1431,-12 1431,-12 1431,-6 1437,0 1443,0 1443,0 1518,0 1518,0 1524,0 1530,-6 1530,-12 1530,-12 1530,-41 1530,-41 1530,-47 1524,-53 1518,-53\"/>\n<text text-anchor=\"start\" x=\"1451\" y=\"-37.8\" font-family=\"Helvetica,sans-Serif\" font-size=\"14.00\" fill=\"#000000\">gini = 0.0</text>\n<text text-anchor=\"start\" x=\"1441\" y=\"-22.8\" font-family=\"Helvetica,sans-Serif\" font-size=\"14.00\" fill=\"#000000\">samples = 2</text>\n<text text-anchor=\"start\" x=\"1439\" y=\"-7.8\" font-family=\"Helvetica,sans-Serif\" font-size=\"14.00\" fill=\"#000000\">value = [2, 0]</text>\n</g>\n<!-- 53&#45;&gt;54 -->\n<g id=\"edge54\" class=\"edge\">\n<title>53&#45;&gt;54</title>\n<path fill=\"none\" stroke=\"#000000\" d=\"M1519.3606,-88.7428C1513.9526,-80.0809 1508.0764,-70.669 1502.5697,-61.849\"/>\n<polygon fill=\"#000000\" stroke=\"#000000\" points=\"1505.4821,-59.9048 1497.2172,-53.2759 1499.5443,-63.612 1505.4821,-59.9048\"/>\n</g>\n<!-- 55 -->\n<g id=\"node56\" class=\"node\">\n<title>55</title>\n<path fill=\"#399de5\" stroke=\"#000000\" d=\"M1635,-53C1635,-53 1560,-53 1560,-53 1554,-53 1548,-47 1548,-41 1548,-41 1548,-12 1548,-12 1548,-6 1554,0 1560,0 1560,0 1635,0 1635,0 1641,0 1647,-6 1647,-12 1647,-12 1647,-41 1647,-41 1647,-47 1641,-53 1635,-53\"/>\n<text text-anchor=\"start\" x=\"1568\" y=\"-37.8\" font-family=\"Helvetica,sans-Serif\" font-size=\"14.00\" fill=\"#000000\">gini = 0.0</text>\n<text text-anchor=\"start\" x=\"1558\" y=\"-22.8\" font-family=\"Helvetica,sans-Serif\" font-size=\"14.00\" fill=\"#000000\">samples = 1</text>\n<text text-anchor=\"start\" x=\"1556\" y=\"-7.8\" font-family=\"Helvetica,sans-Serif\" font-size=\"14.00\" fill=\"#000000\">value = [0, 1]</text>\n</g>\n<!-- 53&#45;&gt;55 -->\n<g id=\"edge55\" class=\"edge\">\n<title>53&#45;&gt;55</title>\n<path fill=\"none\" stroke=\"#000000\" d=\"M1559.2981,-88.7428C1564.6144,-80.0809 1570.391,-70.669 1575.8043,-61.849\"/>\n<polygon fill=\"#000000\" stroke=\"#000000\" points=\"1578.8182,-63.6295 1581.0661,-53.2759 1572.8522,-59.9678 1578.8182,-63.6295\"/>\n</g>\n<!-- 57 -->\n<g id=\"node58\" class=\"node\">\n<title>57</title>\n<path fill=\"#e58139\" stroke=\"#000000\" d=\"M1471,-447.5C1471,-447.5 1388,-447.5 1388,-447.5 1382,-447.5 1376,-441.5 1376,-435.5 1376,-435.5 1376,-406.5 1376,-406.5 1376,-400.5 1382,-394.5 1388,-394.5 1388,-394.5 1471,-394.5 1471,-394.5 1477,-394.5 1483,-400.5 1483,-406.5 1483,-406.5 1483,-435.5 1483,-435.5 1483,-441.5 1477,-447.5 1471,-447.5\"/>\n<text text-anchor=\"start\" x=\"1400\" y=\"-432.3\" font-family=\"Helvetica,sans-Serif\" font-size=\"14.00\" fill=\"#000000\">gini = 0.0</text>\n<text text-anchor=\"start\" x=\"1385.5\" y=\"-417.3\" font-family=\"Helvetica,sans-Serif\" font-size=\"14.00\" fill=\"#000000\">samples = 11</text>\n<text text-anchor=\"start\" x=\"1384\" y=\"-402.3\" font-family=\"Helvetica,sans-Serif\" font-size=\"14.00\" fill=\"#000000\">value = [11, 0]</text>\n</g>\n<!-- 56&#45;&gt;57 -->\n<g id=\"edge57\" class=\"edge\">\n<title>56&#45;&gt;57</title>\n<path fill=\"none\" stroke=\"#000000\" d=\"M1429.5,-488.8089C1429.5,-478.9777 1429.5,-468.0898 1429.5,-457.9679\"/>\n<polygon fill=\"#000000\" stroke=\"#000000\" points=\"1433.0001,-457.7735 1429.5,-447.7735 1426.0001,-457.7736 1433.0001,-457.7735\"/>\n</g>\n<!-- 58 -->\n<g id=\"node59\" class=\"node\">\n<title>58</title>\n<path fill=\"#bddef6\" stroke=\"#000000\" d=\"M1588,-453C1588,-453 1513,-453 1513,-453 1507,-453 1501,-447 1501,-441 1501,-441 1501,-401 1501,-401 1501,-395 1507,-389 1513,-389 1513,-389 1588,-389 1588,-389 1594,-389 1600,-395 1600,-401 1600,-401 1600,-441 1600,-441 1600,-447 1594,-453 1588,-453\"/>\n<text text-anchor=\"start\" x=\"1516\" y=\"-438.8\" font-family=\"Helvetica,sans-Serif\" font-size=\"14.00\" fill=\"#000000\">X</text>\n<text text-anchor=\"start\" x=\"1526\" y=\"-438.8\" font-family=\"Helvetica,sans-Serif\" baseline-shift=\"sub\" font-size=\"14.00\" fill=\"#000000\">4</text>\n<text text-anchor=\"start\" x=\"1533\" y=\"-438.8\" font-family=\"Helvetica,sans-Serif\" font-size=\"14.00\" fill=\"#000000\"> ≤ 0.508</text>\n<text text-anchor=\"start\" x=\"1517\" y=\"-424.8\" font-family=\"Helvetica,sans-Serif\" font-size=\"14.00\" fill=\"#000000\">gini = 0.48</text>\n<text text-anchor=\"start\" x=\"1511\" y=\"-410.8\" font-family=\"Helvetica,sans-Serif\" font-size=\"14.00\" fill=\"#000000\">samples = 5</text>\n<text text-anchor=\"start\" x=\"1509\" y=\"-396.8\" font-family=\"Helvetica,sans-Serif\" font-size=\"14.00\" fill=\"#000000\">value = [2, 3]</text>\n</g>\n<!-- 56&#45;&gt;58 -->\n<g id=\"edge58\" class=\"edge\">\n<title>56&#45;&gt;58</title>\n<path fill=\"none\" stroke=\"#000000\" d=\"M1468.4512,-488.8089C1479.6777,-479.5308 1492.0429,-469.3116 1503.6932,-459.6833\"/>\n<polygon fill=\"#000000\" stroke=\"#000000\" points=\"1506.1432,-462.1992 1511.6218,-453.1308 1501.6838,-456.8034 1506.1432,-462.1992\"/>\n</g>\n<!-- 59 -->\n<g id=\"node60\" class=\"node\">\n<title>59</title>\n<path fill=\"#399de5\" stroke=\"#000000\" d=\"M1585,-347.5C1585,-347.5 1510,-347.5 1510,-347.5 1504,-347.5 1498,-341.5 1498,-335.5 1498,-335.5 1498,-306.5 1498,-306.5 1498,-300.5 1504,-294.5 1510,-294.5 1510,-294.5 1585,-294.5 1585,-294.5 1591,-294.5 1597,-300.5 1597,-306.5 1597,-306.5 1597,-335.5 1597,-335.5 1597,-341.5 1591,-347.5 1585,-347.5\"/>\n<text text-anchor=\"start\" x=\"1518\" y=\"-332.3\" font-family=\"Helvetica,sans-Serif\" font-size=\"14.00\" fill=\"#000000\">gini = 0.0</text>\n<text text-anchor=\"start\" x=\"1508\" y=\"-317.3\" font-family=\"Helvetica,sans-Serif\" font-size=\"14.00\" fill=\"#000000\">samples = 3</text>\n<text text-anchor=\"start\" x=\"1506\" y=\"-302.3\" font-family=\"Helvetica,sans-Serif\" font-size=\"14.00\" fill=\"#000000\">value = [0, 3]</text>\n</g>\n<!-- 58&#45;&gt;59 -->\n<g id=\"edge59\" class=\"edge\">\n<title>58&#45;&gt;59</title>\n<path fill=\"none\" stroke=\"#000000\" d=\"M1549.5343,-388.8089C1549.2393,-378.9777 1548.9127,-368.0898 1548.609,-357.9679\"/>\n<polygon fill=\"#000000\" stroke=\"#000000\" points=\"1552.1016,-357.664 1548.3032,-347.7735 1545.1047,-357.874 1552.1016,-357.664\"/>\n</g>\n<!-- 60 -->\n<g id=\"node61\" class=\"node\">\n<title>60</title>\n<path fill=\"#e58139\" stroke=\"#000000\" d=\"M1702,-347.5C1702,-347.5 1627,-347.5 1627,-347.5 1621,-347.5 1615,-341.5 1615,-335.5 1615,-335.5 1615,-306.5 1615,-306.5 1615,-300.5 1621,-294.5 1627,-294.5 1627,-294.5 1702,-294.5 1702,-294.5 1708,-294.5 1714,-300.5 1714,-306.5 1714,-306.5 1714,-335.5 1714,-335.5 1714,-341.5 1708,-347.5 1702,-347.5\"/>\n<text text-anchor=\"start\" x=\"1635\" y=\"-332.3\" font-family=\"Helvetica,sans-Serif\" font-size=\"14.00\" fill=\"#000000\">gini = 0.0</text>\n<text text-anchor=\"start\" x=\"1625\" y=\"-317.3\" font-family=\"Helvetica,sans-Serif\" font-size=\"14.00\" fill=\"#000000\">samples = 2</text>\n<text text-anchor=\"start\" x=\"1623\" y=\"-302.3\" font-family=\"Helvetica,sans-Serif\" font-size=\"14.00\" fill=\"#000000\">value = [2, 0]</text>\n</g>\n<!-- 58&#45;&gt;60 -->\n<g id=\"edge60\" class=\"edge\">\n<title>58&#45;&gt;60</title>\n<path fill=\"none\" stroke=\"#000000\" d=\"M1587.1978,-388.8089C1599.7031,-377.8393 1613.7081,-365.5543 1626.3265,-354.4855\"/>\n<polygon fill=\"#000000\" stroke=\"#000000\" points=\"1628.7686,-356.9991 1633.9782,-347.7735 1624.1525,-351.7368 1628.7686,-356.9991\"/>\n</g>\n</g>\n</svg>\n"
          },
          "metadata": {
            "tags": []
          },
          "execution_count": 77
        }
      ]
    },
    {
      "cell_type": "code",
      "metadata": {
        "colab": {
          "base_uri": "https://localhost:8080/"
        },
        "id": "Kv6exOpRTB4C",
        "outputId": "ab6f4135-eba3-4ffa-fe7b-ab4e50ba0a1b"
      },
      "source": [
        "clf = DecisionTreeClassifier(criterion='gini', max_depth=3,\n",
        "min_samples_split=3, min_samples_leaf=1, max_features=None,\n",
        "max_leaf_nodes=None)\n",
        "fit = clf.fit(X_train, y_train)\n",
        "\n",
        "predicted = fit.predict(X_test)\n",
        "cm = confusion_matrix(y_test, predicted)\n",
        "print(clf.score(X_test,y_test))\n",
        "print(\"\\n\")\n",
        "print(classification_report(y_test,predicted))"
      ],
      "execution_count": null,
      "outputs": [
        {
          "output_type": "stream",
          "text": [
            "0.8888888888888888\n",
            "\n",
            "\n",
            "              precision    recall  f1-score   support\n",
            "\n",
            "           0       0.88      0.97      0.92        62\n",
            "           1       0.91      0.71      0.80        28\n",
            "\n",
            "    accuracy                           0.89        90\n",
            "   macro avg       0.90      0.84      0.86        90\n",
            "weighted avg       0.89      0.89      0.88        90\n",
            "\n"
          ],
          "name": "stdout"
        }
      ]
    },
    {
      "cell_type": "code",
      "metadata": {
        "colab": {
          "base_uri": "https://localhost:8080/"
        },
        "id": "FgFzRD6hUDL3",
        "outputId": "6d44d608-d8e5-45cb-d6bd-a1b80493367f"
      },
      "source": [
        "clf = DecisionTreeClassifier(criterion='gini', max_depth=3,\n",
        "min_samples_split=4, min_samples_leaf=1, max_features=None,\n",
        "max_leaf_nodes=None)\n",
        "fit = clf.fit(X_train, y_train)\n",
        "\n",
        "predicted = fit.predict(X_test)\n",
        "cm = confusion_matrix(y_test, predicted)\n",
        "print(clf.score(X_test,y_test))\n",
        "print(\"\\n\")\n",
        "print(classification_report(y_test,predicted))"
      ],
      "execution_count": null,
      "outputs": [
        {
          "output_type": "stream",
          "text": [
            "0.8888888888888888\n",
            "\n",
            "\n",
            "              precision    recall  f1-score   support\n",
            "\n",
            "           0       0.88      0.97      0.92        62\n",
            "           1       0.91      0.71      0.80        28\n",
            "\n",
            "    accuracy                           0.89        90\n",
            "   macro avg       0.90      0.84      0.86        90\n",
            "weighted avg       0.89      0.89      0.88        90\n",
            "\n"
          ],
          "name": "stdout"
        }
      ]
    },
    {
      "cell_type": "code",
      "metadata": {
        "id": "EgwF8Mb5XBJA"
      },
      "source": [
        "from sklearn import tree\n",
        "with open('breast_cancer.dot', 'w') as f:\n",
        "#f =  out_file= ftree.export_graphviz(clf, out_file= ffilled=True,rounded=True,special_characters=True)"
      ],
      "execution_count": null,
      "outputs": []
    },
    {
      "cell_type": "code",
      "metadata": {
        "id": "3MwkDFLFUe2I",
        "colab": {
          "base_uri": "https://localhost:8080/"
        },
        "outputId": "29ead47a-884d-4346-a850-6651ba665090"
      },
      "source": [
        "clf = DecisionTreeClassifier(criterion='gini', max_depth=3,\n",
        "min_samples_split=8, min_samples_leaf=1, max_features=None,\n",
        "max_leaf_nodes=None)\n",
        "fit = clf.fit(X_train, y_train)\n",
        "\n",
        "predicted = fit.predict(X_test)\n",
        "cm = confusion_matrix(y_test, predicted)\n",
        "print(clf.score(X_test,y_test))\n",
        "print(\"\\n\")\n",
        "print(classification_report(y_test,predicted))"
      ],
      "execution_count": null,
      "outputs": [
        {
          "output_type": "stream",
          "text": [
            "0.8888888888888888\n",
            "\n",
            "\n",
            "              precision    recall  f1-score   support\n",
            "\n",
            "           0       0.88      0.97      0.92        62\n",
            "           1       0.91      0.71      0.80        28\n",
            "\n",
            "    accuracy                           0.89        90\n",
            "   macro avg       0.90      0.84      0.86        90\n",
            "weighted avg       0.89      0.89      0.88        90\n",
            "\n"
          ],
          "name": "stdout"
        }
      ]
    },
    {
      "cell_type": "code",
      "metadata": {
        "colab": {
          "base_uri": "https://localhost:8080/"
        },
        "id": "I19MpIVxVumQ",
        "outputId": "4eda065e-4ed7-480e-a313-9c1670a1a32b"
      },
      "source": [
        "clf = DecisionTreeClassifier(criterion='gini', max_depth=3,\n",
        "min_samples_split=20, min_samples_leaf=1, max_features=None,\n",
        "max_leaf_nodes=None)\n",
        "fit = clf.fit(X_train, y_train)\n",
        "\n",
        "predicted = fit.predict(X_test)\n",
        "cm = confusion_matrix(y_test, predicted)\n",
        "print(clf.score(X_test,y_test))\n",
        "print(\"\\n\")\n",
        "print(classification_report(y_test,predicted))"
      ],
      "execution_count": null,
      "outputs": [
        {
          "output_type": "stream",
          "text": [
            "0.8888888888888888\n",
            "\n",
            "\n",
            "              precision    recall  f1-score   support\n",
            "\n",
            "           0       0.88      0.97      0.92        62\n",
            "           1       0.91      0.71      0.80        28\n",
            "\n",
            "    accuracy                           0.89        90\n",
            "   macro avg       0.90      0.84      0.86        90\n",
            "weighted avg       0.89      0.89      0.88        90\n",
            "\n"
          ],
          "name": "stdout"
        }
      ]
    },
    {
      "cell_type": "code",
      "metadata": {
        "colab": {
          "base_uri": "https://localhost:8080/"
        },
        "id": "tKc_djsLVxbi",
        "outputId": "dba7be98-bbab-4da9-e887-d68176e76dd9"
      },
      "source": [
        "clf = DecisionTreeClassifier(criterion='gini', max_depth=6,\n",
        "min_samples_split=3, min_samples_leaf=1, max_features=None,\n",
        "max_leaf_nodes=None)\n",
        "fit = clf.fit(X_train, y_train)\n",
        "\n",
        "predicted = fit.predict(X_test)\n",
        "cm = confusion_matrix(y_test, predicted)\n",
        "print(clf.score(X_test,y_test))\n",
        "print(\"\\n\")\n",
        "print(classification_report(y_test,predicted))"
      ],
      "execution_count": null,
      "outputs": [
        {
          "output_type": "stream",
          "text": [
            "0.8222222222222222\n",
            "\n",
            "\n",
            "              precision    recall  f1-score   support\n",
            "\n",
            "           0       0.88      0.85      0.87        62\n",
            "           1       0.70      0.75      0.72        28\n",
            "\n",
            "    accuracy                           0.82        90\n",
            "   macro avg       0.79      0.80      0.80        90\n",
            "weighted avg       0.83      0.82      0.82        90\n",
            "\n"
          ],
          "name": "stdout"
        }
      ]
    },
    {
      "cell_type": "code",
      "metadata": {
        "colab": {
          "base_uri": "https://localhost:8080/"
        },
        "id": "fbfnVPSjWVnd",
        "outputId": "ac4eff19-9441-498b-af6e-9d54666d4236"
      },
      "source": [
        "clf = DecisionTreeClassifier(criterion='gini', max_depth=6,\n",
        "min_samples_split=3, min_samples_leaf=1, max_features=None,\n",
        "max_leaf_nodes=None)\n",
        "fit = clf.fit(X_train, y_train)\n",
        "\n",
        "predicted = fit.predict(X_test)\n",
        "cm = confusion_matrix(y_test, predicted)\n",
        "print(clf.score(X_test,y_test))\n",
        "print(\"\\n\")\n",
        "print(classification_report(y_test,predicted))"
      ],
      "execution_count": null,
      "outputs": [
        {
          "output_type": "stream",
          "text": [
            "0.7777777777777778\n",
            "\n",
            "\n",
            "              precision    recall  f1-score   support\n",
            "\n",
            "           0       0.84      0.84      0.84        62\n",
            "           1       0.64      0.64      0.64        28\n",
            "\n",
            "    accuracy                           0.78        90\n",
            "   macro avg       0.74      0.74      0.74        90\n",
            "weighted avg       0.78      0.78      0.78        90\n",
            "\n"
          ],
          "name": "stdout"
        }
      ]
    },
    {
      "cell_type": "code",
      "metadata": {
        "id": "CEjvGWwXWbC0",
        "colab": {
          "base_uri": "https://localhost:8080/"
        },
        "outputId": "d2442302-e44d-49c4-e084-58474639290c"
      },
      "source": [
        "X_train,X_test,y_train,y_test = train_test_split(heart_data.iloc[:,[4,7,11]]\n",
        "                                                 ,heart_data.iloc[:,-1],shuffle=True,random_state=2)\n",
        "\n",
        "clf = DecisionTreeClassifier(criterion='gini', max_depth=4,\n",
        "min_samples_split=4, min_samples_leaf=1, max_features=None,\n",
        "max_leaf_nodes=None)\n",
        "fit = clf.fit(X_train, y_train)\n",
        "\n",
        "predicted = fit.predict(X_test)\n",
        "cm = confusion_matrix(y_test, predicted)\n",
        "print(clf.score(X_test,y_test))\n",
        "print(\"\\n\")\n",
        "print(classification_report(y_test,predicted))"
      ],
      "execution_count": null,
      "outputs": [
        {
          "output_type": "stream",
          "text": [
            "0.9066666666666666\n",
            "\n",
            "\n",
            "              precision    recall  f1-score   support\n",
            "\n",
            "           0       0.93      0.94      0.94        54\n",
            "           1       0.85      0.81      0.83        21\n",
            "\n",
            "    accuracy                           0.91        75\n",
            "   macro avg       0.89      0.88      0.88        75\n",
            "weighted avg       0.91      0.91      0.91        75\n",
            "\n"
          ],
          "name": "stdout"
        }
      ]
    },
    {
      "cell_type": "code",
      "metadata": {
        "id": "-duTGBcMgLRI"
      },
      "source": [
        ""
      ],
      "execution_count": null,
      "outputs": []
    }
  ]
}